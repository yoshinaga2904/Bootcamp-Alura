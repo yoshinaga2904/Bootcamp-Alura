{
  "nbformat": 4,
  "nbformat_minor": 0,
  "metadata": {
    "colab": {
      "name": "Fabio_Yoshinaga_Projeto_modulo_1.ipynb",
      "provenance": [],
      "collapsed_sections": [],
      "toc_visible": true,
      "include_colab_link": true
    },
    "kernelspec": {
      "name": "python3",
      "display_name": "Python 3"
    }
  },
  "cells": [
    {
      "cell_type": "markdown",
      "metadata": {
        "id": "view-in-github",
        "colab_type": "text"
      },
      "source": [
        "<a href=\"https://colab.research.google.com/github/yoshinaga2904/Bootcamp-Alura/blob/main/Fabio_Yoshinaga_Projeto_modulo_1.ipynb\" target=\"_parent\"><img src=\"https://colab.research.google.com/assets/colab-badge.svg\" alt=\"Open In Colab\"/></a>"
      ]
    },
    {
      "cell_type": "code",
      "metadata": {
        "id": "1d73_AD8ObhZ",
        "outputId": "1f934db6-0118-4ff8-ea03-07a6356f3688",
        "colab": {
          "base_uri": "https://localhost:8080/"
        }
      },
      "source": [
        "from google.colab import drive\n",
        "drive.mount('/content/drive')"
      ],
      "execution_count": 1,
      "outputs": [
        {
          "output_type": "stream",
          "text": [
            "Mounted at /content/drive\n"
          ],
          "name": "stdout"
        }
      ]
    },
    {
      "cell_type": "markdown",
      "metadata": {
        "id": "i_PwuJznhm-N"
      },
      "source": [
        "# Apresentação:\n",
        "\n",
        "---\n",
        "Olá Cientistas!\n",
        "\n",
        "Pretendo com as aulas do modulo 1 - Bootcamp Data Science Aplicado, aprender as tecnicas utilizadas por um cientista de dados para os tratamentos de dados e teorias aplicadas. Vou analisar os dados da fonte citada abaixo e demonstrar algumas hipóteses observadas referente a epidemia Covid 19. Então vamos lá... \n"
      ]
    },
    {
      "cell_type": "markdown",
      "metadata": {
        "id": "34heyWHSfgUg"
      },
      "source": [
        "# Base de estudo:\n",
        "\n",
        "---\n",
        "Pesquisa:\n",
        "\n",
        "Secretarias de Saúde das Unidades Federativas, dados tratados por Álvaro Justen e colaboradores/Brasil.IO.\n",
        "\n",
        "*fonte: https://github.com/turicas/covid19-br/blob/master/api.md#casos*\n"
      ]
    },
    {
      "cell_type": "markdown",
      "metadata": {
        "id": "jnR7JD7UmaRw"
      },
      "source": [
        "# Hipótese:\n",
        "\n",
        "####1 - analisar quantidade de casos Registrados de covid 19 por estados UF;\n",
        "\n",
        "####2 - analisar quantidade de casos confirmados de covid 19 por estados UF; \n",
        "\n",
        "####3 - analisar quantidade de mortes pela covid 19 por estados UF; \n",
        "\n",
        "####4 - analisar taxa de mortalidade pela covid 19 por estados UF; \n",
        "\n",
        "####5 - analisar quantidade de casos confirmados pelo covid 19, com a estimativa populacional segundo o IBGE por estados UF; \n",
        "\n",
        "####6 - analisar quantidade de mortes pelo covid 19, com a estimativa populacional segundo o IBGE por estados UF"
      ]
    },
    {
      "cell_type": "markdown",
      "metadata": {
        "id": "CLecexqZEJUI"
      },
      "source": [
        "# Nova seção"
      ]
    },
    {
      "cell_type": "markdown",
      "metadata": {
        "id": "99ynudLcnNn4"
      },
      "source": [
        "# Bibliotecas:\n"
      ]
    },
    {
      "cell_type": "code",
      "metadata": {
        "id": "RZjIusTMxWXT"
      },
      "source": [
        "import pandas as pd\n",
        "import matplotlib.pyplot as plt\n"
      ],
      "execution_count": 2,
      "outputs": []
    },
    {
      "cell_type": "markdown",
      "metadata": {
        "id": "XccknhqdnT9e"
      },
      "source": [
        "# Análise dos Dados: "
      ]
    },
    {
      "cell_type": "markdown",
      "metadata": {
        "id": "WvbrIhWpJUoM"
      },
      "source": [
        "# Documentação da tabela:\n",
        "## Colunas:\n",
        "\n",
        "1. date: data de coleta dos dados no formato YYYY-MM-DD.\n",
        "\n",
        "2. state: sigla da unidade federativa, exemplo: SP.\n",
        "\n",
        "3. city: nome do município (pode estar em branco quando o registro é referente ao estado, pode ser preenchido com Importados/Indefinidos também).\n",
        "\n",
        "4. place_type: tipo de local que esse registro descreve, pode ser city ou state.\n",
        "\n",
        "5. order_for_place: número que identifica a ordem do registro para este local. O registro referente ao primeiro boletim em que esse local aparecer será contabilizado como 1 e os demais boletins incrementarão esse valor.\n",
        "\n",
        "6. is_last: campo pré-computado que diz se esse registro é o mais novo para esse local, pode ser True ou False (caso filtre por esse campo, use is_last=True ou is_last=False, não use o valor em minúsculas).\n",
        "\n",
        "7. city_ibge_code: código IBGE do local.\n",
        "\n",
        "8. confirmed: número de casos confirmados.\n",
        "\n",
        "9. deaths: número de mortes.\n",
        "\n",
        "10. estimated_population: população estimada para esse município/estado em 2020, segundo o IBGE. (acesse o script que faz o download e conversão dos dados de população).\n",
        "\n",
        "11. estimated_population_2019: população estimada para esse município/estado em 2019, segundo o IBGE. ATENÇÃO: essa coluna possui valores desatualizados, prefira usar a coluna estimated_population.\n",
        "\n",
        "12. confirmed_per_100k_inhabitants: número de casos \n",
        "confirmados por 100.000 habitantes (baseado em estimated_population).\n",
        "\n",
        "13. death_rate: taxa de mortalidade (mortes / confirmados)."
      ]
    },
    {
      "cell_type": "markdown",
      "metadata": {
        "id": "D6pmsWq34CcC"
      },
      "source": [
        "#Arquivo - Brasil IO"
      ]
    },
    {
      "cell_type": "code",
      "metadata": {
        "id": "N1Rxopsuxd30",
        "outputId": "3b2ee3c6-2414-4057-835f-dafe38f81278",
        "colab": {
          "base_uri": "https://localhost:8080/",
          "height": 309
        }
      },
      "source": [
        "#lendo arquivo do Brasil.IO\n",
        "caso_brasil_io = pd.read_csv('/content/drive/My Drive/Colab Notebooks/bootcamp Alura Data Science/caso.csv')\n",
        "caso_brasil_io.head()"
      ],
      "execution_count": 4,
      "outputs": [
        {
          "output_type": "execute_result",
          "data": {
            "text/html": [
              "<div>\n",
              "<style scoped>\n",
              "    .dataframe tbody tr th:only-of-type {\n",
              "        vertical-align: middle;\n",
              "    }\n",
              "\n",
              "    .dataframe tbody tr th {\n",
              "        vertical-align: top;\n",
              "    }\n",
              "\n",
              "    .dataframe thead th {\n",
              "        text-align: right;\n",
              "    }\n",
              "</style>\n",
              "<table border=\"1\" class=\"dataframe\">\n",
              "  <thead>\n",
              "    <tr style=\"text-align: right;\">\n",
              "      <th></th>\n",
              "      <th>date</th>\n",
              "      <th>state</th>\n",
              "      <th>city</th>\n",
              "      <th>place_type</th>\n",
              "      <th>confirmed</th>\n",
              "      <th>deaths</th>\n",
              "      <th>order_for_place</th>\n",
              "      <th>is_last</th>\n",
              "      <th>estimated_population_2019</th>\n",
              "      <th>estimated_population</th>\n",
              "      <th>city_ibge_code</th>\n",
              "      <th>confirmed_per_100k_inhabitants</th>\n",
              "      <th>death_rate</th>\n",
              "    </tr>\n",
              "  </thead>\n",
              "  <tbody>\n",
              "    <tr>\n",
              "      <th>0</th>\n",
              "      <td>2020-11-05</td>\n",
              "      <td>AC</td>\n",
              "      <td>NaN</td>\n",
              "      <td>state</td>\n",
              "      <td>31248</td>\n",
              "      <td>697</td>\n",
              "      <td>234</td>\n",
              "      <td>True</td>\n",
              "      <td>881935.0</td>\n",
              "      <td>894470.0</td>\n",
              "      <td>12.0</td>\n",
              "      <td>3493.46540</td>\n",
              "      <td>0.0223</td>\n",
              "    </tr>\n",
              "    <tr>\n",
              "      <th>1</th>\n",
              "      <td>2020-11-04</td>\n",
              "      <td>AC</td>\n",
              "      <td>NaN</td>\n",
              "      <td>state</td>\n",
              "      <td>31218</td>\n",
              "      <td>696</td>\n",
              "      <td>233</td>\n",
              "      <td>False</td>\n",
              "      <td>881935.0</td>\n",
              "      <td>894470.0</td>\n",
              "      <td>12.0</td>\n",
              "      <td>3490.11146</td>\n",
              "      <td>0.0223</td>\n",
              "    </tr>\n",
              "    <tr>\n",
              "      <th>2</th>\n",
              "      <td>2020-11-03</td>\n",
              "      <td>AC</td>\n",
              "      <td>NaN</td>\n",
              "      <td>state</td>\n",
              "      <td>30962</td>\n",
              "      <td>695</td>\n",
              "      <td>232</td>\n",
              "      <td>False</td>\n",
              "      <td>881935.0</td>\n",
              "      <td>894470.0</td>\n",
              "      <td>12.0</td>\n",
              "      <td>3461.49116</td>\n",
              "      <td>0.0224</td>\n",
              "    </tr>\n",
              "    <tr>\n",
              "      <th>3</th>\n",
              "      <td>2020-11-02</td>\n",
              "      <td>AC</td>\n",
              "      <td>NaN</td>\n",
              "      <td>state</td>\n",
              "      <td>30954</td>\n",
              "      <td>693</td>\n",
              "      <td>231</td>\n",
              "      <td>False</td>\n",
              "      <td>881935.0</td>\n",
              "      <td>894470.0</td>\n",
              "      <td>12.0</td>\n",
              "      <td>3460.59678</td>\n",
              "      <td>0.0224</td>\n",
              "    </tr>\n",
              "    <tr>\n",
              "      <th>4</th>\n",
              "      <td>2020-11-01</td>\n",
              "      <td>AC</td>\n",
              "      <td>NaN</td>\n",
              "      <td>state</td>\n",
              "      <td>30951</td>\n",
              "      <td>693</td>\n",
              "      <td>230</td>\n",
              "      <td>False</td>\n",
              "      <td>881935.0</td>\n",
              "      <td>894470.0</td>\n",
              "      <td>12.0</td>\n",
              "      <td>3460.26138</td>\n",
              "      <td>0.0224</td>\n",
              "    </tr>\n",
              "  </tbody>\n",
              "</table>\n",
              "</div>"
            ],
            "text/plain": [
              "         date state  ... confirmed_per_100k_inhabitants death_rate\n",
              "0  2020-11-05    AC  ...                     3493.46540     0.0223\n",
              "1  2020-11-04    AC  ...                     3490.11146     0.0223\n",
              "2  2020-11-03    AC  ...                     3461.49116     0.0224\n",
              "3  2020-11-02    AC  ...                     3460.59678     0.0224\n",
              "4  2020-11-01    AC  ...                     3460.26138     0.0224\n",
              "\n",
              "[5 rows x 13 columns]"
            ]
          },
          "metadata": {
            "tags": []
          },
          "execution_count": 4
        }
      ]
    },
    {
      "cell_type": "code",
      "metadata": {
        "id": "LuCQ6ceiznJ9",
        "outputId": "14883a10-70c0-4472-f483-916d25d37744",
        "colab": {
          "base_uri": "https://localhost:8080/"
        }
      },
      "source": [
        "#Verificando quantidade de linhas e colunas no arquivo Brasil.IO\n",
        "caso_brasil_io.shape\n",
        "print(f'Temos no arquivo de dados do Brasil IO um total de {caso_brasil_io.shape[0]} linhas e {caso_brasil_io.shape[1]} colunas')"
      ],
      "execution_count": 5,
      "outputs": [
        {
          "output_type": "stream",
          "text": [
            "Temos no arquivo de dados do Brasil IO um total de 936870 linhas e 13 colunas\n"
          ],
          "name": "stdout"
        }
      ]
    },
    {
      "cell_type": "code",
      "metadata": {
        "id": "fKccU1N2zvxB",
        "outputId": "c6f2461d-9746-439a-dfe6-8c7a4a0e9217",
        "colab": {
          "base_uri": "https://localhost:8080/"
        }
      },
      "source": [
        "#informações gerais e tipo de variáveis no arquivo Brasil.IO\n",
        "caso_brasil_io.info()\n",
        "print('Existem campos com valores vazios, e a princípio não farei nenhum tratamento, para os dados vazios. Conforme a necessidade traterei no decorrer da análise.')\n"
      ],
      "execution_count": 6,
      "outputs": [
        {
          "output_type": "stream",
          "text": [
            "<class 'pandas.core.frame.DataFrame'>\n",
            "RangeIndex: 936870 entries, 0 to 936869\n",
            "Data columns (total 13 columns):\n",
            " #   Column                          Non-Null Count   Dtype  \n",
            "---  ------                          --------------   -----  \n",
            " 0   date                            936870 non-null  object \n",
            " 1   state                           936870 non-null  object \n",
            " 2   city                            930535 non-null  object \n",
            " 3   place_type                      936870 non-null  object \n",
            " 4   confirmed                       936870 non-null  int64  \n",
            " 5   deaths                          936870 non-null  int64  \n",
            " 6   order_for_place                 936870 non-null  int64  \n",
            " 7   is_last                         936870 non-null  bool   \n",
            " 8   estimated_population_2019       933215 non-null  float64\n",
            " 9   estimated_population            933215 non-null  float64\n",
            " 10  city_ibge_code                  933215 non-null  float64\n",
            " 11  confirmed_per_100k_inhabitants  919888 non-null  float64\n",
            " 12  death_rate                      936870 non-null  float64\n",
            "dtypes: bool(1), float64(5), int64(3), object(4)\n",
            "memory usage: 86.7+ MB\n",
            "Existem campos com valores vazios, e a princípio não farei nenhum tratamento, para os dados vazios. Conforme a necessidade traterei no decorrer da análise.\n"
          ],
          "name": "stdout"
        }
      ]
    },
    {
      "cell_type": "markdown",
      "metadata": {
        "id": "LmVgpavDUKdh"
      },
      "source": [
        "# 1 - analisar quantidade de casos Registrados de covid 19 por estados UF;"
      ]
    },
    {
      "cell_type": "code",
      "metadata": {
        "id": "tIG5Au-a5nrL",
        "outputId": "2d97a518-8492-4ca0-92f4-6366e454cc10",
        "colab": {
          "base_uri": "https://localhost:8080/",
          "height": 886
        }
      },
      "source": [
        "#Separando a quantidade de registros para casos de covid 19 por estados UF\n",
        "frequencia = caso_brasil_io['state'].value_counts()\n",
        "\n",
        "#Verificando o percentual de registros dos casos de covid 19 por estados UF\n",
        "percentual = caso_brasil_io['state'].value_counts(normalize=True).round(4)*100\n",
        "\n",
        "#Criando um DataFrame com os valores de frequência e percentual dos casos por estados UF\n",
        "dados = {'Frequência de casos Registrados':frequencia, 'Porcentagem %':percentual}\n",
        "casos_registrados = pd.DataFrame(data=dados)\n",
        "casos_registrados"
      ],
      "execution_count": 7,
      "outputs": [
        {
          "output_type": "execute_result",
          "data": {
            "text/html": [
              "<div>\n",
              "<style scoped>\n",
              "    .dataframe tbody tr th:only-of-type {\n",
              "        vertical-align: middle;\n",
              "    }\n",
              "\n",
              "    .dataframe tbody tr th {\n",
              "        vertical-align: top;\n",
              "    }\n",
              "\n",
              "    .dataframe thead th {\n",
              "        text-align: right;\n",
              "    }\n",
              "</style>\n",
              "<table border=\"1\" class=\"dataframe\">\n",
              "  <thead>\n",
              "    <tr style=\"text-align: right;\">\n",
              "      <th></th>\n",
              "      <th>Frequência de casos Registrados</th>\n",
              "      <th>Porcentagem %</th>\n",
              "    </tr>\n",
              "  </thead>\n",
              "  <tbody>\n",
              "    <tr>\n",
              "      <th>MG</th>\n",
              "      <td>129839</td>\n",
              "      <td>13.86</td>\n",
              "    </tr>\n",
              "    <tr>\n",
              "      <th>SP</th>\n",
              "      <td>114897</td>\n",
              "      <td>12.26</td>\n",
              "    </tr>\n",
              "    <tr>\n",
              "      <th>RS</th>\n",
              "      <td>80731</td>\n",
              "      <td>8.62</td>\n",
              "    </tr>\n",
              "    <tr>\n",
              "      <th>BA</th>\n",
              "      <td>72566</td>\n",
              "      <td>7.75</td>\n",
              "    </tr>\n",
              "    <tr>\n",
              "      <th>PR</th>\n",
              "      <td>62364</td>\n",
              "      <td>6.66</td>\n",
              "    </tr>\n",
              "    <tr>\n",
              "      <th>SC</th>\n",
              "      <td>53179</td>\n",
              "      <td>5.68</td>\n",
              "    </tr>\n",
              "    <tr>\n",
              "      <th>GO</th>\n",
              "      <td>41065</td>\n",
              "      <td>4.38</td>\n",
              "    </tr>\n",
              "    <tr>\n",
              "      <th>MA</th>\n",
              "      <td>41062</td>\n",
              "      <td>4.38</td>\n",
              "    </tr>\n",
              "    <tr>\n",
              "      <th>PB</th>\n",
              "      <td>38848</td>\n",
              "      <td>4.15</td>\n",
              "    </tr>\n",
              "    <tr>\n",
              "      <th>PI</th>\n",
              "      <td>38160</td>\n",
              "      <td>4.07</td>\n",
              "    </tr>\n",
              "    <tr>\n",
              "      <th>CE</th>\n",
              "      <td>36657</td>\n",
              "      <td>3.91</td>\n",
              "    </tr>\n",
              "    <tr>\n",
              "      <th>PE</th>\n",
              "      <td>35663</td>\n",
              "      <td>3.81</td>\n",
              "    </tr>\n",
              "    <tr>\n",
              "      <th>PA</th>\n",
              "      <td>28025</td>\n",
              "      <td>2.99</td>\n",
              "    </tr>\n",
              "    <tr>\n",
              "      <th>RN</th>\n",
              "      <td>22799</td>\n",
              "      <td>2.43</td>\n",
              "    </tr>\n",
              "    <tr>\n",
              "      <th>TO</th>\n",
              "      <td>19440</td>\n",
              "      <td>2.07</td>\n",
              "    </tr>\n",
              "    <tr>\n",
              "      <th>AL</th>\n",
              "      <td>19077</td>\n",
              "      <td>2.04</td>\n",
              "    </tr>\n",
              "    <tr>\n",
              "      <th>RJ</th>\n",
              "      <td>18646</td>\n",
              "      <td>1.99</td>\n",
              "    </tr>\n",
              "    <tr>\n",
              "      <th>SE</th>\n",
              "      <td>13572</td>\n",
              "      <td>1.45</td>\n",
              "    </tr>\n",
              "    <tr>\n",
              "      <th>MS</th>\n",
              "      <td>12886</td>\n",
              "      <td>1.38</td>\n",
              "    </tr>\n",
              "    <tr>\n",
              "      <th>ES</th>\n",
              "      <td>12838</td>\n",
              "      <td>1.37</td>\n",
              "    </tr>\n",
              "    <tr>\n",
              "      <th>AM</th>\n",
              "      <td>12234</td>\n",
              "      <td>1.31</td>\n",
              "    </tr>\n",
              "    <tr>\n",
              "      <th>MT</th>\n",
              "      <td>11983</td>\n",
              "      <td>1.28</td>\n",
              "    </tr>\n",
              "    <tr>\n",
              "      <th>RO</th>\n",
              "      <td>8942</td>\n",
              "      <td>0.95</td>\n",
              "    </tr>\n",
              "    <tr>\n",
              "      <th>AC</th>\n",
              "      <td>4247</td>\n",
              "      <td>0.45</td>\n",
              "    </tr>\n",
              "    <tr>\n",
              "      <th>AP</th>\n",
              "      <td>3327</td>\n",
              "      <td>0.36</td>\n",
              "    </tr>\n",
              "    <tr>\n",
              "      <th>RR</th>\n",
              "      <td>3114</td>\n",
              "      <td>0.33</td>\n",
              "    </tr>\n",
              "    <tr>\n",
              "      <th>DF</th>\n",
              "      <td>709</td>\n",
              "      <td>0.08</td>\n",
              "    </tr>\n",
              "  </tbody>\n",
              "</table>\n",
              "</div>"
            ],
            "text/plain": [
              "    Frequência de casos Registrados  Porcentagem %\n",
              "MG                           129839          13.86\n",
              "SP                           114897          12.26\n",
              "RS                            80731           8.62\n",
              "BA                            72566           7.75\n",
              "PR                            62364           6.66\n",
              "SC                            53179           5.68\n",
              "GO                            41065           4.38\n",
              "MA                            41062           4.38\n",
              "PB                            38848           4.15\n",
              "PI                            38160           4.07\n",
              "CE                            36657           3.91\n",
              "PE                            35663           3.81\n",
              "PA                            28025           2.99\n",
              "RN                            22799           2.43\n",
              "TO                            19440           2.07\n",
              "AL                            19077           2.04\n",
              "RJ                            18646           1.99\n",
              "SE                            13572           1.45\n",
              "MS                            12886           1.38\n",
              "ES                            12838           1.37\n",
              "AM                            12234           1.31\n",
              "MT                            11983           1.28\n",
              "RO                             8942           0.95\n",
              "AC                             4247           0.45\n",
              "AP                             3327           0.36\n",
              "RR                             3114           0.33\n",
              "DF                              709           0.08"
            ]
          },
          "metadata": {
            "tags": []
          },
          "execution_count": 7
        }
      ]
    },
    {
      "cell_type": "code",
      "metadata": {
        "id": "4F81IcA2Vi4U",
        "outputId": "8737a389-3828-4dc7-f454-7bf51d563151",
        "colab": {
          "base_uri": "https://localhost:8080/",
          "height": 779
        }
      },
      "source": [
        "#Criando um gráfico\n",
        "plt.figure(figsize=(12, 12))\n",
        "\n",
        "#armazenando valores de frequências para construir o gráfico - eixo x\n",
        "casos_registrados.sort_values(by='Frequência de casos Registrados', ascending=True, inplace=True)\n",
        "frequencia = casos_registrados['Frequência de casos Registrados']\n",
        "\n",
        "#armazenando valores dos estados UF para construir o gráfico - eixo y\n",
        "UF = casos_registrados.index\n",
        "\n",
        "#Chamando método barh do matplotlib, para construir o gráfico de barras horizontais\n",
        "plt.barh(UF, frequencia, height=0.85, color='green')\n",
        "\n",
        "#Criando um título\n",
        "plt.title('Total de casos registrados por estados (UF) \\n relacionados ao Covid 19', fontsize = 20)\n",
        "\n",
        "#Nomeando o eixo y\n",
        "plt.ylabel('Estados (UF)', fontsize = 16)\n",
        "\n",
        "#Nomeando o eixo x\n",
        "plt.xlabel('Quantidade de casos registrados ao Covid 19', fontsize = 16)\n",
        "\n",
        "#grid para orientação\n",
        "plt.grid(color='g', linestyle='-.', linewidth=0.5)\n",
        "\n",
        "plt.show"
      ],
      "execution_count": 8,
      "outputs": [
        {
          "output_type": "execute_result",
          "data": {
            "text/plain": [
              "<function matplotlib.pyplot.show>"
            ]
          },
          "metadata": {
            "tags": []
          },
          "execution_count": 8
        },
        {
          "output_type": "display_data",
          "data": {
            "image/png": "[encoded data removed]",
            "text/plain": [
              "<Figure size 864x864 with 1 Axes>"
            ]
          },
          "metadata": {
            "tags": [],
            "needs_background": "light"
          }
        }
      ]
    },
    {
      "cell_type": "markdown",
      "metadata": {
        "id": "_95tlIQEP4qL"
      },
      "source": [
        "Os dados apresentam que a Unidade da Federação com maior frequência é o estado de Minas Gerais com 129.839 registros representando um percentual de 13.86% dos registros realizados em todo o pais, para casos de Covid 19. Interessante que Minas Gerais é o segundo estado mais populoso do pais, com 21.292.666 habitantes segundo dados do IBGE em 2020. São Paulo que é o estado mais populoso do pais com 46.289.333 habitantes segundo o IBGE em 2020, ficou em segundo lugar nos casos registrados referente ao Covid 19.\n",
        "Existem diversos fatores que contribuem para isso, desde cuidados preventivos que a população adotou, histórico hospitalar, idade da população, aspectos culturais, regionais, miscigenação racial, e diversos outros fatores. "
      ]
    },
    {
      "cell_type": "markdown",
      "metadata": {
        "id": "9kdQE85DEHTC"
      },
      "source": [
        "# 2 - analisar quantidade de casos confirmados de covid 19 por estados UF;"
      ]
    },
    {
      "cell_type": "code",
      "metadata": {
        "id": "DUtU28iJq82q",
        "outputId": "b58297fc-7815-4651-e761-a36520f57a54",
        "colab": {
          "base_uri": "https://localhost:8080/",
          "height": 309
        }
      },
      "source": [
        "caso_brasil_io.head()"
      ],
      "execution_count": 9,
      "outputs": [
        {
          "output_type": "execute_result",
          "data": {
            "text/html": [
              "<div>\n",
              "<style scoped>\n",
              "    .dataframe tbody tr th:only-of-type {\n",
              "        vertical-align: middle;\n",
              "    }\n",
              "\n",
              "    .dataframe tbody tr th {\n",
              "        vertical-align: top;\n",
              "    }\n",
              "\n",
              "    .dataframe thead th {\n",
              "        text-align: right;\n",
              "    }\n",
              "</style>\n",
              "<table border=\"1\" class=\"dataframe\">\n",
              "  <thead>\n",
              "    <tr style=\"text-align: right;\">\n",
              "      <th></th>\n",
              "      <th>date</th>\n",
              "      <th>state</th>\n",
              "      <th>city</th>\n",
              "      <th>place_type</th>\n",
              "      <th>confirmed</th>\n",
              "      <th>deaths</th>\n",
              "      <th>order_for_place</th>\n",
              "      <th>is_last</th>\n",
              "      <th>estimated_population_2019</th>\n",
              "      <th>estimated_population</th>\n",
              "      <th>city_ibge_code</th>\n",
              "      <th>confirmed_per_100k_inhabitants</th>\n",
              "      <th>death_rate</th>\n",
              "    </tr>\n",
              "  </thead>\n",
              "  <tbody>\n",
              "    <tr>\n",
              "      <th>0</th>\n",
              "      <td>2020-11-05</td>\n",
              "      <td>AC</td>\n",
              "      <td>NaN</td>\n",
              "      <td>state</td>\n",
              "      <td>31248</td>\n",
              "      <td>697</td>\n",
              "      <td>234</td>\n",
              "      <td>True</td>\n",
              "      <td>881935.0</td>\n",
              "      <td>894470.0</td>\n",
              "      <td>12.0</td>\n",
              "      <td>3493.46540</td>\n",
              "      <td>0.0223</td>\n",
              "    </tr>\n",
              "    <tr>\n",
              "      <th>1</th>\n",
              "      <td>2020-11-04</td>\n",
              "      <td>AC</td>\n",
              "      <td>NaN</td>\n",
              "      <td>state</td>\n",
              "      <td>31218</td>\n",
              "      <td>696</td>\n",
              "      <td>233</td>\n",
              "      <td>False</td>\n",
              "      <td>881935.0</td>\n",
              "      <td>894470.0</td>\n",
              "      <td>12.0</td>\n",
              "      <td>3490.11146</td>\n",
              "      <td>0.0223</td>\n",
              "    </tr>\n",
              "    <tr>\n",
              "      <th>2</th>\n",
              "      <td>2020-11-03</td>\n",
              "      <td>AC</td>\n",
              "      <td>NaN</td>\n",
              "      <td>state</td>\n",
              "      <td>30962</td>\n",
              "      <td>695</td>\n",
              "      <td>232</td>\n",
              "      <td>False</td>\n",
              "      <td>881935.0</td>\n",
              "      <td>894470.0</td>\n",
              "      <td>12.0</td>\n",
              "      <td>3461.49116</td>\n",
              "      <td>0.0224</td>\n",
              "    </tr>\n",
              "    <tr>\n",
              "      <th>3</th>\n",
              "      <td>2020-11-02</td>\n",
              "      <td>AC</td>\n",
              "      <td>NaN</td>\n",
              "      <td>state</td>\n",
              "      <td>30954</td>\n",
              "      <td>693</td>\n",
              "      <td>231</td>\n",
              "      <td>False</td>\n",
              "      <td>881935.0</td>\n",
              "      <td>894470.0</td>\n",
              "      <td>12.0</td>\n",
              "      <td>3460.59678</td>\n",
              "      <td>0.0224</td>\n",
              "    </tr>\n",
              "    <tr>\n",
              "      <th>4</th>\n",
              "      <td>2020-11-01</td>\n",
              "      <td>AC</td>\n",
              "      <td>NaN</td>\n",
              "      <td>state</td>\n",
              "      <td>30951</td>\n",
              "      <td>693</td>\n",
              "      <td>230</td>\n",
              "      <td>False</td>\n",
              "      <td>881935.0</td>\n",
              "      <td>894470.0</td>\n",
              "      <td>12.0</td>\n",
              "      <td>3460.26138</td>\n",
              "      <td>0.0224</td>\n",
              "    </tr>\n",
              "  </tbody>\n",
              "</table>\n",
              "</div>"
            ],
            "text/plain": [
              "         date state  ... confirmed_per_100k_inhabitants death_rate\n",
              "0  2020-11-05    AC  ...                     3493.46540     0.0223\n",
              "1  2020-11-04    AC  ...                     3490.11146     0.0223\n",
              "2  2020-11-03    AC  ...                     3461.49116     0.0224\n",
              "3  2020-11-02    AC  ...                     3460.59678     0.0224\n",
              "4  2020-11-01    AC  ...                     3460.26138     0.0224\n",
              "\n",
              "[5 rows x 13 columns]"
            ]
          },
          "metadata": {
            "tags": []
          },
          "execution_count": 9
        }
      ]
    },
    {
      "cell_type": "code",
      "metadata": {
        "id": "vhjLSK6FEUol",
        "outputId": "9d092841-b562-42bb-f667-3d22178e6ff8",
        "colab": {
          "base_uri": "https://localhost:8080/",
          "height": 886
        }
      },
      "source": [
        "#quantidade de casos confirmados por estados UF\n",
        "casos_confirmados = caso_brasil_io[['state','confirmed']]\n",
        "\n",
        "#agrupando por estados UF e fazendo o somatório dos casos confirmados\n",
        "casos_confirmados = casos_confirmados.groupby(by=['state']).sum()\n",
        "\n",
        "#ordenando os estados UF pela quantidade de casos confirmados em ordem decrescente \n",
        "casos_confirmados = casos_confirmados.sort_values(by=['confirmed'], ascending=False)\n",
        "\n",
        "#criando um index e resetando o index state\n",
        "casos_confirmados.reset_index(inplace=True)\n",
        "\n",
        "casos_confirmados"
      ],
      "execution_count": 38,
      "outputs": [
        {
          "output_type": "execute_result",
          "data": {
            "text/html": [
              "<div>\n",
              "<style scoped>\n",
              "    .dataframe tbody tr th:only-of-type {\n",
              "        vertical-align: middle;\n",
              "    }\n",
              "\n",
              "    .dataframe tbody tr th {\n",
              "        vertical-align: top;\n",
              "    }\n",
              "\n",
              "    .dataframe thead th {\n",
              "        text-align: right;\n",
              "    }\n",
              "</style>\n",
              "<table border=\"1\" class=\"dataframe\">\n",
              "  <thead>\n",
              "    <tr style=\"text-align: right;\">\n",
              "      <th></th>\n",
              "      <th>state</th>\n",
              "      <th>confirmed</th>\n",
              "    </tr>\n",
              "  </thead>\n",
              "  <tbody>\n",
              "    <tr>\n",
              "      <th>0</th>\n",
              "      <td>SP</td>\n",
              "      <td>205850431</td>\n",
              "    </tr>\n",
              "    <tr>\n",
              "      <th>1</th>\n",
              "      <td>BA</td>\n",
              "      <td>64286325</td>\n",
              "    </tr>\n",
              "    <tr>\n",
              "      <th>2</th>\n",
              "      <td>CE</td>\n",
              "      <td>59887505</td>\n",
              "    </tr>\n",
              "    <tr>\n",
              "      <th>3</th>\n",
              "      <td>RJ</td>\n",
              "      <td>59671484</td>\n",
              "    </tr>\n",
              "    <tr>\n",
              "      <th>4</th>\n",
              "      <td>PA</td>\n",
              "      <td>54681352</td>\n",
              "    </tr>\n",
              "    <tr>\n",
              "      <th>5</th>\n",
              "      <td>MG</td>\n",
              "      <td>53754071</td>\n",
              "    </tr>\n",
              "    <tr>\n",
              "      <th>6</th>\n",
              "      <td>MA</td>\n",
              "      <td>42463978</td>\n",
              "    </tr>\n",
              "    <tr>\n",
              "      <th>7</th>\n",
              "      <td>SC</td>\n",
              "      <td>40554670</td>\n",
              "    </tr>\n",
              "    <tr>\n",
              "      <th>8</th>\n",
              "      <td>DF</td>\n",
              "      <td>40498155</td>\n",
              "    </tr>\n",
              "    <tr>\n",
              "      <th>9</th>\n",
              "      <td>GO</td>\n",
              "      <td>37484709</td>\n",
              "    </tr>\n",
              "    <tr>\n",
              "      <th>10</th>\n",
              "      <td>RS</td>\n",
              "      <td>35160311</td>\n",
              "    </tr>\n",
              "    <tr>\n",
              "      <th>11</th>\n",
              "      <td>AM</td>\n",
              "      <td>34800745</td>\n",
              "    </tr>\n",
              "    <tr>\n",
              "      <th>12</th>\n",
              "      <td>PE</td>\n",
              "      <td>34586008</td>\n",
              "    </tr>\n",
              "    <tr>\n",
              "      <th>13</th>\n",
              "      <td>PR</td>\n",
              "      <td>31038477</td>\n",
              "    </tr>\n",
              "    <tr>\n",
              "      <th>14</th>\n",
              "      <td>PB</td>\n",
              "      <td>27630285</td>\n",
              "    </tr>\n",
              "    <tr>\n",
              "      <th>15</th>\n",
              "      <td>ES</td>\n",
              "      <td>24043695</td>\n",
              "    </tr>\n",
              "    <tr>\n",
              "      <th>16</th>\n",
              "      <td>AL</td>\n",
              "      <td>20249756</td>\n",
              "    </tr>\n",
              "    <tr>\n",
              "      <th>17</th>\n",
              "      <td>PI</td>\n",
              "      <td>20225804</td>\n",
              "    </tr>\n",
              "    <tr>\n",
              "      <th>18</th>\n",
              "      <td>SE</td>\n",
              "      <td>17611196</td>\n",
              "    </tr>\n",
              "    <tr>\n",
              "      <th>19</th>\n",
              "      <td>MT</td>\n",
              "      <td>13605317</td>\n",
              "    </tr>\n",
              "    <tr>\n",
              "      <th>20</th>\n",
              "      <td>RO</td>\n",
              "      <td>13351222</td>\n",
              "    </tr>\n",
              "    <tr>\n",
              "      <th>21</th>\n",
              "      <td>RN</td>\n",
              "      <td>13121344</td>\n",
              "    </tr>\n",
              "    <tr>\n",
              "      <th>22</th>\n",
              "      <td>MS</td>\n",
              "      <td>12058293</td>\n",
              "    </tr>\n",
              "    <tr>\n",
              "      <th>23</th>\n",
              "      <td>AP</td>\n",
              "      <td>11952947</td>\n",
              "    </tr>\n",
              "    <tr>\n",
              "      <th>24</th>\n",
              "      <td>TO</td>\n",
              "      <td>10755021</td>\n",
              "    </tr>\n",
              "    <tr>\n",
              "      <th>25</th>\n",
              "      <td>RR</td>\n",
              "      <td>10393594</td>\n",
              "    </tr>\n",
              "    <tr>\n",
              "      <th>26</th>\n",
              "      <td>AC</td>\n",
              "      <td>6720093</td>\n",
              "    </tr>\n",
              "  </tbody>\n",
              "</table>\n",
              "</div>"
            ],
            "text/plain": [
              "   state  confirmed\n",
              "0     SP  205850431\n",
              "1     BA   64286325\n",
              "2     CE   59887505\n",
              "3     RJ   59671484\n",
              "4     PA   54681352\n",
              "5     MG   53754071\n",
              "6     MA   42463978\n",
              "7     SC   40554670\n",
              "8     DF   40498155\n",
              "9     GO   37484709\n",
              "10    RS   35160311\n",
              "11    AM   34800745\n",
              "12    PE   34586008\n",
              "13    PR   31038477\n",
              "14    PB   27630285\n",
              "15    ES   24043695\n",
              "16    AL   20249756\n",
              "17    PI   20225804\n",
              "18    SE   17611196\n",
              "19    MT   13605317\n",
              "20    RO   13351222\n",
              "21    RN   13121344\n",
              "22    MS   12058293\n",
              "23    AP   11952947\n",
              "24    TO   10755021\n",
              "25    RR   10393594\n",
              "26    AC    6720093"
            ]
          },
          "metadata": {
            "tags": []
          },
          "execution_count": 38
        }
      ]
    },
    {
      "cell_type": "code",
      "metadata": {
        "id": "2dHe442YEpqo",
        "outputId": "517fb594-8488-48bc-cde3-cbd8d4f44661",
        "colab": {
          "base_uri": "https://localhost:8080/",
          "height": 779
        }
      },
      "source": [
        "#Criando um gráfico\n",
        "plt.figure(figsize=(12, 12))\n",
        "\n",
        "#armazenando quantidade de confirmados para construir o gráfico - eixo x\n",
        "casos_confirmados.sort_values(by='confirmed', ascending=True, inplace=True)\n",
        "confirmados = casos_confirmados['confirmed']\n",
        "\n",
        "#armazenando valores dos estados UF para construir o gráfico - eixo y\n",
        "UF = casos_confirmados['state']\n",
        "\n",
        "#Chamando método barh do matplotlib, para construir o gráfico de barras horizontais\n",
        "plt.barh(UF, confirmados, height=0.85, color='green')\n",
        "\n",
        "#Criando um título\n",
        "plt.title('Total de casos confirmados por estados (UF) \\n relacionados ao Covid 19', fontsize = 20)\n",
        "\n",
        "#Nomeando o eixo y\n",
        "plt.ylabel('Estados (UF)', fontsize = 16)\n",
        "\n",
        "#Nomeando o eixo x\n",
        "plt.xlabel('Quantidade de casos confirmados ao Covid 19', fontsize = 16)\n",
        "\n",
        "#grid para orientação\n",
        "plt.grid(color='g', linestyle='-.', linewidth=0.5)\n",
        "\n",
        "plt.show"
      ],
      "execution_count": 47,
      "outputs": [
        {
          "output_type": "execute_result",
          "data": {
            "text/plain": [
              "<function matplotlib.pyplot.show>"
            ]
          },
          "metadata": {
            "tags": []
          },
          "execution_count": 47
        },
        {
          "output_type": "display_data",
          "data": {
            "image/png": "[encoded data removed]",
            "text/plain": [
              "<Figure size 864x864 with 1 Axes>"
            ]
          },
          "metadata": {
            "tags": [],
            "needs_background": "light"
          }
        }
      ]
    },
    {
      "cell_type": "code",
      "metadata": {
        "id": "bGLMot1XLJ-7"
      },
      "source": [
        ""
      ],
      "execution_count": null,
      "outputs": []
    }
  ]
}