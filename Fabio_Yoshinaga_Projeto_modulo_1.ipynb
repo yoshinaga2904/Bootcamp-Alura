{
  "nbformat": 4,
  "nbformat_minor": 0,
  "metadata": {
    "colab": {
      "name": "Fabio_Yoshinaga_Projeto_modulo_1.ipynb",
      "provenance": [],
      "collapsed_sections": [],
      "toc_visible": true,
      "include_colab_link": true
    },
    "kernelspec": {
      "name": "python3",
      "display_name": "Python 3"
    }
  },
  "cells": [
    {
      "cell_type": "markdown",
      "metadata": {
        "id": "view-in-github",
        "colab_type": "text"
      },
      "source": [
        "<a href=\"https://colab.research.google.com/github/yoshinaga2904/Bootcamp-Alura/blob/main/Fabio_Yoshinaga_Projeto_modulo_1.ipynb\" target=\"_parent\"><img src=\"https://colab.research.google.com/assets/colab-badge.svg\" alt=\"Open In Colab\"/></a>"
      ]
    },
    {
      "cell_type": "code",
      "metadata": {
        "id": "1d73_AD8ObhZ",
        "outputId": "51a6717c-8ecf-402b-8e14-7af57bcbd899",
        "colab": {
          "base_uri": "https://localhost:8080/"
        }
      },
      "source": [
        "from google.colab import drive\n",
        "drive.mount('/content/drive')"
      ],
      "execution_count": 1,
      "outputs": [
        {
          "output_type": "stream",
          "text": [
            "Mounted at /content/drive\n"
          ],
          "name": "stdout"
        }
      ]
    },
    {
      "cell_type": "markdown",
      "metadata": {
        "id": "i_PwuJznhm-N"
      },
      "source": [
        "# Apresentação:\n",
        "\n",
        "---\n",
        "Olá Cientistas!\n",
        "\n",
        "Pretendo com as aulas do modulo 1 - Bootcamp Data Science Aplicado, aprender as tecnicas utilizadas por um cientista de dados para os tratamentos de dados e teorias aplicadas. Vou analisar os dados da fonte citada abaixo e demonstrar algumas hipóteses observadas referente a epidemia Covid 19. Então vamos lá... \n"
      ]
    },
    {
      "cell_type": "markdown",
      "metadata": {
        "id": "34heyWHSfgUg"
      },
      "source": [
        "# Base de estudo:\n",
        "\n",
        "---\n",
        "Pesquisa:\n",
        "\n",
        "Secretarias de Saúde das Unidades Federativas, dados tratados por Álvaro Justen e colaboradores/Brasil.IO.\n",
        "\n",
        "*fonte: https://github.com/turicas/covid19-br/blob/master/api.md#casos*\n"
      ]
    },
    {
      "cell_type": "markdown",
      "metadata": {
        "id": "jnR7JD7UmaRw"
      },
      "source": [
        "# Hipótese:\n",
        "\n",
        "####1 - analisar quantidade de casos Registrados de covid 19 por estados UF;\n",
        "\n",
        "####2 - analisar quantidade de casos confirmados de covid 19 por estados UF; \n",
        "\n",
        "####3 - analisar quantidade de mortes pela covid 19 por estados UF; \n",
        "\n",
        "####4 - analisar taxa de mortalidade pela covid 19 por estados UF; \n",
        "\n",
        "####5 - analisar quantidade de casos confirmados pelo covid 19, com a estimativa populacional segundo o IBGE por estados UF; \n",
        "\n",
        "####6 - analisar quantidade de mortes pelo covid 19, com a estimativa populacional segundo o IBGE por estados UF"
      ]
    },
    {
      "cell_type": "markdown",
      "metadata": {
        "id": "99ynudLcnNn4"
      },
      "source": [
        "# Bibliotecas:\n"
      ]
    },
    {
      "cell_type": "code",
      "metadata": {
        "id": "RZjIusTMxWXT"
      },
      "source": [
        "import pandas as pd\n",
        "import matplotlib.pyplot as plt\n"
      ],
      "execution_count": 46,
      "outputs": []
    },
    {
      "cell_type": "markdown",
      "metadata": {
        "id": "XccknhqdnT9e"
      },
      "source": [
        "# Análise dos Dados: "
      ]
    },
    {
      "cell_type": "markdown",
      "metadata": {
        "id": "WvbrIhWpJUoM"
      },
      "source": [
        "# Documentação da tabela:\n",
        "## Colunas:\n",
        "\n",
        "1. date: data de coleta dos dados no formato YYYY-MM-DD.\n",
        "\n",
        "2. state: sigla da unidade federativa, exemplo: SP.\n",
        "\n",
        "3. city: nome do município (pode estar em branco quando o registro é referente ao estado, pode ser preenchido com Importados/Indefinidos também).\n",
        "\n",
        "4. place_type: tipo de local que esse registro descreve, pode ser city ou state.\n",
        "\n",
        "5. order_for_place: número que identifica a ordem do registro para este local. O registro referente ao primeiro boletim em que esse local aparecer será contabilizado como 1 e os demais boletins incrementarão esse valor.\n",
        "\n",
        "6. is_last: campo pré-computado que diz se esse registro é o mais novo para esse local, pode ser True ou False (caso filtre por esse campo, use is_last=True ou is_last=False, não use o valor em minúsculas).\n",
        "\n",
        "7. city_ibge_code: código IBGE do local.\n",
        "\n",
        "8. confirmed: número de casos confirmados.\n",
        "\n",
        "9. deaths: número de mortes.\n",
        "\n",
        "10. estimated_population: população estimada para esse município/estado em 2020, segundo o IBGE. (acesse o script que faz o download e conversão dos dados de população).\n",
        "\n",
        "11. estimated_population_2019: população estimada para esse município/estado em 2019, segundo o IBGE. ATENÇÃO: essa coluna possui valores desatualizados, prefira usar a coluna estimated_population.\n",
        "\n",
        "12. confirmed_per_100k_inhabitants: número de casos \n",
        "confirmados por 100.000 habitantes (baseado em estimated_population).\n",
        "\n",
        "13. death_rate: taxa de mortalidade (mortes / confirmados)."
      ]
    },
    {
      "cell_type": "markdown",
      "metadata": {
        "id": "D6pmsWq34CcC"
      },
      "source": [
        "#Arquivo - Brasil IO"
      ]
    },
    {
      "cell_type": "code",
      "metadata": {
        "id": "N1Rxopsuxd30",
        "outputId": "c4940634-992f-48f3-fc0d-7f364469e45f",
        "colab": {
          "base_uri": "https://localhost:8080/",
          "height": 309
        }
      },
      "source": [
        "#lendo arquivo do Brasil.IO\n",
        "caso_brasil_io = pd.read_csv('/content/drive/My Drive/Colab Notebooks/bootcamp Alura Data Science/caso.csv')\n",
        "caso_brasil_io.head()"
      ],
      "execution_count": 47,
      "outputs": [
        {
          "output_type": "execute_result",
          "data": {
            "text/html": [
              "<div>\n",
              "<style scoped>\n",
              "    .dataframe tbody tr th:only-of-type {\n",
              "        vertical-align: middle;\n",
              "    }\n",
              "\n",
              "    .dataframe tbody tr th {\n",
              "        vertical-align: top;\n",
              "    }\n",
              "\n",
              "    .dataframe thead th {\n",
              "        text-align: right;\n",
              "    }\n",
              "</style>\n",
              "<table border=\"1\" class=\"dataframe\">\n",
              "  <thead>\n",
              "    <tr style=\"text-align: right;\">\n",
              "      <th></th>\n",
              "      <th>date</th>\n",
              "      <th>state</th>\n",
              "      <th>city</th>\n",
              "      <th>place_type</th>\n",
              "      <th>confirmed</th>\n",
              "      <th>deaths</th>\n",
              "      <th>order_for_place</th>\n",
              "      <th>is_last</th>\n",
              "      <th>estimated_population_2019</th>\n",
              "      <th>estimated_population</th>\n",
              "      <th>city_ibge_code</th>\n",
              "      <th>confirmed_per_100k_inhabitants</th>\n",
              "      <th>death_rate</th>\n",
              "    </tr>\n",
              "  </thead>\n",
              "  <tbody>\n",
              "    <tr>\n",
              "      <th>0</th>\n",
              "      <td>2020-11-05</td>\n",
              "      <td>AC</td>\n",
              "      <td>NaN</td>\n",
              "      <td>state</td>\n",
              "      <td>31248</td>\n",
              "      <td>697</td>\n",
              "      <td>234</td>\n",
              "      <td>True</td>\n",
              "      <td>881935.0</td>\n",
              "      <td>894470.0</td>\n",
              "      <td>12.0</td>\n",
              "      <td>3493.46540</td>\n",
              "      <td>0.0223</td>\n",
              "    </tr>\n",
              "    <tr>\n",
              "      <th>1</th>\n",
              "      <td>2020-11-04</td>\n",
              "      <td>AC</td>\n",
              "      <td>NaN</td>\n",
              "      <td>state</td>\n",
              "      <td>31218</td>\n",
              "      <td>696</td>\n",
              "      <td>233</td>\n",
              "      <td>False</td>\n",
              "      <td>881935.0</td>\n",
              "      <td>894470.0</td>\n",
              "      <td>12.0</td>\n",
              "      <td>3490.11146</td>\n",
              "      <td>0.0223</td>\n",
              "    </tr>\n",
              "    <tr>\n",
              "      <th>2</th>\n",
              "      <td>2020-11-03</td>\n",
              "      <td>AC</td>\n",
              "      <td>NaN</td>\n",
              "      <td>state</td>\n",
              "      <td>30962</td>\n",
              "      <td>695</td>\n",
              "      <td>232</td>\n",
              "      <td>False</td>\n",
              "      <td>881935.0</td>\n",
              "      <td>894470.0</td>\n",
              "      <td>12.0</td>\n",
              "      <td>3461.49116</td>\n",
              "      <td>0.0224</td>\n",
              "    </tr>\n",
              "    <tr>\n",
              "      <th>3</th>\n",
              "      <td>2020-11-02</td>\n",
              "      <td>AC</td>\n",
              "      <td>NaN</td>\n",
              "      <td>state</td>\n",
              "      <td>30954</td>\n",
              "      <td>693</td>\n",
              "      <td>231</td>\n",
              "      <td>False</td>\n",
              "      <td>881935.0</td>\n",
              "      <td>894470.0</td>\n",
              "      <td>12.0</td>\n",
              "      <td>3460.59678</td>\n",
              "      <td>0.0224</td>\n",
              "    </tr>\n",
              "    <tr>\n",
              "      <th>4</th>\n",
              "      <td>2020-11-01</td>\n",
              "      <td>AC</td>\n",
              "      <td>NaN</td>\n",
              "      <td>state</td>\n",
              "      <td>30951</td>\n",
              "      <td>693</td>\n",
              "      <td>230</td>\n",
              "      <td>False</td>\n",
              "      <td>881935.0</td>\n",
              "      <td>894470.0</td>\n",
              "      <td>12.0</td>\n",
              "      <td>3460.26138</td>\n",
              "      <td>0.0224</td>\n",
              "    </tr>\n",
              "  </tbody>\n",
              "</table>\n",
              "</div>"
            ],
            "text/plain": [
              "         date state  ... confirmed_per_100k_inhabitants death_rate\n",
              "0  2020-11-05    AC  ...                     3493.46540     0.0223\n",
              "1  2020-11-04    AC  ...                     3490.11146     0.0223\n",
              "2  2020-11-03    AC  ...                     3461.49116     0.0224\n",
              "3  2020-11-02    AC  ...                     3460.59678     0.0224\n",
              "4  2020-11-01    AC  ...                     3460.26138     0.0224\n",
              "\n",
              "[5 rows x 13 columns]"
            ]
          },
          "metadata": {
            "tags": []
          },
          "execution_count": 47
        }
      ]
    },
    {
      "cell_type": "code",
      "metadata": {
        "id": "LuCQ6ceiznJ9",
        "outputId": "691bad7b-26ce-483c-ef92-80908bc48e2e",
        "colab": {
          "base_uri": "https://localhost:8080/"
        }
      },
      "source": [
        "#Verificando quantidade de linhas e colunas no arquivo Brasil.IO\n",
        "caso_brasil_io.shape\n",
        "print(f'Temos no arquivo de dados do Brasil IO um total de {caso_brasil_io.shape[0]} linhas e {caso_brasil_io.shape[1]} colunas')"
      ],
      "execution_count": 48,
      "outputs": [
        {
          "output_type": "stream",
          "text": [
            "Temos no arquivo de dados do Brasil IO um total de 936870 linhas e 13 colunas\n"
          ],
          "name": "stdout"
        }
      ]
    },
    {
      "cell_type": "code",
      "metadata": {
        "id": "fKccU1N2zvxB",
        "outputId": "cb7badd8-6d9d-47ca-a494-ab014b981d83",
        "colab": {
          "base_uri": "https://localhost:8080/"
        }
      },
      "source": [
        "#informações gerais e tipo de variáveis no arquivo Brasil.IO\n",
        "caso_brasil_io.info()\n",
        "print('Existem campos com valores vazios, e a princípio não farei nenhum tratamento, para os dados vazios. Conforme a necessidade traterei no decorrer da análise.')\n"
      ],
      "execution_count": 49,
      "outputs": [
        {
          "output_type": "stream",
          "text": [
            "<class 'pandas.core.frame.DataFrame'>\n",
            "RangeIndex: 936870 entries, 0 to 936869\n",
            "Data columns (total 13 columns):\n",
            " #   Column                          Non-Null Count   Dtype  \n",
            "---  ------                          --------------   -----  \n",
            " 0   date                            936870 non-null  object \n",
            " 1   state                           936870 non-null  object \n",
            " 2   city                            930535 non-null  object \n",
            " 3   place_type                      936870 non-null  object \n",
            " 4   confirmed                       936870 non-null  int64  \n",
            " 5   deaths                          936870 non-null  int64  \n",
            " 6   order_for_place                 936870 non-null  int64  \n",
            " 7   is_last                         936870 non-null  bool   \n",
            " 8   estimated_population_2019       933215 non-null  float64\n",
            " 9   estimated_population            933215 non-null  float64\n",
            " 10  city_ibge_code                  933215 non-null  float64\n",
            " 11  confirmed_per_100k_inhabitants  919888 non-null  float64\n",
            " 12  death_rate                      936870 non-null  float64\n",
            "dtypes: bool(1), float64(5), int64(3), object(4)\n",
            "memory usage: 86.7+ MB\n",
            "Existem campos com valores vazios, e a princípio não farei nenhum tratamento, para os dados vazios. Conforme a necessidade traterei no decorrer da análise.\n"
          ],
          "name": "stdout"
        }
      ]
    },
    {
      "cell_type": "markdown",
      "metadata": {
        "id": "LmVgpavDUKdh"
      },
      "source": [
        "# 1 - analisar quantidade de casos Registrados de covid 19 por estados UF;"
      ]
    },
    {
      "cell_type": "code",
      "metadata": {
        "id": "tIG5Au-a5nrL",
        "outputId": "8dba3330-52d2-4365-fad9-40687f561baa",
        "colab": {
          "base_uri": "https://localhost:8080/",
          "height": 886
        }
      },
      "source": [
        "#Separando a quantidade de registros para casos de covid 19 por estados UF\n",
        "frequencia = caso_brasil_io['state'].value_counts()\n",
        "\n",
        "#Verificando o percentual de registros dos casos de covid 19 por estados UF\n",
        "percentual = caso_brasil_io['state'].value_counts(normalize=True).round(4)*100\n",
        "\n",
        "#Criando um DataFrame com os valores de frequência e percentual dos casos por estados UF\n",
        "dados = {'Frequência de casos Registrados':frequencia, 'Porcentagem %':percentual}\n",
        "casos_registrados = pd.DataFrame(data=dados)\n",
        "casos_registrados"
      ],
      "execution_count": 50,
      "outputs": [
        {
          "output_type": "execute_result",
          "data": {
            "text/html": [
              "<div>\n",
              "<style scoped>\n",
              "    .dataframe tbody tr th:only-of-type {\n",
              "        vertical-align: middle;\n",
              "    }\n",
              "\n",
              "    .dataframe tbody tr th {\n",
              "        vertical-align: top;\n",
              "    }\n",
              "\n",
              "    .dataframe thead th {\n",
              "        text-align: right;\n",
              "    }\n",
              "</style>\n",
              "<table border=\"1\" class=\"dataframe\">\n",
              "  <thead>\n",
              "    <tr style=\"text-align: right;\">\n",
              "      <th></th>\n",
              "      <th>Frequência de casos Registrados</th>\n",
              "      <th>Porcentagem %</th>\n",
              "    </tr>\n",
              "  </thead>\n",
              "  <tbody>\n",
              "    <tr>\n",
              "      <th>MG</th>\n",
              "      <td>129839</td>\n",
              "      <td>13.86</td>\n",
              "    </tr>\n",
              "    <tr>\n",
              "      <th>SP</th>\n",
              "      <td>114897</td>\n",
              "      <td>12.26</td>\n",
              "    </tr>\n",
              "    <tr>\n",
              "      <th>RS</th>\n",
              "      <td>80731</td>\n",
              "      <td>8.62</td>\n",
              "    </tr>\n",
              "    <tr>\n",
              "      <th>BA</th>\n",
              "      <td>72566</td>\n",
              "      <td>7.75</td>\n",
              "    </tr>\n",
              "    <tr>\n",
              "      <th>PR</th>\n",
              "      <td>62364</td>\n",
              "      <td>6.66</td>\n",
              "    </tr>\n",
              "    <tr>\n",
              "      <th>SC</th>\n",
              "      <td>53179</td>\n",
              "      <td>5.68</td>\n",
              "    </tr>\n",
              "    <tr>\n",
              "      <th>GO</th>\n",
              "      <td>41065</td>\n",
              "      <td>4.38</td>\n",
              "    </tr>\n",
              "    <tr>\n",
              "      <th>MA</th>\n",
              "      <td>41062</td>\n",
              "      <td>4.38</td>\n",
              "    </tr>\n",
              "    <tr>\n",
              "      <th>PB</th>\n",
              "      <td>38848</td>\n",
              "      <td>4.15</td>\n",
              "    </tr>\n",
              "    <tr>\n",
              "      <th>PI</th>\n",
              "      <td>38160</td>\n",
              "      <td>4.07</td>\n",
              "    </tr>\n",
              "    <tr>\n",
              "      <th>CE</th>\n",
              "      <td>36657</td>\n",
              "      <td>3.91</td>\n",
              "    </tr>\n",
              "    <tr>\n",
              "      <th>PE</th>\n",
              "      <td>35663</td>\n",
              "      <td>3.81</td>\n",
              "    </tr>\n",
              "    <tr>\n",
              "      <th>PA</th>\n",
              "      <td>28025</td>\n",
              "      <td>2.99</td>\n",
              "    </tr>\n",
              "    <tr>\n",
              "      <th>RN</th>\n",
              "      <td>22799</td>\n",
              "      <td>2.43</td>\n",
              "    </tr>\n",
              "    <tr>\n",
              "      <th>TO</th>\n",
              "      <td>19440</td>\n",
              "      <td>2.07</td>\n",
              "    </tr>\n",
              "    <tr>\n",
              "      <th>AL</th>\n",
              "      <td>19077</td>\n",
              "      <td>2.04</td>\n",
              "    </tr>\n",
              "    <tr>\n",
              "      <th>RJ</th>\n",
              "      <td>18646</td>\n",
              "      <td>1.99</td>\n",
              "    </tr>\n",
              "    <tr>\n",
              "      <th>SE</th>\n",
              "      <td>13572</td>\n",
              "      <td>1.45</td>\n",
              "    </tr>\n",
              "    <tr>\n",
              "      <th>MS</th>\n",
              "      <td>12886</td>\n",
              "      <td>1.38</td>\n",
              "    </tr>\n",
              "    <tr>\n",
              "      <th>ES</th>\n",
              "      <td>12838</td>\n",
              "      <td>1.37</td>\n",
              "    </tr>\n",
              "    <tr>\n",
              "      <th>AM</th>\n",
              "      <td>12234</td>\n",
              "      <td>1.31</td>\n",
              "    </tr>\n",
              "    <tr>\n",
              "      <th>MT</th>\n",
              "      <td>11983</td>\n",
              "      <td>1.28</td>\n",
              "    </tr>\n",
              "    <tr>\n",
              "      <th>RO</th>\n",
              "      <td>8942</td>\n",
              "      <td>0.95</td>\n",
              "    </tr>\n",
              "    <tr>\n",
              "      <th>AC</th>\n",
              "      <td>4247</td>\n",
              "      <td>0.45</td>\n",
              "    </tr>\n",
              "    <tr>\n",
              "      <th>AP</th>\n",
              "      <td>3327</td>\n",
              "      <td>0.36</td>\n",
              "    </tr>\n",
              "    <tr>\n",
              "      <th>RR</th>\n",
              "      <td>3114</td>\n",
              "      <td>0.33</td>\n",
              "    </tr>\n",
              "    <tr>\n",
              "      <th>DF</th>\n",
              "      <td>709</td>\n",
              "      <td>0.08</td>\n",
              "    </tr>\n",
              "  </tbody>\n",
              "</table>\n",
              "</div>"
            ],
            "text/plain": [
              "    Frequência de casos Registrados  Porcentagem %\n",
              "MG                           129839          13.86\n",
              "SP                           114897          12.26\n",
              "RS                            80731           8.62\n",
              "BA                            72566           7.75\n",
              "PR                            62364           6.66\n",
              "SC                            53179           5.68\n",
              "GO                            41065           4.38\n",
              "MA                            41062           4.38\n",
              "PB                            38848           4.15\n",
              "PI                            38160           4.07\n",
              "CE                            36657           3.91\n",
              "PE                            35663           3.81\n",
              "PA                            28025           2.99\n",
              "RN                            22799           2.43\n",
              "TO                            19440           2.07\n",
              "AL                            19077           2.04\n",
              "RJ                            18646           1.99\n",
              "SE                            13572           1.45\n",
              "MS                            12886           1.38\n",
              "ES                            12838           1.37\n",
              "AM                            12234           1.31\n",
              "MT                            11983           1.28\n",
              "RO                             8942           0.95\n",
              "AC                             4247           0.45\n",
              "AP                             3327           0.36\n",
              "RR                             3114           0.33\n",
              "DF                              709           0.08"
            ]
          },
          "metadata": {
            "tags": []
          },
          "execution_count": 50
        }
      ]
    },
    {
      "cell_type": "code",
      "metadata": {
        "id": "4F81IcA2Vi4U",
        "outputId": "c85be7db-2f92-44c7-b7c0-ea346e076ba8",
        "colab": {
          "base_uri": "https://localhost:8080/",
          "height": 779
        }
      },
      "source": [
        "#Criando um gráfico\n",
        "plt.figure(figsize=(12, 12))\n",
        "\n",
        "#armazenando valores de frequências para construir o gráfico - eixo x\n",
        "casos_registrados.sort_values(by='Frequência de casos Registrados', ascending=True, inplace=True)\n",
        "frequencia = casos_registrados['Frequência de casos Registrados']\n",
        "\n",
        "#armazenando valores dos estados UF para construir o gráfico - eixo y\n",
        "UF = casos_registrados.index\n",
        "\n",
        "#Chamando método barh do matplotlib, para construir o gráfico de barras horizontais\n",
        "plt.barh(UF, frequencia, height=0.85, color='green')\n",
        "\n",
        "#Criando um título\n",
        "plt.title('Total de casos registrados por estados (UF) \\n relacionados ao Covid 19', fontsize = 20)\n",
        "\n",
        "#Nomeando o eixo y\n",
        "plt.ylabel('Estados (UF)', fontsize = 16)\n",
        "\n",
        "#Nomeando o eixo x\n",
        "plt.xlabel('Quantidade de casos registrados ao Covid 19', fontsize = 16)\n",
        "\n",
        "#grid para orientação\n",
        "plt.grid(color='g', linestyle='-.', linewidth=0.5)\n",
        "\n",
        "plt.show"
      ],
      "execution_count": 51,
      "outputs": [
        {
          "output_type": "execute_result",
          "data": {
            "text/plain": [
              "<function matplotlib.pyplot.show>"
            ]
          },
          "metadata": {
            "tags": []
          },
          "execution_count": 51
        },
        {
          "output_type": "display_data",
          "data": {
            "image/png": "[encoded data removed]",
            "text/plain": [
              "<Figure size 864x864 with 1 Axes>"
            ]
          },
          "metadata": {
            "tags": [],
            "needs_background": "light"
          }
        }
      ]
    },
    {
      "cell_type": "markdown",
      "metadata": {
        "id": "_95tlIQEP4qL"
      },
      "source": [
        "Os dados apresentam que a Unidade da Federação com maior frequência é o estado de Minas Gerais com 129.839 registros representando um percentual de 13.86% dos registros realizados em todo o pais, para casos de Covid 19. Interessante que Minas Gerais é o segundo estado mais populoso do pais, com 21.292.666 habitantes segundo dados do IBGE em 2020. São Paulo que é o estado mais populoso do pais com 46.289.333 habitantes segundo o IBGE em 2020, ficou em segundo lugar nos casos registrados referente ao Covid 19.\n",
        "Existem diversos fatores que contribuem para isso, desde cuidados preventivos que a população adotou, histórico hospitalar, idade da população, aspectos culturais, regionais, miscigenação racial, e diversos outros fatores. "
      ]
    },
    {
      "cell_type": "markdown",
      "metadata": {
        "id": "9kdQE85DEHTC"
      },
      "source": [
        "# 2 - analisar quantidade de casos confirmados de covid 19 por estados UF;"
      ]
    },
    {
      "cell_type": "code",
      "metadata": {
        "id": "vhjLSK6FEUol",
        "outputId": "12382290-11e2-41fe-80f8-51c8d03f917f",
        "colab": {
          "base_uri": "https://localhost:8080/",
          "height": 886
        }
      },
      "source": [
        "#Filtrando dados por estados UF\n",
        "caso_brasil_io.query('place_type == \"state\" & is_last == True', inplace=True)\n",
        "\n",
        "#quantidade de casos confirmados por estados UF\n",
        "casos_confirmados = caso_brasil_io[['state','confirmed']]\n",
        "\n",
        "#agrupando por estados UF e fazendo o somatório dos casos confirmados\n",
        "casos_confirmados = casos_confirmados.groupby(by=['state']).sum()\n",
        "\n",
        "#ordenando os estados UF pela quantidade de casos confirmados em ordem decrescente \n",
        "casos_confirmados = casos_confirmados.sort_values(by=['confirmed'], ascending=False)\n",
        "\n",
        "#criando um index e resetando o index state\n",
        "casos_confirmados.reset_index(inplace=True)\n",
        "\n",
        "#criando coluna com o percentual dos casos confirmados\n",
        "casos_confirmados['Porcentagem %'] = (casos_confirmados['confirmed']/casos_confirmados['confirmed'].sum()*100).round(2)\n",
        "\n",
        "casos_confirmados"
      ],
      "execution_count": 52,
      "outputs": [
        {
          "output_type": "execute_result",
          "data": {
            "text/html": [
              "<div>\n",
              "<style scoped>\n",
              "    .dataframe tbody tr th:only-of-type {\n",
              "        vertical-align: middle;\n",
              "    }\n",
              "\n",
              "    .dataframe tbody tr th {\n",
              "        vertical-align: top;\n",
              "    }\n",
              "\n",
              "    .dataframe thead th {\n",
              "        text-align: right;\n",
              "    }\n",
              "</style>\n",
              "<table border=\"1\" class=\"dataframe\">\n",
              "  <thead>\n",
              "    <tr style=\"text-align: right;\">\n",
              "      <th></th>\n",
              "      <th>state</th>\n",
              "      <th>confirmed</th>\n",
              "      <th>Porcentagem %</th>\n",
              "    </tr>\n",
              "  </thead>\n",
              "  <tbody>\n",
              "    <tr>\n",
              "      <th>0</th>\n",
              "      <td>SP</td>\n",
              "      <td>1125936</td>\n",
              "      <td>20.05</td>\n",
              "    </tr>\n",
              "    <tr>\n",
              "      <th>1</th>\n",
              "      <td>MG</td>\n",
              "      <td>364541</td>\n",
              "      <td>6.49</td>\n",
              "    </tr>\n",
              "    <tr>\n",
              "      <th>2</th>\n",
              "      <td>BA</td>\n",
              "      <td>359130</td>\n",
              "      <td>6.39</td>\n",
              "    </tr>\n",
              "    <tr>\n",
              "      <th>3</th>\n",
              "      <td>RJ</td>\n",
              "      <td>313843</td>\n",
              "      <td>5.59</td>\n",
              "    </tr>\n",
              "    <tr>\n",
              "      <th>4</th>\n",
              "      <td>CE</td>\n",
              "      <td>277072</td>\n",
              "      <td>4.93</td>\n",
              "    </tr>\n",
              "    <tr>\n",
              "      <th>5</th>\n",
              "      <td>SC</td>\n",
              "      <td>268644</td>\n",
              "      <td>4.78</td>\n",
              "    </tr>\n",
              "    <tr>\n",
              "      <th>6</th>\n",
              "      <td>GO</td>\n",
              "      <td>260133</td>\n",
              "      <td>4.63</td>\n",
              "    </tr>\n",
              "    <tr>\n",
              "      <th>7</th>\n",
              "      <td>PA</td>\n",
              "      <td>256139</td>\n",
              "      <td>4.56</td>\n",
              "    </tr>\n",
              "    <tr>\n",
              "      <th>8</th>\n",
              "      <td>RS</td>\n",
              "      <td>254828</td>\n",
              "      <td>4.54</td>\n",
              "    </tr>\n",
              "    <tr>\n",
              "      <th>9</th>\n",
              "      <td>PR</td>\n",
              "      <td>217175</td>\n",
              "      <td>3.87</td>\n",
              "    </tr>\n",
              "    <tr>\n",
              "      <th>10</th>\n",
              "      <td>DF</td>\n",
              "      <td>214955</td>\n",
              "      <td>3.83</td>\n",
              "    </tr>\n",
              "    <tr>\n",
              "      <th>11</th>\n",
              "      <td>MA</td>\n",
              "      <td>186904</td>\n",
              "      <td>3.33</td>\n",
              "    </tr>\n",
              "    <tr>\n",
              "      <th>12</th>\n",
              "      <td>PE</td>\n",
              "      <td>164222</td>\n",
              "      <td>2.92</td>\n",
              "    </tr>\n",
              "    <tr>\n",
              "      <th>13</th>\n",
              "      <td>AM</td>\n",
              "      <td>164070</td>\n",
              "      <td>2.92</td>\n",
              "    </tr>\n",
              "    <tr>\n",
              "      <th>14</th>\n",
              "      <td>ES</td>\n",
              "      <td>159813</td>\n",
              "      <td>2.85</td>\n",
              "    </tr>\n",
              "    <tr>\n",
              "      <th>15</th>\n",
              "      <td>MT</td>\n",
              "      <td>145644</td>\n",
              "      <td>2.59</td>\n",
              "    </tr>\n",
              "    <tr>\n",
              "      <th>16</th>\n",
              "      <td>PB</td>\n",
              "      <td>134297</td>\n",
              "      <td>2.39</td>\n",
              "    </tr>\n",
              "    <tr>\n",
              "      <th>17</th>\n",
              "      <td>PI</td>\n",
              "      <td>115825</td>\n",
              "      <td>2.06</td>\n",
              "    </tr>\n",
              "    <tr>\n",
              "      <th>18</th>\n",
              "      <td>AL</td>\n",
              "      <td>91270</td>\n",
              "      <td>1.63</td>\n",
              "    </tr>\n",
              "    <tr>\n",
              "      <th>19</th>\n",
              "      <td>SE</td>\n",
              "      <td>84810</td>\n",
              "      <td>1.51</td>\n",
              "    </tr>\n",
              "    <tr>\n",
              "      <th>20</th>\n",
              "      <td>MS</td>\n",
              "      <td>83616</td>\n",
              "      <td>1.49</td>\n",
              "    </tr>\n",
              "    <tr>\n",
              "      <th>21</th>\n",
              "      <td>RN</td>\n",
              "      <td>82420</td>\n",
              "      <td>1.47</td>\n",
              "    </tr>\n",
              "    <tr>\n",
              "      <th>22</th>\n",
              "      <td>TO</td>\n",
              "      <td>76175</td>\n",
              "      <td>1.36</td>\n",
              "    </tr>\n",
              "    <tr>\n",
              "      <th>23</th>\n",
              "      <td>RO</td>\n",
              "      <td>72630</td>\n",
              "      <td>1.29</td>\n",
              "    </tr>\n",
              "    <tr>\n",
              "      <th>24</th>\n",
              "      <td>RR</td>\n",
              "      <td>58304</td>\n",
              "      <td>1.04</td>\n",
              "    </tr>\n",
              "    <tr>\n",
              "      <th>25</th>\n",
              "      <td>AP</td>\n",
              "      <td>52832</td>\n",
              "      <td>0.94</td>\n",
              "    </tr>\n",
              "    <tr>\n",
              "      <th>26</th>\n",
              "      <td>AC</td>\n",
              "      <td>31248</td>\n",
              "      <td>0.56</td>\n",
              "    </tr>\n",
              "  </tbody>\n",
              "</table>\n",
              "</div>"
            ],
            "text/plain": [
              "   state  confirmed  Porcentagem %\n",
              "0     SP    1125936          20.05\n",
              "1     MG     364541           6.49\n",
              "2     BA     359130           6.39\n",
              "3     RJ     313843           5.59\n",
              "4     CE     277072           4.93\n",
              "5     SC     268644           4.78\n",
              "6     GO     260133           4.63\n",
              "7     PA     256139           4.56\n",
              "8     RS     254828           4.54\n",
              "9     PR     217175           3.87\n",
              "10    DF     214955           3.83\n",
              "11    MA     186904           3.33\n",
              "12    PE     164222           2.92\n",
              "13    AM     164070           2.92\n",
              "14    ES     159813           2.85\n",
              "15    MT     145644           2.59\n",
              "16    PB     134297           2.39\n",
              "17    PI     115825           2.06\n",
              "18    AL      91270           1.63\n",
              "19    SE      84810           1.51\n",
              "20    MS      83616           1.49\n",
              "21    RN      82420           1.47\n",
              "22    TO      76175           1.36\n",
              "23    RO      72630           1.29\n",
              "24    RR      58304           1.04\n",
              "25    AP      52832           0.94\n",
              "26    AC      31248           0.56"
            ]
          },
          "metadata": {
            "tags": []
          },
          "execution_count": 52
        }
      ]
    },
    {
      "cell_type": "code",
      "metadata": {
        "id": "2dHe442YEpqo",
        "outputId": "6e0b5f60-8108-4a66-8360-dd120f51d5b0",
        "colab": {
          "base_uri": "https://localhost:8080/",
          "height": 779
        }
      },
      "source": [
        "#Criando um gráfico\n",
        "plt.figure(figsize=(12, 12))\n",
        "\n",
        "#armazenando quantidade de confirmados para construir o gráfico - eixo x\n",
        "casos_confirmados.sort_values(by='confirmed', ascending=True, inplace=True)\n",
        "confirmados = casos_confirmados['confirmed']\n",
        "\n",
        "#armazenando valores dos estados UF para construir o gráfico - eixo y\n",
        "UF = casos_confirmados['state']\n",
        "\n",
        "#Chamando método barh do matplotlib, para construir o gráfico de barras horizontais\n",
        "plt.barh(UF, confirmados, height=0.85, color='blue')\n",
        "\n",
        "\n",
        "#Criando um título\n",
        "plt.title('Total de casos confirmados por estados (UF) \\n relacionados ao Covid 19', fontsize = 20)\n",
        "\n",
        "#Nomeando o eixo y\n",
        "plt.ylabel('Estados (UF)', fontsize = 16)\n",
        "\n",
        "#Nomeando o eixo x\n",
        "plt.xlabel('Quantidade de casos confirmados ao Covid 19', fontsize = 16 )\n",
        "\n",
        "#formatando eixo x do gráfico\n",
        "plt.ticklabel_format(axis = 'x' , style = 'plain')\n",
        "\n",
        "#grid para orientação\n",
        "plt.grid(color='b', linestyle='-.', linewidth=0.5)\n",
        "\n",
        "plt.show"
      ],
      "execution_count": 53,
      "outputs": [
        {
          "output_type": "execute_result",
          "data": {
            "text/plain": [
              "<function matplotlib.pyplot.show>"
            ]
          },
          "metadata": {
            "tags": []
          },
          "execution_count": 53
        },
        {
          "output_type": "display_data",
          "data": {
            "image/png": "[encoded data removed]",
            "text/plain": [
              "<Figure size 864x864 with 1 Axes>"
            ]
          },
          "metadata": {
            "tags": [],
            "needs_background": "light"
          }
        }
      ]
    },
    {
      "cell_type": "markdown",
      "metadata": {
        "id": "NRuP-SKrQl7B"
      },
      "source": [
        "São Paulo é dispararo o estado (UF) com mais casos confirmados de Covid 19, ocorreram 1.125.936 registros. Representando cerca de 20.05% de todos os casos confirmados em todo pais. "
      ]
    },
    {
      "cell_type": "markdown",
      "metadata": {
        "id": "_3Z30FlWT6Gx"
      },
      "source": [
        "# 3 - analisar quantidade de mortes pela covid 19 por estados UF;"
      ]
    },
    {
      "cell_type": "code",
      "metadata": {
        "id": "bGLMot1XLJ-7",
        "outputId": "2a775392-12d3-4641-ef3f-d160fcbcc628",
        "colab": {
          "base_uri": "https://localhost:8080/",
          "height": 886
        }
      },
      "source": [
        "#quantidade de mortes por estados UF\n",
        "mortes = caso_brasil_io[['state','deaths']]\n",
        "\n",
        "#agrupando por estados UF e fazendo o somatório das mortes\n",
        "mortes = mortes.groupby(by=['state']).sum()\n",
        "\n",
        "#ordenando os estados UF pela quantidade de mortes em ordem decrescente \n",
        "mortes = mortes.sort_values(by=['deaths'], ascending=False)\n",
        "\n",
        "#criando um index e resetando o index state\n",
        "mortes.reset_index(inplace=True)\n",
        "\n",
        "#criando coluna com o percentual dos mortes\n",
        "mortes['Porcentagem %'] = (mortes['deaths']/mortes['deaths'].sum()*100).round(2)\n",
        "\n",
        "mortes"
      ],
      "execution_count": 54,
      "outputs": [
        {
          "output_type": "execute_result",
          "data": {
            "text/html": [
              "<div>\n",
              "<style scoped>\n",
              "    .dataframe tbody tr th:only-of-type {\n",
              "        vertical-align: middle;\n",
              "    }\n",
              "\n",
              "    .dataframe tbody tr th {\n",
              "        vertical-align: top;\n",
              "    }\n",
              "\n",
              "    .dataframe thead th {\n",
              "        text-align: right;\n",
              "    }\n",
              "</style>\n",
              "<table border=\"1\" class=\"dataframe\">\n",
              "  <thead>\n",
              "    <tr style=\"text-align: right;\">\n",
              "      <th></th>\n",
              "      <th>state</th>\n",
              "      <th>deaths</th>\n",
              "      <th>Porcentagem %</th>\n",
              "    </tr>\n",
              "  </thead>\n",
              "  <tbody>\n",
              "    <tr>\n",
              "      <th>0</th>\n",
              "      <td>SP</td>\n",
              "      <td>39717</td>\n",
              "      <td>24.54</td>\n",
              "    </tr>\n",
              "    <tr>\n",
              "      <th>1</th>\n",
              "      <td>RJ</td>\n",
              "      <td>20849</td>\n",
              "      <td>12.88</td>\n",
              "    </tr>\n",
              "    <tr>\n",
              "      <th>2</th>\n",
              "      <td>CE</td>\n",
              "      <td>9392</td>\n",
              "      <td>5.80</td>\n",
              "    </tr>\n",
              "    <tr>\n",
              "      <th>3</th>\n",
              "      <td>MG</td>\n",
              "      <td>9128</td>\n",
              "      <td>5.64</td>\n",
              "    </tr>\n",
              "    <tr>\n",
              "      <th>4</th>\n",
              "      <td>PE</td>\n",
              "      <td>8687</td>\n",
              "      <td>5.37</td>\n",
              "    </tr>\n",
              "    <tr>\n",
              "      <th>5</th>\n",
              "      <td>BA</td>\n",
              "      <td>7731</td>\n",
              "      <td>4.78</td>\n",
              "    </tr>\n",
              "    <tr>\n",
              "      <th>6</th>\n",
              "      <td>PA</td>\n",
              "      <td>6779</td>\n",
              "      <td>4.19</td>\n",
              "    </tr>\n",
              "    <tr>\n",
              "      <th>7</th>\n",
              "      <td>RS</td>\n",
              "      <td>5954</td>\n",
              "      <td>3.68</td>\n",
              "    </tr>\n",
              "    <tr>\n",
              "      <th>8</th>\n",
              "      <td>GO</td>\n",
              "      <td>5869</td>\n",
              "      <td>3.63</td>\n",
              "    </tr>\n",
              "    <tr>\n",
              "      <th>9</th>\n",
              "      <td>PR</td>\n",
              "      <td>5293</td>\n",
              "      <td>3.27</td>\n",
              "    </tr>\n",
              "    <tr>\n",
              "      <th>10</th>\n",
              "      <td>AM</td>\n",
              "      <td>4607</td>\n",
              "      <td>2.85</td>\n",
              "    </tr>\n",
              "    <tr>\n",
              "      <th>11</th>\n",
              "      <td>MA</td>\n",
              "      <td>4101</td>\n",
              "      <td>2.53</td>\n",
              "    </tr>\n",
              "    <tr>\n",
              "      <th>12</th>\n",
              "      <td>ES</td>\n",
              "      <td>3896</td>\n",
              "      <td>2.41</td>\n",
              "    </tr>\n",
              "    <tr>\n",
              "      <th>13</th>\n",
              "      <td>MT</td>\n",
              "      <td>3896</td>\n",
              "      <td>2.41</td>\n",
              "    </tr>\n",
              "    <tr>\n",
              "      <th>14</th>\n",
              "      <td>DF</td>\n",
              "      <td>3728</td>\n",
              "      <td>2.30</td>\n",
              "    </tr>\n",
              "    <tr>\n",
              "      <th>15</th>\n",
              "      <td>SC</td>\n",
              "      <td>3173</td>\n",
              "      <td>1.96</td>\n",
              "    </tr>\n",
              "    <tr>\n",
              "      <th>16</th>\n",
              "      <td>PB</td>\n",
              "      <td>3138</td>\n",
              "      <td>1.94</td>\n",
              "    </tr>\n",
              "    <tr>\n",
              "      <th>17</th>\n",
              "      <td>RN</td>\n",
              "      <td>2603</td>\n",
              "      <td>1.61</td>\n",
              "    </tr>\n",
              "    <tr>\n",
              "      <th>18</th>\n",
              "      <td>PI</td>\n",
              "      <td>2459</td>\n",
              "      <td>1.52</td>\n",
              "    </tr>\n",
              "    <tr>\n",
              "      <th>19</th>\n",
              "      <td>AL</td>\n",
              "      <td>2258</td>\n",
              "      <td>1.40</td>\n",
              "    </tr>\n",
              "    <tr>\n",
              "      <th>20</th>\n",
              "      <td>SE</td>\n",
              "      <td>2231</td>\n",
              "      <td>1.38</td>\n",
              "    </tr>\n",
              "    <tr>\n",
              "      <th>21</th>\n",
              "      <td>MS</td>\n",
              "      <td>1629</td>\n",
              "      <td>1.01</td>\n",
              "    </tr>\n",
              "    <tr>\n",
              "      <th>22</th>\n",
              "      <td>RO</td>\n",
              "      <td>1470</td>\n",
              "      <td>0.91</td>\n",
              "    </tr>\n",
              "    <tr>\n",
              "      <th>23</th>\n",
              "      <td>TO</td>\n",
              "      <td>1108</td>\n",
              "      <td>0.68</td>\n",
              "    </tr>\n",
              "    <tr>\n",
              "      <th>24</th>\n",
              "      <td>AP</td>\n",
              "      <td>751</td>\n",
              "      <td>0.46</td>\n",
              "    </tr>\n",
              "    <tr>\n",
              "      <th>25</th>\n",
              "      <td>AC</td>\n",
              "      <td>697</td>\n",
              "      <td>0.43</td>\n",
              "    </tr>\n",
              "    <tr>\n",
              "      <th>26</th>\n",
              "      <td>RR</td>\n",
              "      <td>695</td>\n",
              "      <td>0.43</td>\n",
              "    </tr>\n",
              "  </tbody>\n",
              "</table>\n",
              "</div>"
            ],
            "text/plain": [
              "   state  deaths  Porcentagem %\n",
              "0     SP   39717          24.54\n",
              "1     RJ   20849          12.88\n",
              "2     CE    9392           5.80\n",
              "3     MG    9128           5.64\n",
              "4     PE    8687           5.37\n",
              "5     BA    7731           4.78\n",
              "6     PA    6779           4.19\n",
              "7     RS    5954           3.68\n",
              "8     GO    5869           3.63\n",
              "9     PR    5293           3.27\n",
              "10    AM    4607           2.85\n",
              "11    MA    4101           2.53\n",
              "12    ES    3896           2.41\n",
              "13    MT    3896           2.41\n",
              "14    DF    3728           2.30\n",
              "15    SC    3173           1.96\n",
              "16    PB    3138           1.94\n",
              "17    RN    2603           1.61\n",
              "18    PI    2459           1.52\n",
              "19    AL    2258           1.40\n",
              "20    SE    2231           1.38\n",
              "21    MS    1629           1.01\n",
              "22    RO    1470           0.91\n",
              "23    TO    1108           0.68\n",
              "24    AP     751           0.46\n",
              "25    AC     697           0.43\n",
              "26    RR     695           0.43"
            ]
          },
          "metadata": {
            "tags": []
          },
          "execution_count": 54
        }
      ]
    },
    {
      "cell_type": "code",
      "metadata": {
        "id": "-Zt0ImoiUo4C",
        "outputId": "b928a3e1-0c92-4c2f-a0e4-7a9e75439671",
        "colab": {
          "base_uri": "https://localhost:8080/",
          "height": 779
        }
      },
      "source": [
        "#Criando um gráfico\n",
        "plt.figure(figsize=(12, 12))\n",
        "\n",
        "#armazenando quantidade de mortes para construir o gráfico - eixo x\n",
        "mortes.sort_values(by='deaths', ascending=True, inplace=True)\n",
        "mortos = mortes['deaths']\n",
        "\n",
        "#armazenando valores dos estados UF para construir o gráfico - eixo y\n",
        "UF = mortes['state']\n",
        "\n",
        "#Chamando método barh do matplotlib, para construir o gráfico de barras horizontais\n",
        "plt.barh(UF, mortos, height=0.85, color='red')\n",
        "\n",
        "\n",
        "#Criando um título\n",
        "plt.title('Total de mortes por estados (UF) \\n relacionados ao Covid 19', fontsize = 20)\n",
        "\n",
        "#Nomeando o eixo y\n",
        "plt.ylabel('Estados (UF)', fontsize = 16)\n",
        "\n",
        "#Nomeando o eixo x\n",
        "plt.xlabel('Quantidade de mortes relacionado Covid 19', fontsize = 16 )\n",
        "\n",
        "#formatando eixo x do gráfico\n",
        "plt.ticklabel_format(axis = 'x' , style = 'plain')\n",
        "\n",
        "#grid para orientação\n",
        "plt.grid(color='r', linestyle='-.', linewidth=0.5)\n",
        "\n",
        "plt.show"
      ],
      "execution_count": 55,
      "outputs": [
        {
          "output_type": "execute_result",
          "data": {
            "text/plain": [
              "<function matplotlib.pyplot.show>"
            ]
          },
          "metadata": {
            "tags": []
          },
          "execution_count": 55
        },
        {
          "output_type": "display_data",
          "data": {
            "image/png": "[encoded data removed]",
            "text/plain": [
              "<Figure size 864x864 with 1 Axes>"
            ]
          },
          "metadata": {
            "tags": [],
            "needs_background": "light"
          }
        }
      ]
    },
    {
      "cell_type": "markdown",
      "metadata": {
        "id": "jQx2MvCzWOI_"
      },
      "source": [
        "São Paulo é o estado com maior número de casos de mortes com cerca de 39.717 mortos, representando um percentual de 24.54% em todo o pais.  "
      ]
    },
    {
      "cell_type": "markdown",
      "metadata": {
        "id": "kQYYl6T9XvwP"
      },
      "source": [
        "# 4 - analisar taxa de mortalidade pela covid 19 por estados UF;"
      ]
    },
    {
      "cell_type": "code",
      "metadata": {
        "id": "DcsuA9q1Vhgo",
        "outputId": "235b2615-76f0-4de2-e92b-712cf5c89b49",
        "colab": {
          "base_uri": "https://localhost:8080/",
          "height": 886
        }
      },
      "source": [
        "#Separando variaveis de estudo para analisar a mortalidade, state, deaths, confirmed\n",
        "mortalidade = caso_brasil_io[['state','deaths', 'confirmed']]\n",
        "\n",
        "#agrupando por estado UF, e realizando o somatório de cada variavel \n",
        "mortalidade = mortalidade.groupby(by=['state']).sum()\n",
        "\n",
        "#Criando uma coluna(variavel) de taxa de mortalidade, pegando o total por estado UF do total de mortos\n",
        "# e dividindo pelo total de casos confirmados. \n",
        "mortalidade['death_rate'] = (mortalidade['deaths']/mortalidade['confirmed']*100).round(2)\n",
        "\n",
        "#Ordenando o DataFrame pelo total de taxa de mortalidade(death_rate)\n",
        "mortalidade = mortalidade.sort_values(by=['death_rate'], ascending=False)\n",
        "\n",
        "#criando um index e resetando o index state\n",
        "mortalidade.reset_index(inplace=True)\n",
        "\n",
        "mortalidade"
      ],
      "execution_count": 56,
      "outputs": [
        {
          "output_type": "execute_result",
          "data": {
            "text/html": [
              "<div>\n",
              "<style scoped>\n",
              "    .dataframe tbody tr th:only-of-type {\n",
              "        vertical-align: middle;\n",
              "    }\n",
              "\n",
              "    .dataframe tbody tr th {\n",
              "        vertical-align: top;\n",
              "    }\n",
              "\n",
              "    .dataframe thead th {\n",
              "        text-align: right;\n",
              "    }\n",
              "</style>\n",
              "<table border=\"1\" class=\"dataframe\">\n",
              "  <thead>\n",
              "    <tr style=\"text-align: right;\">\n",
              "      <th></th>\n",
              "      <th>state</th>\n",
              "      <th>deaths</th>\n",
              "      <th>confirmed</th>\n",
              "      <th>death_rate</th>\n",
              "    </tr>\n",
              "  </thead>\n",
              "  <tbody>\n",
              "    <tr>\n",
              "      <th>0</th>\n",
              "      <td>RJ</td>\n",
              "      <td>20849</td>\n",
              "      <td>313843</td>\n",
              "      <td>6.64</td>\n",
              "    </tr>\n",
              "    <tr>\n",
              "      <th>1</th>\n",
              "      <td>PE</td>\n",
              "      <td>8687</td>\n",
              "      <td>164222</td>\n",
              "      <td>5.29</td>\n",
              "    </tr>\n",
              "    <tr>\n",
              "      <th>2</th>\n",
              "      <td>SP</td>\n",
              "      <td>39717</td>\n",
              "      <td>1125936</td>\n",
              "      <td>3.53</td>\n",
              "    </tr>\n",
              "    <tr>\n",
              "      <th>3</th>\n",
              "      <td>CE</td>\n",
              "      <td>9392</td>\n",
              "      <td>277072</td>\n",
              "      <td>3.39</td>\n",
              "    </tr>\n",
              "    <tr>\n",
              "      <th>4</th>\n",
              "      <td>RN</td>\n",
              "      <td>2603</td>\n",
              "      <td>82420</td>\n",
              "      <td>3.16</td>\n",
              "    </tr>\n",
              "    <tr>\n",
              "      <th>5</th>\n",
              "      <td>AM</td>\n",
              "      <td>4607</td>\n",
              "      <td>164070</td>\n",
              "      <td>2.81</td>\n",
              "    </tr>\n",
              "    <tr>\n",
              "      <th>6</th>\n",
              "      <td>MT</td>\n",
              "      <td>3896</td>\n",
              "      <td>145644</td>\n",
              "      <td>2.68</td>\n",
              "    </tr>\n",
              "    <tr>\n",
              "      <th>7</th>\n",
              "      <td>PA</td>\n",
              "      <td>6779</td>\n",
              "      <td>256139</td>\n",
              "      <td>2.65</td>\n",
              "    </tr>\n",
              "    <tr>\n",
              "      <th>8</th>\n",
              "      <td>SE</td>\n",
              "      <td>2231</td>\n",
              "      <td>84810</td>\n",
              "      <td>2.63</td>\n",
              "    </tr>\n",
              "    <tr>\n",
              "      <th>9</th>\n",
              "      <td>MG</td>\n",
              "      <td>9128</td>\n",
              "      <td>364541</td>\n",
              "      <td>2.50</td>\n",
              "    </tr>\n",
              "    <tr>\n",
              "      <th>10</th>\n",
              "      <td>AL</td>\n",
              "      <td>2258</td>\n",
              "      <td>91270</td>\n",
              "      <td>2.47</td>\n",
              "    </tr>\n",
              "    <tr>\n",
              "      <th>11</th>\n",
              "      <td>PR</td>\n",
              "      <td>5293</td>\n",
              "      <td>217175</td>\n",
              "      <td>2.44</td>\n",
              "    </tr>\n",
              "    <tr>\n",
              "      <th>12</th>\n",
              "      <td>ES</td>\n",
              "      <td>3896</td>\n",
              "      <td>159813</td>\n",
              "      <td>2.44</td>\n",
              "    </tr>\n",
              "    <tr>\n",
              "      <th>13</th>\n",
              "      <td>RS</td>\n",
              "      <td>5954</td>\n",
              "      <td>254828</td>\n",
              "      <td>2.34</td>\n",
              "    </tr>\n",
              "    <tr>\n",
              "      <th>14</th>\n",
              "      <td>PB</td>\n",
              "      <td>3138</td>\n",
              "      <td>134297</td>\n",
              "      <td>2.34</td>\n",
              "    </tr>\n",
              "    <tr>\n",
              "      <th>15</th>\n",
              "      <td>GO</td>\n",
              "      <td>5869</td>\n",
              "      <td>260133</td>\n",
              "      <td>2.26</td>\n",
              "    </tr>\n",
              "    <tr>\n",
              "      <th>16</th>\n",
              "      <td>AC</td>\n",
              "      <td>697</td>\n",
              "      <td>31248</td>\n",
              "      <td>2.23</td>\n",
              "    </tr>\n",
              "    <tr>\n",
              "      <th>17</th>\n",
              "      <td>MA</td>\n",
              "      <td>4101</td>\n",
              "      <td>186904</td>\n",
              "      <td>2.19</td>\n",
              "    </tr>\n",
              "    <tr>\n",
              "      <th>18</th>\n",
              "      <td>BA</td>\n",
              "      <td>7731</td>\n",
              "      <td>359130</td>\n",
              "      <td>2.15</td>\n",
              "    </tr>\n",
              "    <tr>\n",
              "      <th>19</th>\n",
              "      <td>PI</td>\n",
              "      <td>2459</td>\n",
              "      <td>115825</td>\n",
              "      <td>2.12</td>\n",
              "    </tr>\n",
              "    <tr>\n",
              "      <th>20</th>\n",
              "      <td>RO</td>\n",
              "      <td>1470</td>\n",
              "      <td>72630</td>\n",
              "      <td>2.02</td>\n",
              "    </tr>\n",
              "    <tr>\n",
              "      <th>21</th>\n",
              "      <td>MS</td>\n",
              "      <td>1629</td>\n",
              "      <td>83616</td>\n",
              "      <td>1.95</td>\n",
              "    </tr>\n",
              "    <tr>\n",
              "      <th>22</th>\n",
              "      <td>DF</td>\n",
              "      <td>3728</td>\n",
              "      <td>214955</td>\n",
              "      <td>1.73</td>\n",
              "    </tr>\n",
              "    <tr>\n",
              "      <th>23</th>\n",
              "      <td>TO</td>\n",
              "      <td>1108</td>\n",
              "      <td>76175</td>\n",
              "      <td>1.45</td>\n",
              "    </tr>\n",
              "    <tr>\n",
              "      <th>24</th>\n",
              "      <td>AP</td>\n",
              "      <td>751</td>\n",
              "      <td>52832</td>\n",
              "      <td>1.42</td>\n",
              "    </tr>\n",
              "    <tr>\n",
              "      <th>25</th>\n",
              "      <td>RR</td>\n",
              "      <td>695</td>\n",
              "      <td>58304</td>\n",
              "      <td>1.19</td>\n",
              "    </tr>\n",
              "    <tr>\n",
              "      <th>26</th>\n",
              "      <td>SC</td>\n",
              "      <td>3173</td>\n",
              "      <td>268644</td>\n",
              "      <td>1.18</td>\n",
              "    </tr>\n",
              "  </tbody>\n",
              "</table>\n",
              "</div>"
            ],
            "text/plain": [
              "   state  deaths  confirmed  death_rate\n",
              "0     RJ   20849     313843        6.64\n",
              "1     PE    8687     164222        5.29\n",
              "2     SP   39717    1125936        3.53\n",
              "3     CE    9392     277072        3.39\n",
              "4     RN    2603      82420        3.16\n",
              "5     AM    4607     164070        2.81\n",
              "6     MT    3896     145644        2.68\n",
              "7     PA    6779     256139        2.65\n",
              "8     SE    2231      84810        2.63\n",
              "9     MG    9128     364541        2.50\n",
              "10    AL    2258      91270        2.47\n",
              "11    PR    5293     217175        2.44\n",
              "12    ES    3896     159813        2.44\n",
              "13    RS    5954     254828        2.34\n",
              "14    PB    3138     134297        2.34\n",
              "15    GO    5869     260133        2.26\n",
              "16    AC     697      31248        2.23\n",
              "17    MA    4101     186904        2.19\n",
              "18    BA    7731     359130        2.15\n",
              "19    PI    2459     115825        2.12\n",
              "20    RO    1470      72630        2.02\n",
              "21    MS    1629      83616        1.95\n",
              "22    DF    3728     214955        1.73\n",
              "23    TO    1108      76175        1.45\n",
              "24    AP     751      52832        1.42\n",
              "25    RR     695      58304        1.19\n",
              "26    SC    3173     268644        1.18"
            ]
          },
          "metadata": {
            "tags": []
          },
          "execution_count": 56
        }
      ]
    },
    {
      "cell_type": "code",
      "metadata": {
        "id": "V_qPRid-YmEU",
        "outputId": "4be441b6-1b63-49f3-ceb8-4bc418952320",
        "colab": {
          "base_uri": "https://localhost:8080/",
          "height": 779
        }
      },
      "source": [
        "#Criando um gráfico\n",
        "plt.figure(figsize=(12, 12))\n",
        "\n",
        "#armazenando a taxa de mortalidade para construir o gráfico - eixo x\n",
        "mortalidade.sort_values(by='death_rate', ascending=True, inplace=True)\n",
        "tx_mortos = mortalidade['death_rate']\n",
        "\n",
        "#armazenando valores dos estados UF para construir o gráfico - eixo y\n",
        "UF = mortalidade['state']\n",
        "\n",
        "#Chamando método barh do matplotlib, para construir o gráfico de barras horizontais\n",
        "plt.barh(UF, tx_mortos, height=0.85, color='orange')\n",
        "\n",
        "\n",
        "#Criando um título\n",
        "plt.title('Taxa de mortalidade por estados (UF) \\n relacionados ao Covid 19', fontsize = 20)\n",
        "\n",
        "#Nomeando o eixo y\n",
        "plt.ylabel('Estados (UF)', fontsize = 16)\n",
        "\n",
        "#Nomeando o eixo x\n",
        "plt.xlabel('Taxa de mortalidade relacionado Covid 19', fontsize = 16 )\n",
        "\n",
        "#formatando eixo x do gráfico\n",
        "plt.ticklabel_format(axis = 'x' , style = 'plain')\n",
        "\n",
        "#grid para orientação\n",
        "plt.grid(color='m', linestyle='-.', linewidth=0.5)\n",
        "\n",
        "plt.show"
      ],
      "execution_count": 57,
      "outputs": [
        {
          "output_type": "execute_result",
          "data": {
            "text/plain": [
              "<function matplotlib.pyplot.show>"
            ]
          },
          "metadata": {
            "tags": []
          },
          "execution_count": 57
        },
        {
          "output_type": "display_data",
          "data": {
            "image/png": "[encoded data removed]",
            "text/plain": [
              "<Figure size 864x864 with 1 Axes>"
            ]
          },
          "metadata": {
            "tags": [],
            "needs_background": "light"
          }
        }
      ]
    },
    {
      "cell_type": "markdown",
      "metadata": {
        "id": "RXbp36Qag30D"
      },
      "source": [
        "Os estados UF do Rio de Janeiro e Pernambuco destacam pela alta taxa de mortalidade em relação aos outros estados do pais, apresentam uma taxa de mortalidade de 6.64% e 5.29% respectivamente. Existem diversos fatores que contribuem negativamente e causam esta alta taxa de mortalidade, como condições financeiras do estado, política, cultura, e principalmente as condições hospitalares."
      ]
    },
    {
      "cell_type": "code",
      "metadata": {
        "id": "s7WSv5mXdgi-"
      },
      "source": [
        ""
      ],
      "execution_count": 57,
      "outputs": []
    }
  ]
}