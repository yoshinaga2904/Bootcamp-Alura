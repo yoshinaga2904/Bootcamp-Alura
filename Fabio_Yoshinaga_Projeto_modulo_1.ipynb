{
  "nbformat": 4,
  "nbformat_minor": 0,
  "metadata": {
    "colab": {
      "name": "Fabio_Yoshinaga_Projeto_modulo_1.ipynb",
      "provenance": [],
      "collapsed_sections": [],
      "toc_visible": true,
      "include_colab_link": true
    },
    "kernelspec": {
      "name": "python3",
      "display_name": "Python 3"
    }
  },
  "cells": [
    {
      "cell_type": "markdown",
      "metadata": {
        "id": "view-in-github",
        "colab_type": "text"
      },
      "source": [
        "<a href=\"https://colab.research.google.com/github/yoshinaga2904/Bootcamp-Alura/blob/main/Fabio_Yoshinaga_Projeto_modulo_1.ipynb\" target=\"_parent\"><img src=\"https://colab.research.google.com/assets/colab-badge.svg\" alt=\"Open In Colab\"/></a>"
      ]
    },
    {
      "cell_type": "code",
      "metadata": {
        "id": "1d73_AD8ObhZ",
        "outputId": "038eaab6-3ba1-4b8c-9d15-85f1fcabbb48",
        "colab": {
          "base_uri": "https://localhost:8080/"
        }
      },
      "source": [
        "from google.colab import drive\n",
        "drive.mount('/content/drive')"
      ],
      "execution_count": 5,
      "outputs": [
        {
          "output_type": "stream",
          "text": [
            "Mounted at /content/drive\n"
          ],
          "name": "stdout"
        }
      ]
    },
    {
      "cell_type": "markdown",
      "metadata": {
        "id": "i_PwuJznhm-N"
      },
      "source": [
        "# Apresentação:\n",
        "\n",
        "---\n",
        "Olá Cientistas!\n",
        "\n",
        "Pretendo com as aulas do modulo 1 - Bootcamp Data Science Aplicado, aprender as tecnicas utilizadas por um cientista de dados para os tratamentos de dados e teorias aplicadas. Vou analisar os dados da fonte citada abaixo e demonstrar algumas hipóteses observadas referente a epidemia Covid 19. Então vamos lá... \n"
      ]
    },
    {
      "cell_type": "markdown",
      "metadata": {
        "id": "34heyWHSfgUg"
      },
      "source": [
        "# Base de estudo:\n",
        "\n",
        "---\n",
        "Pesquisa:\n",
        "\n",
        "Secretarias de Saúde das Unidades Federativas, dados tratados por Álvaro Justen e colaboradores/Brasil.IO.\n",
        "\n",
        "*fonte: https://github.com/turicas/covid19-br/blob/master/api.md#casos*\n"
      ]
    },
    {
      "cell_type": "markdown",
      "metadata": {
        "id": "jnR7JD7UmaRw"
      },
      "source": [
        "# Hipótese:\n",
        "\n",
        "####1 - analisar quantidade de casos confirmados de covid 19 por estados UF; \n",
        "\n",
        "####2 - analisar quantidade de mortes pela covid 19 por estados UF; \n",
        "\n",
        "####3 - analisar taxa de mortalidade pela covid 19 por estados UF; \n",
        "\n",
        "####4 - analisar quantidade de casos confirmados pelo covid 19, com a estimativa populacional segundo o IBGE por estados UF; \n",
        "\n",
        "####5 - analisar quantidade de mortes pelo covid 19, com a estimativa populacional segundo o IBGE por estados UF"
      ]
    },
    {
      "cell_type": "markdown",
      "metadata": {
        "id": "99ynudLcnNn4"
      },
      "source": [
        "# Bibliotecas:\n"
      ]
    },
    {
      "cell_type": "code",
      "metadata": {
        "id": "RZjIusTMxWXT"
      },
      "source": [
        "import pandas as pd"
      ],
      "execution_count": 1,
      "outputs": []
    },
    {
      "cell_type": "markdown",
      "metadata": {
        "id": "XccknhqdnT9e"
      },
      "source": [
        "# Análise dos Dados: "
      ]
    },
    {
      "cell_type": "markdown",
      "metadata": {
        "id": "WvbrIhWpJUoM"
      },
      "source": [
        "# Documentação da tabela:\n",
        "## Colunas:\n",
        "\n",
        "1. date: data de coleta dos dados no formato YYYY-MM-DD.\n",
        "\n",
        "2. state: sigla da unidade federativa, exemplo: SP.\n",
        "\n",
        "3. city: nome do município (pode estar em branco quando o registro é referente ao estado, pode ser preenchido com Importados/Indefinidos também).\n",
        "\n",
        "4. place_type: tipo de local que esse registro descreve, pode ser city ou state.\n",
        "\n",
        "5. order_for_place: número que identifica a ordem do registro para este local. O registro referente ao primeiro boletim em que esse local aparecer será contabilizado como 1 e os demais boletins incrementarão esse valor.\n",
        "\n",
        "6. is_last: campo pré-computado que diz se esse registro é o mais novo para esse local, pode ser True ou False (caso filtre por esse campo, use is_last=True ou is_last=False, não use o valor em minúsculas).\n",
        "\n",
        "7. city_ibge_code: código IBGE do local.\n",
        "\n",
        "8. confirmed: número de casos confirmados.\n",
        "\n",
        "9. deaths: número de mortes.\n",
        "\n",
        "10. estimated_population: população estimada para esse município/estado em 2020, segundo o IBGE. (acesse o script que faz o download e conversão dos dados de população).\n",
        "\n",
        "11. estimated_population_2019: população estimada para esse município/estado em 2019, segundo o IBGE. ATENÇÃO: essa coluna possui valores desatualizados, prefira usar a coluna estimated_population.\n",
        "\n",
        "12. confirmed_per_100k_inhabitants: número de casos \n",
        "confirmados por 100.000 habitantes (baseado em estimated_population).\n",
        "\n",
        "13. death_rate: taxa de mortalidade (mortes / confirmados)."
      ]
    },
    {
      "cell_type": "markdown",
      "metadata": {
        "id": "D6pmsWq34CcC"
      },
      "source": [
        "#Arquivo - Brasil IO"
      ]
    },
    {
      "cell_type": "code",
      "metadata": {
        "id": "N1Rxopsuxd30",
        "outputId": "cc9986fb-b9b8-4b9e-9f33-05130117fa23",
        "colab": {
          "base_uri": "https://localhost:8080/",
          "height": 309
        }
      },
      "source": [
        "#lendo arquivo do Brasil.IO\n",
        "caso_brasil_io = pd.read_csv('/content/drive/My Drive/Colab Notebooks/bootcamp Alura Data Science/caso.csv')\n",
        "caso_brasil_io.head()"
      ],
      "execution_count": 6,
      "outputs": [
        {
          "output_type": "execute_result",
          "data": {
            "text/html": [
              "<div>\n",
              "<style scoped>\n",
              "    .dataframe tbody tr th:only-of-type {\n",
              "        vertical-align: middle;\n",
              "    }\n",
              "\n",
              "    .dataframe tbody tr th {\n",
              "        vertical-align: top;\n",
              "    }\n",
              "\n",
              "    .dataframe thead th {\n",
              "        text-align: right;\n",
              "    }\n",
              "</style>\n",
              "<table border=\"1\" class=\"dataframe\">\n",
              "  <thead>\n",
              "    <tr style=\"text-align: right;\">\n",
              "      <th></th>\n",
              "      <th>date</th>\n",
              "      <th>state</th>\n",
              "      <th>city</th>\n",
              "      <th>place_type</th>\n",
              "      <th>confirmed</th>\n",
              "      <th>deaths</th>\n",
              "      <th>order_for_place</th>\n",
              "      <th>is_last</th>\n",
              "      <th>estimated_population_2019</th>\n",
              "      <th>estimated_population</th>\n",
              "      <th>city_ibge_code</th>\n",
              "      <th>confirmed_per_100k_inhabitants</th>\n",
              "      <th>death_rate</th>\n",
              "    </tr>\n",
              "  </thead>\n",
              "  <tbody>\n",
              "    <tr>\n",
              "      <th>0</th>\n",
              "      <td>2020-11-05</td>\n",
              "      <td>AC</td>\n",
              "      <td>NaN</td>\n",
              "      <td>state</td>\n",
              "      <td>31248</td>\n",
              "      <td>697</td>\n",
              "      <td>234</td>\n",
              "      <td>True</td>\n",
              "      <td>881935.0</td>\n",
              "      <td>894470.0</td>\n",
              "      <td>12.0</td>\n",
              "      <td>3493.46540</td>\n",
              "      <td>0.0223</td>\n",
              "    </tr>\n",
              "    <tr>\n",
              "      <th>1</th>\n",
              "      <td>2020-11-04</td>\n",
              "      <td>AC</td>\n",
              "      <td>NaN</td>\n",
              "      <td>state</td>\n",
              "      <td>31218</td>\n",
              "      <td>696</td>\n",
              "      <td>233</td>\n",
              "      <td>False</td>\n",
              "      <td>881935.0</td>\n",
              "      <td>894470.0</td>\n",
              "      <td>12.0</td>\n",
              "      <td>3490.11146</td>\n",
              "      <td>0.0223</td>\n",
              "    </tr>\n",
              "    <tr>\n",
              "      <th>2</th>\n",
              "      <td>2020-11-03</td>\n",
              "      <td>AC</td>\n",
              "      <td>NaN</td>\n",
              "      <td>state</td>\n",
              "      <td>30962</td>\n",
              "      <td>695</td>\n",
              "      <td>232</td>\n",
              "      <td>False</td>\n",
              "      <td>881935.0</td>\n",
              "      <td>894470.0</td>\n",
              "      <td>12.0</td>\n",
              "      <td>3461.49116</td>\n",
              "      <td>0.0224</td>\n",
              "    </tr>\n",
              "    <tr>\n",
              "      <th>3</th>\n",
              "      <td>2020-11-02</td>\n",
              "      <td>AC</td>\n",
              "      <td>NaN</td>\n",
              "      <td>state</td>\n",
              "      <td>30954</td>\n",
              "      <td>693</td>\n",
              "      <td>231</td>\n",
              "      <td>False</td>\n",
              "      <td>881935.0</td>\n",
              "      <td>894470.0</td>\n",
              "      <td>12.0</td>\n",
              "      <td>3460.59678</td>\n",
              "      <td>0.0224</td>\n",
              "    </tr>\n",
              "    <tr>\n",
              "      <th>4</th>\n",
              "      <td>2020-11-01</td>\n",
              "      <td>AC</td>\n",
              "      <td>NaN</td>\n",
              "      <td>state</td>\n",
              "      <td>30951</td>\n",
              "      <td>693</td>\n",
              "      <td>230</td>\n",
              "      <td>False</td>\n",
              "      <td>881935.0</td>\n",
              "      <td>894470.0</td>\n",
              "      <td>12.0</td>\n",
              "      <td>3460.26138</td>\n",
              "      <td>0.0224</td>\n",
              "    </tr>\n",
              "  </tbody>\n",
              "</table>\n",
              "</div>"
            ],
            "text/plain": [
              "         date state  ... confirmed_per_100k_inhabitants death_rate\n",
              "0  2020-11-05    AC  ...                     3493.46540     0.0223\n",
              "1  2020-11-04    AC  ...                     3490.11146     0.0223\n",
              "2  2020-11-03    AC  ...                     3461.49116     0.0224\n",
              "3  2020-11-02    AC  ...                     3460.59678     0.0224\n",
              "4  2020-11-01    AC  ...                     3460.26138     0.0224\n",
              "\n",
              "[5 rows x 13 columns]"
            ]
          },
          "metadata": {
            "tags": []
          },
          "execution_count": 6
        }
      ]
    },
    {
      "cell_type": "code",
      "metadata": {
        "id": "LuCQ6ceiznJ9",
        "outputId": "1205637e-0caf-4c61-f65e-b439ec8c7f9c",
        "colab": {
          "base_uri": "https://localhost:8080/"
        }
      },
      "source": [
        "#Verificando quantidade de linhas e colunas no arquivo Brasil.IO\n",
        "caso_brasil_io.shape"
      ],
      "execution_count": 7,
      "outputs": [
        {
          "output_type": "execute_result",
          "data": {
            "text/plain": [
              "(936870, 13)"
            ]
          },
          "metadata": {
            "tags": []
          },
          "execution_count": 7
        }
      ]
    },
    {
      "cell_type": "code",
      "metadata": {
        "id": "fKccU1N2zvxB",
        "outputId": "269370de-8dcd-4923-bf1b-118bd7306fed",
        "colab": {
          "base_uri": "https://localhost:8080/"
        }
      },
      "source": [
        "#informações gerais e tipo de variáveis no arquivo Brasil.IO\n",
        "\n",
        "    #Existem campos com valores vazios, e a princípio não farei nenhum tratamento,\n",
        "    #para os dados vazios. Conforme a necessidade traterei no decorrer da análise.\n",
        "\n",
        "caso_brasil_io.info()"
      ],
      "execution_count": 8,
      "outputs": [
        {
          "output_type": "stream",
          "text": [
            "<class 'pandas.core.frame.DataFrame'>\n",
            "RangeIndex: 936870 entries, 0 to 936869\n",
            "Data columns (total 13 columns):\n",
            " #   Column                          Non-Null Count   Dtype  \n",
            "---  ------                          --------------   -----  \n",
            " 0   date                            936870 non-null  object \n",
            " 1   state                           936870 non-null  object \n",
            " 2   city                            930535 non-null  object \n",
            " 3   place_type                      936870 non-null  object \n",
            " 4   confirmed                       936870 non-null  int64  \n",
            " 5   deaths                          936870 non-null  int64  \n",
            " 6   order_for_place                 936870 non-null  int64  \n",
            " 7   is_last                         936870 non-null  bool   \n",
            " 8   estimated_population_2019       933215 non-null  float64\n",
            " 9   estimated_population            933215 non-null  float64\n",
            " 10  city_ibge_code                  933215 non-null  float64\n",
            " 11  confirmed_per_100k_inhabitants  919888 non-null  float64\n",
            " 12  death_rate                      936870 non-null  float64\n",
            "dtypes: bool(1), float64(5), int64(3), object(4)\n",
            "memory usage: 86.7+ MB\n"
          ],
          "name": "stdout"
        }
      ]
    },
    {
      "cell_type": "code",
      "metadata": {
        "id": "tIG5Au-a5nrL"
      },
      "source": [
        ""
      ],
      "execution_count": null,
      "outputs": []
    }
  ]
}