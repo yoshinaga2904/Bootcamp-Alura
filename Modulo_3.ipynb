{
  "nbformat": 4,
  "nbformat_minor": 0,
  "metadata": {
    "colab": {
      "name": "Modulo_3.ipynb",
      "provenance": [],
      "toc_visible": true,
      "include_colab_link": true
    },
    "kernelspec": {
      "name": "python3",
      "display_name": "Python 3"
    }
  },
  "cells": [
    {
      "cell_type": "markdown",
      "metadata": {
        "id": "view-in-github",
        "colab_type": "text"
      },
      "source": [
        "<a href=\"https://colab.research.google.com/github/yoshinaga2904/Bootcamp-Alura/blob/main/Modulo_3.ipynb\" target=\"_parent\"><img src=\"https://colab.research.google.com/assets/colab-badge.svg\" alt=\"Open In Colab\"/></a>"
      ]
    },
    {
      "cell_type": "code",
      "metadata": {
        "colab": {
          "base_uri": "https://localhost:8080/"
        },
        "id": "8rBGrKH0x42B",
        "outputId": "ec2b6db5-0ba2-4347-b913-d11e86d1ff8b"
      },
      "source": [
        "from google.colab import drive\n",
        "drive.mount('/content/drive')"
      ],
      "execution_count": 1,
      "outputs": [
        {
          "output_type": "stream",
          "text": [
            "Mounted at /content/drive\n"
          ],
          "name": "stdout"
        }
      ]
    },
    {
      "cell_type": "code",
      "metadata": {
        "colab": {
          "base_uri": "https://localhost:8080/",
          "height": 253
        },
        "id": "92Ktpqc_3dsK",
        "outputId": "8a5b0f74-439d-47f7-a472-98f07d72e369"
      },
      "source": [
        "import pandas as pd\n",
        "import matplotlib.pyplot as plt\n",
        "import seaborn as sns\n",
        "import numpy as np\n",
        "from zipfile import ZipFile\n",
        "\n",
        "\n",
        "#caminho para acesso a pasta zip no drive google\n",
        "caminho = '/content/drive/MyDrive/PENSE_2015/PeNSE_2015_AMOSTRA2.zip'\n",
        "\n",
        "#Criando caminho\n",
        "zip = ZipFile(caminho)\n",
        "\n",
        "#acessando o arquivo escolhido dentro da pasta zip\n",
        "acesso_pasta_zipada = zip.namelist()[1]\n",
        "\n",
        "dados = pd.read_csv(zip.open(acesso_pasta_zipada),sep=';', thousands='.', decimal=',')\n",
        "dados.head()"
      ],
      "execution_count": 2,
      "outputs": [
        {
          "output_type": "execute_result",
          "data": {
            "text/html": [
              "<div>\n",
              "<style scoped>\n",
              "    .dataframe tbody tr th:only-of-type {\n",
              "        vertical-align: middle;\n",
              "    }\n",
              "\n",
              "    .dataframe tbody tr th {\n",
              "        vertical-align: top;\n",
              "    }\n",
              "\n",
              "    .dataframe thead th {\n",
              "        text-align: right;\n",
              "    }\n",
              "</style>\n",
              "<table border=\"1\" class=\"dataframe\">\n",
              "  <thead>\n",
              "    <tr style=\"text-align: right;\">\n",
              "      <th></th>\n",
              "      <th>ANOPESQ</th>\n",
              "      <th>PAIS</th>\n",
              "      <th>REGEOGR</th>\n",
              "      <th>VB00004</th>\n",
              "      <th>VB01001</th>\n",
              "      <th>VB01002</th>\n",
              "      <th>VB01003</th>\n",
              "      <th>VB01004</th>\n",
              "      <th>VB01005</th>\n",
              "      <th>VB01006</th>\n",
              "      <th>VB01007</th>\n",
              "      <th>VB01008A</th>\n",
              "      <th>VB01010A</th>\n",
              "      <th>VB01011</th>\n",
              "      <th>VB01012</th>\n",
              "      <th>VB01013</th>\n",
              "      <th>VB01014</th>\n",
              "      <th>VB01015A</th>\n",
              "      <th>VB01016</th>\n",
              "      <th>VB01017</th>\n",
              "      <th>VB01018</th>\n",
              "      <th>VB01019</th>\n",
              "      <th>VB01020A</th>\n",
              "      <th>VB01021</th>\n",
              "      <th>VB01022</th>\n",
              "      <th>VB01023</th>\n",
              "      <th>VB01024</th>\n",
              "      <th>VB01025</th>\n",
              "      <th>VB01026</th>\n",
              "      <th>VB02001</th>\n",
              "      <th>VB02002</th>\n",
              "      <th>VB02004A</th>\n",
              "      <th>VB02010</th>\n",
              "      <th>VB02011</th>\n",
              "      <th>VB02013</th>\n",
              "      <th>VB02017A</th>\n",
              "      <th>VB02018A</th>\n",
              "      <th>VB02019A</th>\n",
              "      <th>VB02020A</th>\n",
              "      <th>VB02021</th>\n",
              "      <th>...</th>\n",
              "      <th>VB11005</th>\n",
              "      <th>VB11006</th>\n",
              "      <th>VB11007</th>\n",
              "      <th>VB12001</th>\n",
              "      <th>VB12002</th>\n",
              "      <th>VB12003</th>\n",
              "      <th>VB13001</th>\n",
              "      <th>VB13002A</th>\n",
              "      <th>VB13004A</th>\n",
              "      <th>VB13005</th>\n",
              "      <th>VB13006</th>\n",
              "      <th>VB13007</th>\n",
              "      <th>VB13008</th>\n",
              "      <th>VB13009</th>\n",
              "      <th>VB14001</th>\n",
              "      <th>VB14002</th>\n",
              "      <th>VB16001A01</th>\n",
              "      <th>VB16001A02</th>\n",
              "      <th>VB16001A03</th>\n",
              "      <th>VB16001A04</th>\n",
              "      <th>VB16001A05</th>\n",
              "      <th>VB16001A06</th>\n",
              "      <th>VB16001A07</th>\n",
              "      <th>VB16001A08</th>\n",
              "      <th>VB17001</th>\n",
              "      <th>VB17002</th>\n",
              "      <th>VB17003</th>\n",
              "      <th>VB17004</th>\n",
              "      <th>VB17005</th>\n",
              "      <th>VB17006</th>\n",
              "      <th>ESTRATO_EXP</th>\n",
              "      <th>ESTRATOGEOREG</th>\n",
              "      <th>PESO</th>\n",
              "      <th>V0006</th>\n",
              "      <th>V0007</th>\n",
              "      <th>V0008</th>\n",
              "      <th>V0041</th>\n",
              "      <th>aluno</th>\n",
              "      <th>escola</th>\n",
              "      <th>turma</th>\n",
              "    </tr>\n",
              "  </thead>\n",
              "  <tbody>\n",
              "    <tr>\n",
              "      <th>0</th>\n",
              "      <td>2015</td>\n",
              "      <td>76</td>\n",
              "      <td>1</td>\n",
              "      <td>1</td>\n",
              "      <td>2</td>\n",
              "      <td>1</td>\n",
              "      <td>13</td>\n",
              "      <td>7</td>\n",
              "      <td>7</td>\n",
              "      <td>1</td>\n",
              "      <td>2</td>\n",
              "      <td>7</td>\n",
              "      <td>3</td>\n",
              "      <td>2</td>\n",
              "      <td>-1</td>\n",
              "      <td>1</td>\n",
              "      <td>1</td>\n",
              "      <td>1</td>\n",
              "      <td>1</td>\n",
              "      <td>1</td>\n",
              "      <td>2</td>\n",
              "      <td>4</td>\n",
              "      <td>2</td>\n",
              "      <td>4</td>\n",
              "      <td>1</td>\n",
              "      <td>2</td>\n",
              "      <td>2</td>\n",
              "      <td>5</td>\n",
              "      <td>1</td>\n",
              "      <td>8</td>\n",
              "      <td>3</td>\n",
              "      <td>4</td>\n",
              "      <td>3</td>\n",
              "      <td>6</td>\n",
              "      <td>6</td>\n",
              "      <td>1</td>\n",
              "      <td>6</td>\n",
              "      <td>1</td>\n",
              "      <td>-1</td>\n",
              "      <td>2</td>\n",
              "      <td>...</td>\n",
              "      <td>2</td>\n",
              "      <td>1</td>\n",
              "      <td>2</td>\n",
              "      <td>1</td>\n",
              "      <td>1</td>\n",
              "      <td>4</td>\n",
              "      <td>2</td>\n",
              "      <td>-1</td>\n",
              "      <td>3</td>\n",
              "      <td>1</td>\n",
              "      <td>1</td>\n",
              "      <td>-1</td>\n",
              "      <td>1</td>\n",
              "      <td>1</td>\n",
              "      <td>2</td>\n",
              "      <td>2</td>\n",
              "      <td>1</td>\n",
              "      <td>2</td>\n",
              "      <td>2</td>\n",
              "      <td>2</td>\n",
              "      <td>2</td>\n",
              "      <td>2</td>\n",
              "      <td>2</td>\n",
              "      <td>2</td>\n",
              "      <td>371.0</td>\n",
              "      <td>1570.0</td>\n",
              "      <td>37.1</td>\n",
              "      <td>157.0</td>\n",
              "      <td>2</td>\n",
              "      <td>1</td>\n",
              "      <td>1223</td>\n",
              "      <td>1</td>\n",
              "      <td>299.735235</td>\n",
              "      <td>1</td>\n",
              "      <td>2</td>\n",
              "      <td>4</td>\n",
              "      <td>1</td>\n",
              "      <td>1</td>\n",
              "      <td>1</td>\n",
              "      <td>296</td>\n",
              "    </tr>\n",
              "    <tr>\n",
              "      <th>1</th>\n",
              "      <td>2015</td>\n",
              "      <td>76</td>\n",
              "      <td>1</td>\n",
              "      <td>1</td>\n",
              "      <td>2</td>\n",
              "      <td>1</td>\n",
              "      <td>14</td>\n",
              "      <td>4</td>\n",
              "      <td>7</td>\n",
              "      <td>1</td>\n",
              "      <td>1</td>\n",
              "      <td>7</td>\n",
              "      <td>3</td>\n",
              "      <td>2</td>\n",
              "      <td>-1</td>\n",
              "      <td>1</td>\n",
              "      <td>1</td>\n",
              "      <td>1</td>\n",
              "      <td>1</td>\n",
              "      <td>1</td>\n",
              "      <td>2</td>\n",
              "      <td>2</td>\n",
              "      <td>2</td>\n",
              "      <td>4</td>\n",
              "      <td>1</td>\n",
              "      <td>2</td>\n",
              "      <td>2</td>\n",
              "      <td>5</td>\n",
              "      <td>3</td>\n",
              "      <td>8</td>\n",
              "      <td>2</td>\n",
              "      <td>1</td>\n",
              "      <td>8</td>\n",
              "      <td>8</td>\n",
              "      <td>6</td>\n",
              "      <td>1</td>\n",
              "      <td>1</td>\n",
              "      <td>5</td>\n",
              "      <td>-1</td>\n",
              "      <td>2</td>\n",
              "      <td>...</td>\n",
              "      <td>2</td>\n",
              "      <td>3</td>\n",
              "      <td>2</td>\n",
              "      <td>4</td>\n",
              "      <td>4</td>\n",
              "      <td>4</td>\n",
              "      <td>1</td>\n",
              "      <td>2</td>\n",
              "      <td>3</td>\n",
              "      <td>3</td>\n",
              "      <td>1</td>\n",
              "      <td>-1</td>\n",
              "      <td>1</td>\n",
              "      <td>1</td>\n",
              "      <td>2</td>\n",
              "      <td>2</td>\n",
              "      <td>2</td>\n",
              "      <td>2</td>\n",
              "      <td>2</td>\n",
              "      <td>1</td>\n",
              "      <td>2</td>\n",
              "      <td>2</td>\n",
              "      <td>2</td>\n",
              "      <td>2</td>\n",
              "      <td>502.0</td>\n",
              "      <td>1520.0</td>\n",
              "      <td>50.2</td>\n",
              "      <td>152.0</td>\n",
              "      <td>2</td>\n",
              "      <td>2</td>\n",
              "      <td>1223</td>\n",
              "      <td>1</td>\n",
              "      <td>355.170081</td>\n",
              "      <td>1</td>\n",
              "      <td>2</td>\n",
              "      <td>4</td>\n",
              "      <td>1</td>\n",
              "      <td>2</td>\n",
              "      <td>1</td>\n",
              "      <td>296</td>\n",
              "    </tr>\n",
              "    <tr>\n",
              "      <th>2</th>\n",
              "      <td>2015</td>\n",
              "      <td>76</td>\n",
              "      <td>1</td>\n",
              "      <td>1</td>\n",
              "      <td>1</td>\n",
              "      <td>4</td>\n",
              "      <td>13</td>\n",
              "      <td>6</td>\n",
              "      <td>7</td>\n",
              "      <td>1</td>\n",
              "      <td>1</td>\n",
              "      <td>5</td>\n",
              "      <td>5</td>\n",
              "      <td>2</td>\n",
              "      <td>-1</td>\n",
              "      <td>2</td>\n",
              "      <td>1</td>\n",
              "      <td>1</td>\n",
              "      <td>1</td>\n",
              "      <td>1</td>\n",
              "      <td>2</td>\n",
              "      <td>3</td>\n",
              "      <td>1</td>\n",
              "      <td>4</td>\n",
              "      <td>1</td>\n",
              "      <td>2</td>\n",
              "      <td>2</td>\n",
              "      <td>5</td>\n",
              "      <td>3</td>\n",
              "      <td>2</td>\n",
              "      <td>3</td>\n",
              "      <td>1</td>\n",
              "      <td>8</td>\n",
              "      <td>2</td>\n",
              "      <td>8</td>\n",
              "      <td>1</td>\n",
              "      <td>1</td>\n",
              "      <td>5</td>\n",
              "      <td>5</td>\n",
              "      <td>1</td>\n",
              "      <td>...</td>\n",
              "      <td>2</td>\n",
              "      <td>1</td>\n",
              "      <td>2</td>\n",
              "      <td>1</td>\n",
              "      <td>2</td>\n",
              "      <td>3</td>\n",
              "      <td>1</td>\n",
              "      <td>2</td>\n",
              "      <td>1</td>\n",
              "      <td>2</td>\n",
              "      <td>5</td>\n",
              "      <td>99</td>\n",
              "      <td>1</td>\n",
              "      <td>-1</td>\n",
              "      <td>2</td>\n",
              "      <td>2</td>\n",
              "      <td>1</td>\n",
              "      <td>1</td>\n",
              "      <td>1</td>\n",
              "      <td>1</td>\n",
              "      <td>1</td>\n",
              "      <td>1</td>\n",
              "      <td>1</td>\n",
              "      <td>1</td>\n",
              "      <td>482.0</td>\n",
              "      <td>1614.0</td>\n",
              "      <td>48.2</td>\n",
              "      <td>161.4</td>\n",
              "      <td>2</td>\n",
              "      <td>2</td>\n",
              "      <td>1223</td>\n",
              "      <td>1</td>\n",
              "      <td>299.735235</td>\n",
              "      <td>1</td>\n",
              "      <td>2</td>\n",
              "      <td>4</td>\n",
              "      <td>1</td>\n",
              "      <td>3</td>\n",
              "      <td>1</td>\n",
              "      <td>296</td>\n",
              "    </tr>\n",
              "    <tr>\n",
              "      <th>3</th>\n",
              "      <td>2015</td>\n",
              "      <td>76</td>\n",
              "      <td>1</td>\n",
              "      <td>1</td>\n",
              "      <td>1</td>\n",
              "      <td>1</td>\n",
              "      <td>14</td>\n",
              "      <td>6</td>\n",
              "      <td>7</td>\n",
              "      <td>1</td>\n",
              "      <td>1</td>\n",
              "      <td>7</td>\n",
              "      <td>4</td>\n",
              "      <td>2</td>\n",
              "      <td>-1</td>\n",
              "      <td>1</td>\n",
              "      <td>1</td>\n",
              "      <td>1</td>\n",
              "      <td>1</td>\n",
              "      <td>1</td>\n",
              "      <td>2</td>\n",
              "      <td>4</td>\n",
              "      <td>2</td>\n",
              "      <td>4</td>\n",
              "      <td>1</td>\n",
              "      <td>2</td>\n",
              "      <td>2</td>\n",
              "      <td>6</td>\n",
              "      <td>3</td>\n",
              "      <td>2</td>\n",
              "      <td>4</td>\n",
              "      <td>1</td>\n",
              "      <td>3</td>\n",
              "      <td>2</td>\n",
              "      <td>7</td>\n",
              "      <td>1</td>\n",
              "      <td>5</td>\n",
              "      <td>1</td>\n",
              "      <td>-1</td>\n",
              "      <td>2</td>\n",
              "      <td>...</td>\n",
              "      <td>2</td>\n",
              "      <td>1</td>\n",
              "      <td>2</td>\n",
              "      <td>2</td>\n",
              "      <td>2</td>\n",
              "      <td>4</td>\n",
              "      <td>1</td>\n",
              "      <td>10</td>\n",
              "      <td>3</td>\n",
              "      <td>1</td>\n",
              "      <td>2</td>\n",
              "      <td>-1</td>\n",
              "      <td>1</td>\n",
              "      <td>-1</td>\n",
              "      <td>2</td>\n",
              "      <td>2</td>\n",
              "      <td>1</td>\n",
              "      <td>2</td>\n",
              "      <td>2</td>\n",
              "      <td>2</td>\n",
              "      <td>1</td>\n",
              "      <td>2</td>\n",
              "      <td>2</td>\n",
              "      <td>2</td>\n",
              "      <td>694.0</td>\n",
              "      <td>1725.0</td>\n",
              "      <td>69.4</td>\n",
              "      <td>172.5</td>\n",
              "      <td>2</td>\n",
              "      <td>3</td>\n",
              "      <td>1223</td>\n",
              "      <td>1</td>\n",
              "      <td>355.170081</td>\n",
              "      <td>1</td>\n",
              "      <td>2</td>\n",
              "      <td>4</td>\n",
              "      <td>1</td>\n",
              "      <td>4</td>\n",
              "      <td>1</td>\n",
              "      <td>296</td>\n",
              "    </tr>\n",
              "    <tr>\n",
              "      <th>4</th>\n",
              "      <td>2015</td>\n",
              "      <td>76</td>\n",
              "      <td>1</td>\n",
              "      <td>1</td>\n",
              "      <td>1</td>\n",
              "      <td>1</td>\n",
              "      <td>13</td>\n",
              "      <td>9</td>\n",
              "      <td>7</td>\n",
              "      <td>1</td>\n",
              "      <td>2</td>\n",
              "      <td>5</td>\n",
              "      <td>4</td>\n",
              "      <td>2</td>\n",
              "      <td>-1</td>\n",
              "      <td>2</td>\n",
              "      <td>1</td>\n",
              "      <td>1</td>\n",
              "      <td>1</td>\n",
              "      <td>1</td>\n",
              "      <td>2</td>\n",
              "      <td>5</td>\n",
              "      <td>1</td>\n",
              "      <td>4</td>\n",
              "      <td>1</td>\n",
              "      <td>2</td>\n",
              "      <td>2</td>\n",
              "      <td>6</td>\n",
              "      <td>5</td>\n",
              "      <td>6</td>\n",
              "      <td>3</td>\n",
              "      <td>5</td>\n",
              "      <td>2</td>\n",
              "      <td>6</td>\n",
              "      <td>2</td>\n",
              "      <td>1</td>\n",
              "      <td>5</td>\n",
              "      <td>1</td>\n",
              "      <td>5</td>\n",
              "      <td>1</td>\n",
              "      <td>...</td>\n",
              "      <td>2</td>\n",
              "      <td>1</td>\n",
              "      <td>4</td>\n",
              "      <td>2</td>\n",
              "      <td>2</td>\n",
              "      <td>4</td>\n",
              "      <td>1</td>\n",
              "      <td>3</td>\n",
              "      <td>2</td>\n",
              "      <td>2</td>\n",
              "      <td>2</td>\n",
              "      <td>13</td>\n",
              "      <td>1</td>\n",
              "      <td>-1</td>\n",
              "      <td>1</td>\n",
              "      <td>2</td>\n",
              "      <td>1</td>\n",
              "      <td>1</td>\n",
              "      <td>1</td>\n",
              "      <td>1</td>\n",
              "      <td>1</td>\n",
              "      <td>1</td>\n",
              "      <td>1</td>\n",
              "      <td>1</td>\n",
              "      <td>789.0</td>\n",
              "      <td>1675.0</td>\n",
              "      <td>78.9</td>\n",
              "      <td>167.5</td>\n",
              "      <td>2</td>\n",
              "      <td>4</td>\n",
              "      <td>1223</td>\n",
              "      <td>1</td>\n",
              "      <td>299.735235</td>\n",
              "      <td>1</td>\n",
              "      <td>2</td>\n",
              "      <td>4</td>\n",
              "      <td>1</td>\n",
              "      <td>5</td>\n",
              "      <td>1</td>\n",
              "      <td>296</td>\n",
              "    </tr>\n",
              "  </tbody>\n",
              "</table>\n",
              "<p>5 rows × 181 columns</p>\n",
              "</div>"
            ],
            "text/plain": [
              "   ANOPESQ  PAIS  REGEOGR  VB00004  VB01001  ...  V0008  V0041  aluno  escola  turma\n",
              "0     2015    76        1        1        2  ...      4      1      1       1    296\n",
              "1     2015    76        1        1        2  ...      4      1      2       1    296\n",
              "2     2015    76        1        1        1  ...      4      1      3       1    296\n",
              "3     2015    76        1        1        1  ...      4      1      4       1    296\n",
              "4     2015    76        1        1        1  ...      4      1      5       1    296\n",
              "\n",
              "[5 rows x 181 columns]"
            ]
          },
          "metadata": {
            "tags": []
          },
          "execution_count": 2
        }
      ]
    },
    {
      "cell_type": "code",
      "metadata": {
        "colab": {
          "base_uri": "https://localhost:8080/",
          "height": 35
        },
        "id": "LucIAofP6IPN",
        "outputId": "22c3ac5e-1d74-4246-fd95-cdcfa21e97e2"
      },
      "source": [
        "zip = ZipFile(caminho)\n",
        "zip.namelist()[1]"
      ],
      "execution_count": 3,
      "outputs": [
        {
          "output_type": "execute_result",
          "data": {
            "application/vnd.google.colaboratory.intrinsic+json": {
              "type": "string"
            },
            "text/plain": [
              "'arquivos csv/PENSE_AMOSTRA2_ALUNO.CSV'"
            ]
          },
          "metadata": {
            "tags": []
          },
          "execution_count": 3
        }
      ]
    },
    {
      "cell_type": "code",
      "metadata": {
        "colab": {
          "base_uri": "https://localhost:8080/"
        },
        "id": "orx216Ep-BVP",
        "outputId": "d295c247-cac8-4782-809b-925969a73d2a"
      },
      "source": [
        "dados.shape"
      ],
      "execution_count": 4,
      "outputs": [
        {
          "output_type": "execute_result",
          "data": {
            "text/plain": [
              "(16556, 181)"
            ]
          },
          "metadata": {
            "tags": []
          },
          "execution_count": 4
        }
      ]
    },
    {
      "cell_type": "code",
      "metadata": {
        "colab": {
          "base_uri": "https://localhost:8080/"
        },
        "id": "LSUbgams-BLY",
        "outputId": "20d26fda-7e61-451f-f66b-91d8ade016fe"
      },
      "source": [
        "dados.info()"
      ],
      "execution_count": 5,
      "outputs": [
        {
          "output_type": "stream",
          "text": [
            "<class 'pandas.core.frame.DataFrame'>\n",
            "RangeIndex: 16556 entries, 0 to 16555\n",
            "Columns: 181 entries, ANOPESQ to turma\n",
            "dtypes: float64(10), int64(171)\n",
            "memory usage: 22.9 MB\n"
          ],
          "name": "stdout"
        }
      ]
    },
    {
      "cell_type": "code",
      "metadata": {
        "colab": {
          "base_uri": "https://localhost:8080/",
          "height": 419
        },
        "id": "z7aEtrE0-A_L",
        "outputId": "38b81f24-c426-49ac-a20b-73dbe0a47086"
      },
      "source": [
        "# dados.select_dtypes(include='object')"
      ],
      "execution_count": null,
      "outputs": [
        {
          "output_type": "execute_result",
          "data": {
            "text/html": [
              "<div>\n",
              "<style scoped>\n",
              "    .dataframe tbody tr th:only-of-type {\n",
              "        vertical-align: middle;\n",
              "    }\n",
              "\n",
              "    .dataframe tbody tr th {\n",
              "        vertical-align: top;\n",
              "    }\n",
              "\n",
              "    .dataframe thead th {\n",
              "        text-align: right;\n",
              "    }\n",
              "</style>\n",
              "<table border=\"1\" class=\"dataframe\">\n",
              "  <thead>\n",
              "    <tr style=\"text-align: right;\">\n",
              "      <th></th>\n",
              "      <th>VB17003</th>\n",
              "      <th>VB17004</th>\n",
              "      <th>PESO</th>\n",
              "    </tr>\n",
              "  </thead>\n",
              "  <tbody>\n",
              "    <tr>\n",
              "      <th>0</th>\n",
              "      <td>37,1</td>\n",
              "      <td>157</td>\n",
              "      <td>299,735235</td>\n",
              "    </tr>\n",
              "    <tr>\n",
              "      <th>1</th>\n",
              "      <td>50,2</td>\n",
              "      <td>152</td>\n",
              "      <td>355,170081</td>\n",
              "    </tr>\n",
              "    <tr>\n",
              "      <th>2</th>\n",
              "      <td>48,2</td>\n",
              "      <td>161,4</td>\n",
              "      <td>299,735235</td>\n",
              "    </tr>\n",
              "    <tr>\n",
              "      <th>3</th>\n",
              "      <td>69,4</td>\n",
              "      <td>172,5</td>\n",
              "      <td>355,170081</td>\n",
              "    </tr>\n",
              "    <tr>\n",
              "      <th>4</th>\n",
              "      <td>78,9</td>\n",
              "      <td>167,5</td>\n",
              "      <td>299,735235</td>\n",
              "    </tr>\n",
              "    <tr>\n",
              "      <th>...</th>\n",
              "      <td>...</td>\n",
              "      <td>...</td>\n",
              "      <td>...</td>\n",
              "    </tr>\n",
              "    <tr>\n",
              "      <th>16551</th>\n",
              "      <td>56,7</td>\n",
              "      <td>167,9</td>\n",
              "      <td>447,815539</td>\n",
              "    </tr>\n",
              "    <tr>\n",
              "      <th>16552</th>\n",
              "      <td>61,9</td>\n",
              "      <td>185,8</td>\n",
              "      <td>592,50744</td>\n",
              "    </tr>\n",
              "    <tr>\n",
              "      <th>16553</th>\n",
              "      <td>60,9</td>\n",
              "      <td>159,4</td>\n",
              "      <td>401,131512</td>\n",
              "    </tr>\n",
              "    <tr>\n",
              "      <th>16554</th>\n",
              "      <td>47,3</td>\n",
              "      <td>157,8</td>\n",
              "      <td>442,718091</td>\n",
              "    </tr>\n",
              "    <tr>\n",
              "      <th>16555</th>\n",
              "      <td>62,6</td>\n",
              "      <td>163,9</td>\n",
              "      <td>592,50744</td>\n",
              "    </tr>\n",
              "  </tbody>\n",
              "</table>\n",
              "<p>16556 rows × 3 columns</p>\n",
              "</div>"
            ],
            "text/plain": [
              "      VB17003 VB17004        PESO\n",
              "0        37,1     157  299,735235\n",
              "1        50,2     152  355,170081\n",
              "2        48,2   161,4  299,735235\n",
              "3        69,4   172,5  355,170081\n",
              "4        78,9   167,5  299,735235\n",
              "...       ...     ...         ...\n",
              "16551    56,7   167,9  447,815539\n",
              "16552    61,9   185,8   592,50744\n",
              "16553    60,9   159,4  401,131512\n",
              "16554    47,3   157,8  442,718091\n",
              "16555    62,6   163,9   592,50744\n",
              "\n",
              "[16556 rows x 3 columns]"
            ]
          },
          "metadata": {
            "tags": []
          },
          "execution_count": 20
        }
      ]
    },
    {
      "cell_type": "code",
      "metadata": {
        "colab": {
          "base_uri": "https://localhost:8080/",
          "height": 419
        },
        "id": "ox6Rfx1x-A2T",
        "outputId": "3158699d-37a8-4d32-8222-3b3f63ea1224"
      },
      "source": [
        "dados.select_dtypes(include='float')"
      ],
      "execution_count": 6,
      "outputs": [
        {
          "output_type": "execute_result",
          "data": {
            "text/html": [
              "<div>\n",
              "<style scoped>\n",
              "    .dataframe tbody tr th:only-of-type {\n",
              "        vertical-align: middle;\n",
              "    }\n",
              "\n",
              "    .dataframe tbody tr th {\n",
              "        vertical-align: top;\n",
              "    }\n",
              "\n",
              "    .dataframe thead th {\n",
              "        text-align: right;\n",
              "    }\n",
              "</style>\n",
              "<table border=\"1\" class=\"dataframe\">\n",
              "  <thead>\n",
              "    <tr style=\"text-align: right;\">\n",
              "      <th></th>\n",
              "      <th>TEMPODESLOC</th>\n",
              "      <th>TEMPOTOTAL</th>\n",
              "      <th>TEMPOEDFIS</th>\n",
              "      <th>TEMPOEXTRA</th>\n",
              "      <th>TEMPOEST</th>\n",
              "      <th>VB17001</th>\n",
              "      <th>VB17002</th>\n",
              "      <th>VB17003</th>\n",
              "      <th>VB17004</th>\n",
              "      <th>PESO</th>\n",
              "    </tr>\n",
              "  </thead>\n",
              "  <tbody>\n",
              "    <tr>\n",
              "      <th>0</th>\n",
              "      <td>0.0</td>\n",
              "      <td>15.0</td>\n",
              "      <td>0.0</td>\n",
              "      <td>15.0</td>\n",
              "      <td>60.0</td>\n",
              "      <td>371.0</td>\n",
              "      <td>1570.0</td>\n",
              "      <td>37.1</td>\n",
              "      <td>157.0</td>\n",
              "      <td>299.735235</td>\n",
              "    </tr>\n",
              "    <tr>\n",
              "      <th>1</th>\n",
              "      <td>120.0</td>\n",
              "      <td>510.0</td>\n",
              "      <td>260.0</td>\n",
              "      <td>130.0</td>\n",
              "      <td>300.0</td>\n",
              "      <td>502.0</td>\n",
              "      <td>1520.0</td>\n",
              "      <td>50.2</td>\n",
              "      <td>152.0</td>\n",
              "      <td>355.170081</td>\n",
              "    </tr>\n",
              "    <tr>\n",
              "      <th>2</th>\n",
              "      <td>0.0</td>\n",
              "      <td>585.0</td>\n",
              "      <td>130.0</td>\n",
              "      <td>455.0</td>\n",
              "      <td>420.0</td>\n",
              "      <td>482.0</td>\n",
              "      <td>1614.0</td>\n",
              "      <td>48.2</td>\n",
              "      <td>161.4</td>\n",
              "      <td>299.735235</td>\n",
              "    </tr>\n",
              "    <tr>\n",
              "      <th>3</th>\n",
              "      <td>0.0</td>\n",
              "      <td>0.0</td>\n",
              "      <td>0.0</td>\n",
              "      <td>0.0</td>\n",
              "      <td>0.0</td>\n",
              "      <td>694.0</td>\n",
              "      <td>1725.0</td>\n",
              "      <td>69.4</td>\n",
              "      <td>172.5</td>\n",
              "      <td>355.170081</td>\n",
              "    </tr>\n",
              "    <tr>\n",
              "      <th>4</th>\n",
              "      <td>30.0</td>\n",
              "      <td>165.0</td>\n",
              "      <td>90.0</td>\n",
              "      <td>45.0</td>\n",
              "      <td>60.0</td>\n",
              "      <td>789.0</td>\n",
              "      <td>1675.0</td>\n",
              "      <td>78.9</td>\n",
              "      <td>167.5</td>\n",
              "      <td>299.735235</td>\n",
              "    </tr>\n",
              "    <tr>\n",
              "      <th>...</th>\n",
              "      <td>...</td>\n",
              "      <td>...</td>\n",
              "      <td>...</td>\n",
              "      <td>...</td>\n",
              "      <td>...</td>\n",
              "      <td>...</td>\n",
              "      <td>...</td>\n",
              "      <td>...</td>\n",
              "      <td>...</td>\n",
              "      <td>...</td>\n",
              "    </tr>\n",
              "    <tr>\n",
              "      <th>16551</th>\n",
              "      <td>30.0</td>\n",
              "      <td>400.0</td>\n",
              "      <td>110.0</td>\n",
              "      <td>260.0</td>\n",
              "      <td>240.0</td>\n",
              "      <td>567.0</td>\n",
              "      <td>1679.0</td>\n",
              "      <td>56.7</td>\n",
              "      <td>167.9</td>\n",
              "      <td>447.815539</td>\n",
              "    </tr>\n",
              "    <tr>\n",
              "      <th>16552</th>\n",
              "      <td>20.0</td>\n",
              "      <td>800.0</td>\n",
              "      <td>325.0</td>\n",
              "      <td>455.0</td>\n",
              "      <td>240.0</td>\n",
              "      <td>619.0</td>\n",
              "      <td>1858.0</td>\n",
              "      <td>61.9</td>\n",
              "      <td>185.8</td>\n",
              "      <td>592.507440</td>\n",
              "    </tr>\n",
              "    <tr>\n",
              "      <th>16553</th>\n",
              "      <td>0.0</td>\n",
              "      <td>0.0</td>\n",
              "      <td>0.0</td>\n",
              "      <td>0.0</td>\n",
              "      <td>60.0</td>\n",
              "      <td>609.0</td>\n",
              "      <td>1594.0</td>\n",
              "      <td>60.9</td>\n",
              "      <td>159.4</td>\n",
              "      <td>401.131512</td>\n",
              "    </tr>\n",
              "    <tr>\n",
              "      <th>16554</th>\n",
              "      <td>75.0</td>\n",
              "      <td>215.0</td>\n",
              "      <td>35.0</td>\n",
              "      <td>105.0</td>\n",
              "      <td>120.0</td>\n",
              "      <td>473.0</td>\n",
              "      <td>1578.0</td>\n",
              "      <td>47.3</td>\n",
              "      <td>157.8</td>\n",
              "      <td>442.718091</td>\n",
              "    </tr>\n",
              "    <tr>\n",
              "      <th>16555</th>\n",
              "      <td>50.0</td>\n",
              "      <td>485.0</td>\n",
              "      <td>110.0</td>\n",
              "      <td>325.0</td>\n",
              "      <td>360.0</td>\n",
              "      <td>626.0</td>\n",
              "      <td>1639.0</td>\n",
              "      <td>62.6</td>\n",
              "      <td>163.9</td>\n",
              "      <td>592.507440</td>\n",
              "    </tr>\n",
              "  </tbody>\n",
              "</table>\n",
              "<p>16556 rows × 10 columns</p>\n",
              "</div>"
            ],
            "text/plain": [
              "       TEMPODESLOC  TEMPOTOTAL  TEMPOEDFIS  ...  VB17003  VB17004        PESO\n",
              "0              0.0        15.0         0.0  ...     37.1    157.0  299.735235\n",
              "1            120.0       510.0       260.0  ...     50.2    152.0  355.170081\n",
              "2              0.0       585.0       130.0  ...     48.2    161.4  299.735235\n",
              "3              0.0         0.0         0.0  ...     69.4    172.5  355.170081\n",
              "4             30.0       165.0        90.0  ...     78.9    167.5  299.735235\n",
              "...            ...         ...         ...  ...      ...      ...         ...\n",
              "16551         30.0       400.0       110.0  ...     56.7    167.9  447.815539\n",
              "16552         20.0       800.0       325.0  ...     61.9    185.8  592.507440\n",
              "16553          0.0         0.0         0.0  ...     60.9    159.4  401.131512\n",
              "16554         75.0       215.0        35.0  ...     47.3    157.8  442.718091\n",
              "16555         50.0       485.0       110.0  ...     62.6    163.9  592.507440\n",
              "\n",
              "[16556 rows x 10 columns]"
            ]
          },
          "metadata": {
            "tags": []
          },
          "execution_count": 6
        }
      ]
    },
    {
      "cell_type": "code",
      "metadata": {
        "id": "9Mosfc3C-As9",
        "colab": {
          "base_uri": "https://localhost:8080/"
        },
        "outputId": "8378aea4-fe43-4d8a-938e-b1883912c250"
      },
      "source": [
        "dados['VB01001'].value_counts()"
      ],
      "execution_count": 7,
      "outputs": [
        {
          "output_type": "execute_result",
          "data": {
            "text/plain": [
              "1    8287\n",
              "2    8269\n",
              "Name: VB01001, dtype: int64"
            ]
          },
          "metadata": {
            "tags": []
          },
          "execution_count": 7
        }
      ]
    },
    {
      "cell_type": "code",
      "metadata": {
        "id": "8jdca0B4-AjY",
        "colab": {
          "base_uri": "https://localhost:8080/"
        },
        "outputId": "d4b3cc4a-0e8b-469b-8ed7-222bafda76fb"
      },
      "source": [
        "dados['VB01001'].value_counts(normalize = True)* 100"
      ],
      "execution_count": 8,
      "outputs": [
        {
          "output_type": "execute_result",
          "data": {
            "text/plain": [
              "1    50.054361\n",
              "2    49.945639\n",
              "Name: VB01001, dtype: float64"
            ]
          },
          "metadata": {
            "tags": []
          },
          "execution_count": 8
        }
      ]
    },
    {
      "cell_type": "code",
      "metadata": {
        "id": "ew46PmhY-AZD"
      },
      "source": [
        "frequencia_raca = dados['VB01002'].value_counts()\r\n",
        "percentual_raca = dados['VB01002'].value_counts(normalize = True) * 100"
      ],
      "execution_count": 9,
      "outputs": []
    },
    {
      "cell_type": "code",
      "metadata": {
        "id": "LEs6SV1O-AMq",
        "colab": {
          "base_uri": "https://localhost:8080/",
          "height": 235
        },
        "outputId": "17d4064b-2241-4528-bbf1-b5ddb7829414"
      },
      "source": [
        "raca = {1:'Branca', \r\n",
        "        2:'Preta',\r\n",
        "        3:'Amarela',\r\n",
        "        4:'Parda',\r\n",
        "        5:'Indígena',\r\n",
        "        99:'Nao_informado'}\r\n",
        "\r\n",
        "distribuicao_frequencia = pd.DataFrame({'Frequencia': frequencia_raca, 'Percentual':percentual_raca})\r\n",
        "distribuicao_frequencia.rename(index=raca, inplace=True)\r\n",
        "distribuicao_frequencia.rename_axis('Raça', axis=1, inplace=True)\r\n",
        "distribuicao_frequencia    "
      ],
      "execution_count": 10,
      "outputs": [
        {
          "output_type": "execute_result",
          "data": {
            "text/html": [
              "<div>\n",
              "<style scoped>\n",
              "    .dataframe tbody tr th:only-of-type {\n",
              "        vertical-align: middle;\n",
              "    }\n",
              "\n",
              "    .dataframe tbody tr th {\n",
              "        vertical-align: top;\n",
              "    }\n",
              "\n",
              "    .dataframe thead th {\n",
              "        text-align: right;\n",
              "    }\n",
              "</style>\n",
              "<table border=\"1\" class=\"dataframe\">\n",
              "  <thead>\n",
              "    <tr style=\"text-align: right;\">\n",
              "      <th>Raça</th>\n",
              "      <th>Frequencia</th>\n",
              "      <th>Percentual</th>\n",
              "    </tr>\n",
              "  </thead>\n",
              "  <tbody>\n",
              "    <tr>\n",
              "      <th>Parda</th>\n",
              "      <td>6726</td>\n",
              "      <td>40.625755</td>\n",
              "    </tr>\n",
              "    <tr>\n",
              "      <th>Branca</th>\n",
              "      <td>6575</td>\n",
              "      <td>39.713699</td>\n",
              "    </tr>\n",
              "    <tr>\n",
              "      <th>Preta</th>\n",
              "      <td>1939</td>\n",
              "      <td>11.711766</td>\n",
              "    </tr>\n",
              "    <tr>\n",
              "      <th>Amarela</th>\n",
              "      <td>712</td>\n",
              "      <td>4.300556</td>\n",
              "    </tr>\n",
              "    <tr>\n",
              "      <th>Indígena</th>\n",
              "      <td>581</td>\n",
              "      <td>3.509302</td>\n",
              "    </tr>\n",
              "    <tr>\n",
              "      <th>Nao_informado</th>\n",
              "      <td>23</td>\n",
              "      <td>0.138922</td>\n",
              "    </tr>\n",
              "  </tbody>\n",
              "</table>\n",
              "</div>"
            ],
            "text/plain": [
              "Raça           Frequencia  Percentual\n",
              "Parda                6726   40.625755\n",
              "Branca               6575   39.713699\n",
              "Preta                1939   11.711766\n",
              "Amarela               712    4.300556\n",
              "Indígena              581    3.509302\n",
              "Nao_informado          23    0.138922"
            ]
          },
          "metadata": {
            "tags": []
          },
          "execution_count": 10
        }
      ]
    },
    {
      "cell_type": "code",
      "metadata": {
        "colab": {
          "base_uri": "https://localhost:8080/",
          "height": 253
        },
        "id": "XmdOMFm8OXpG",
        "outputId": "f5801883-607a-4b96-c8b4-ab31e01ba907"
      },
      "source": [
        "dados['IMC'] = dados['VB17003'] / (dados['VB17004']/100)**2\r\n",
        "dados.head()"
      ],
      "execution_count": 11,
      "outputs": [
        {
          "output_type": "execute_result",
          "data": {
            "text/html": [
              "<div>\n",
              "<style scoped>\n",
              "    .dataframe tbody tr th:only-of-type {\n",
              "        vertical-align: middle;\n",
              "    }\n",
              "\n",
              "    .dataframe tbody tr th {\n",
              "        vertical-align: top;\n",
              "    }\n",
              "\n",
              "    .dataframe thead th {\n",
              "        text-align: right;\n",
              "    }\n",
              "</style>\n",
              "<table border=\"1\" class=\"dataframe\">\n",
              "  <thead>\n",
              "    <tr style=\"text-align: right;\">\n",
              "      <th></th>\n",
              "      <th>ANOPESQ</th>\n",
              "      <th>PAIS</th>\n",
              "      <th>REGEOGR</th>\n",
              "      <th>VB00004</th>\n",
              "      <th>VB01001</th>\n",
              "      <th>VB01002</th>\n",
              "      <th>VB01003</th>\n",
              "      <th>VB01004</th>\n",
              "      <th>VB01005</th>\n",
              "      <th>VB01006</th>\n",
              "      <th>VB01007</th>\n",
              "      <th>VB01008A</th>\n",
              "      <th>VB01010A</th>\n",
              "      <th>VB01011</th>\n",
              "      <th>VB01012</th>\n",
              "      <th>VB01013</th>\n",
              "      <th>VB01014</th>\n",
              "      <th>VB01015A</th>\n",
              "      <th>VB01016</th>\n",
              "      <th>VB01017</th>\n",
              "      <th>VB01018</th>\n",
              "      <th>VB01019</th>\n",
              "      <th>VB01020A</th>\n",
              "      <th>VB01021</th>\n",
              "      <th>VB01022</th>\n",
              "      <th>VB01023</th>\n",
              "      <th>VB01024</th>\n",
              "      <th>VB01025</th>\n",
              "      <th>VB01026</th>\n",
              "      <th>VB02001</th>\n",
              "      <th>VB02002</th>\n",
              "      <th>VB02004A</th>\n",
              "      <th>VB02010</th>\n",
              "      <th>VB02011</th>\n",
              "      <th>VB02013</th>\n",
              "      <th>VB02017A</th>\n",
              "      <th>VB02018A</th>\n",
              "      <th>VB02019A</th>\n",
              "      <th>VB02020A</th>\n",
              "      <th>VB02021</th>\n",
              "      <th>...</th>\n",
              "      <th>VB11006</th>\n",
              "      <th>VB11007</th>\n",
              "      <th>VB12001</th>\n",
              "      <th>VB12002</th>\n",
              "      <th>VB12003</th>\n",
              "      <th>VB13001</th>\n",
              "      <th>VB13002A</th>\n",
              "      <th>VB13004A</th>\n",
              "      <th>VB13005</th>\n",
              "      <th>VB13006</th>\n",
              "      <th>VB13007</th>\n",
              "      <th>VB13008</th>\n",
              "      <th>VB13009</th>\n",
              "      <th>VB14001</th>\n",
              "      <th>VB14002</th>\n",
              "      <th>VB16001A01</th>\n",
              "      <th>VB16001A02</th>\n",
              "      <th>VB16001A03</th>\n",
              "      <th>VB16001A04</th>\n",
              "      <th>VB16001A05</th>\n",
              "      <th>VB16001A06</th>\n",
              "      <th>VB16001A07</th>\n",
              "      <th>VB16001A08</th>\n",
              "      <th>VB17001</th>\n",
              "      <th>VB17002</th>\n",
              "      <th>VB17003</th>\n",
              "      <th>VB17004</th>\n",
              "      <th>VB17005</th>\n",
              "      <th>VB17006</th>\n",
              "      <th>ESTRATO_EXP</th>\n",
              "      <th>ESTRATOGEOREG</th>\n",
              "      <th>PESO</th>\n",
              "      <th>V0006</th>\n",
              "      <th>V0007</th>\n",
              "      <th>V0008</th>\n",
              "      <th>V0041</th>\n",
              "      <th>aluno</th>\n",
              "      <th>escola</th>\n",
              "      <th>turma</th>\n",
              "      <th>IMC</th>\n",
              "    </tr>\n",
              "  </thead>\n",
              "  <tbody>\n",
              "    <tr>\n",
              "      <th>0</th>\n",
              "      <td>2015</td>\n",
              "      <td>76</td>\n",
              "      <td>1</td>\n",
              "      <td>1</td>\n",
              "      <td>2</td>\n",
              "      <td>1</td>\n",
              "      <td>13</td>\n",
              "      <td>7</td>\n",
              "      <td>7</td>\n",
              "      <td>1</td>\n",
              "      <td>2</td>\n",
              "      <td>7</td>\n",
              "      <td>3</td>\n",
              "      <td>2</td>\n",
              "      <td>-1</td>\n",
              "      <td>1</td>\n",
              "      <td>1</td>\n",
              "      <td>1</td>\n",
              "      <td>1</td>\n",
              "      <td>1</td>\n",
              "      <td>2</td>\n",
              "      <td>4</td>\n",
              "      <td>2</td>\n",
              "      <td>4</td>\n",
              "      <td>1</td>\n",
              "      <td>2</td>\n",
              "      <td>2</td>\n",
              "      <td>5</td>\n",
              "      <td>1</td>\n",
              "      <td>8</td>\n",
              "      <td>3</td>\n",
              "      <td>4</td>\n",
              "      <td>3</td>\n",
              "      <td>6</td>\n",
              "      <td>6</td>\n",
              "      <td>1</td>\n",
              "      <td>6</td>\n",
              "      <td>1</td>\n",
              "      <td>-1</td>\n",
              "      <td>2</td>\n",
              "      <td>...</td>\n",
              "      <td>1</td>\n",
              "      <td>2</td>\n",
              "      <td>1</td>\n",
              "      <td>1</td>\n",
              "      <td>4</td>\n",
              "      <td>2</td>\n",
              "      <td>-1</td>\n",
              "      <td>3</td>\n",
              "      <td>1</td>\n",
              "      <td>1</td>\n",
              "      <td>-1</td>\n",
              "      <td>1</td>\n",
              "      <td>1</td>\n",
              "      <td>2</td>\n",
              "      <td>2</td>\n",
              "      <td>1</td>\n",
              "      <td>2</td>\n",
              "      <td>2</td>\n",
              "      <td>2</td>\n",
              "      <td>2</td>\n",
              "      <td>2</td>\n",
              "      <td>2</td>\n",
              "      <td>2</td>\n",
              "      <td>371.0</td>\n",
              "      <td>1570.0</td>\n",
              "      <td>37.1</td>\n",
              "      <td>157.0</td>\n",
              "      <td>2</td>\n",
              "      <td>1</td>\n",
              "      <td>1223</td>\n",
              "      <td>1</td>\n",
              "      <td>299.735235</td>\n",
              "      <td>1</td>\n",
              "      <td>2</td>\n",
              "      <td>4</td>\n",
              "      <td>1</td>\n",
              "      <td>1</td>\n",
              "      <td>1</td>\n",
              "      <td>296</td>\n",
              "      <td>15.051321</td>\n",
              "    </tr>\n",
              "    <tr>\n",
              "      <th>1</th>\n",
              "      <td>2015</td>\n",
              "      <td>76</td>\n",
              "      <td>1</td>\n",
              "      <td>1</td>\n",
              "      <td>2</td>\n",
              "      <td>1</td>\n",
              "      <td>14</td>\n",
              "      <td>4</td>\n",
              "      <td>7</td>\n",
              "      <td>1</td>\n",
              "      <td>1</td>\n",
              "      <td>7</td>\n",
              "      <td>3</td>\n",
              "      <td>2</td>\n",
              "      <td>-1</td>\n",
              "      <td>1</td>\n",
              "      <td>1</td>\n",
              "      <td>1</td>\n",
              "      <td>1</td>\n",
              "      <td>1</td>\n",
              "      <td>2</td>\n",
              "      <td>2</td>\n",
              "      <td>2</td>\n",
              "      <td>4</td>\n",
              "      <td>1</td>\n",
              "      <td>2</td>\n",
              "      <td>2</td>\n",
              "      <td>5</td>\n",
              "      <td>3</td>\n",
              "      <td>8</td>\n",
              "      <td>2</td>\n",
              "      <td>1</td>\n",
              "      <td>8</td>\n",
              "      <td>8</td>\n",
              "      <td>6</td>\n",
              "      <td>1</td>\n",
              "      <td>1</td>\n",
              "      <td>5</td>\n",
              "      <td>-1</td>\n",
              "      <td>2</td>\n",
              "      <td>...</td>\n",
              "      <td>3</td>\n",
              "      <td>2</td>\n",
              "      <td>4</td>\n",
              "      <td>4</td>\n",
              "      <td>4</td>\n",
              "      <td>1</td>\n",
              "      <td>2</td>\n",
              "      <td>3</td>\n",
              "      <td>3</td>\n",
              "      <td>1</td>\n",
              "      <td>-1</td>\n",
              "      <td>1</td>\n",
              "      <td>1</td>\n",
              "      <td>2</td>\n",
              "      <td>2</td>\n",
              "      <td>2</td>\n",
              "      <td>2</td>\n",
              "      <td>2</td>\n",
              "      <td>1</td>\n",
              "      <td>2</td>\n",
              "      <td>2</td>\n",
              "      <td>2</td>\n",
              "      <td>2</td>\n",
              "      <td>502.0</td>\n",
              "      <td>1520.0</td>\n",
              "      <td>50.2</td>\n",
              "      <td>152.0</td>\n",
              "      <td>2</td>\n",
              "      <td>2</td>\n",
              "      <td>1223</td>\n",
              "      <td>1</td>\n",
              "      <td>355.170081</td>\n",
              "      <td>1</td>\n",
              "      <td>2</td>\n",
              "      <td>4</td>\n",
              "      <td>1</td>\n",
              "      <td>2</td>\n",
              "      <td>1</td>\n",
              "      <td>296</td>\n",
              "      <td>21.727839</td>\n",
              "    </tr>\n",
              "    <tr>\n",
              "      <th>2</th>\n",
              "      <td>2015</td>\n",
              "      <td>76</td>\n",
              "      <td>1</td>\n",
              "      <td>1</td>\n",
              "      <td>1</td>\n",
              "      <td>4</td>\n",
              "      <td>13</td>\n",
              "      <td>6</td>\n",
              "      <td>7</td>\n",
              "      <td>1</td>\n",
              "      <td>1</td>\n",
              "      <td>5</td>\n",
              "      <td>5</td>\n",
              "      <td>2</td>\n",
              "      <td>-1</td>\n",
              "      <td>2</td>\n",
              "      <td>1</td>\n",
              "      <td>1</td>\n",
              "      <td>1</td>\n",
              "      <td>1</td>\n",
              "      <td>2</td>\n",
              "      <td>3</td>\n",
              "      <td>1</td>\n",
              "      <td>4</td>\n",
              "      <td>1</td>\n",
              "      <td>2</td>\n",
              "      <td>2</td>\n",
              "      <td>5</td>\n",
              "      <td>3</td>\n",
              "      <td>2</td>\n",
              "      <td>3</td>\n",
              "      <td>1</td>\n",
              "      <td>8</td>\n",
              "      <td>2</td>\n",
              "      <td>8</td>\n",
              "      <td>1</td>\n",
              "      <td>1</td>\n",
              "      <td>5</td>\n",
              "      <td>5</td>\n",
              "      <td>1</td>\n",
              "      <td>...</td>\n",
              "      <td>1</td>\n",
              "      <td>2</td>\n",
              "      <td>1</td>\n",
              "      <td>2</td>\n",
              "      <td>3</td>\n",
              "      <td>1</td>\n",
              "      <td>2</td>\n",
              "      <td>1</td>\n",
              "      <td>2</td>\n",
              "      <td>5</td>\n",
              "      <td>99</td>\n",
              "      <td>1</td>\n",
              "      <td>-1</td>\n",
              "      <td>2</td>\n",
              "      <td>2</td>\n",
              "      <td>1</td>\n",
              "      <td>1</td>\n",
              "      <td>1</td>\n",
              "      <td>1</td>\n",
              "      <td>1</td>\n",
              "      <td>1</td>\n",
              "      <td>1</td>\n",
              "      <td>1</td>\n",
              "      <td>482.0</td>\n",
              "      <td>1614.0</td>\n",
              "      <td>48.2</td>\n",
              "      <td>161.4</td>\n",
              "      <td>2</td>\n",
              "      <td>2</td>\n",
              "      <td>1223</td>\n",
              "      <td>1</td>\n",
              "      <td>299.735235</td>\n",
              "      <td>1</td>\n",
              "      <td>2</td>\n",
              "      <td>4</td>\n",
              "      <td>1</td>\n",
              "      <td>3</td>\n",
              "      <td>1</td>\n",
              "      <td>296</td>\n",
              "      <td>18.502907</td>\n",
              "    </tr>\n",
              "    <tr>\n",
              "      <th>3</th>\n",
              "      <td>2015</td>\n",
              "      <td>76</td>\n",
              "      <td>1</td>\n",
              "      <td>1</td>\n",
              "      <td>1</td>\n",
              "      <td>1</td>\n",
              "      <td>14</td>\n",
              "      <td>6</td>\n",
              "      <td>7</td>\n",
              "      <td>1</td>\n",
              "      <td>1</td>\n",
              "      <td>7</td>\n",
              "      <td>4</td>\n",
              "      <td>2</td>\n",
              "      <td>-1</td>\n",
              "      <td>1</td>\n",
              "      <td>1</td>\n",
              "      <td>1</td>\n",
              "      <td>1</td>\n",
              "      <td>1</td>\n",
              "      <td>2</td>\n",
              "      <td>4</td>\n",
              "      <td>2</td>\n",
              "      <td>4</td>\n",
              "      <td>1</td>\n",
              "      <td>2</td>\n",
              "      <td>2</td>\n",
              "      <td>6</td>\n",
              "      <td>3</td>\n",
              "      <td>2</td>\n",
              "      <td>4</td>\n",
              "      <td>1</td>\n",
              "      <td>3</td>\n",
              "      <td>2</td>\n",
              "      <td>7</td>\n",
              "      <td>1</td>\n",
              "      <td>5</td>\n",
              "      <td>1</td>\n",
              "      <td>-1</td>\n",
              "      <td>2</td>\n",
              "      <td>...</td>\n",
              "      <td>1</td>\n",
              "      <td>2</td>\n",
              "      <td>2</td>\n",
              "      <td>2</td>\n",
              "      <td>4</td>\n",
              "      <td>1</td>\n",
              "      <td>10</td>\n",
              "      <td>3</td>\n",
              "      <td>1</td>\n",
              "      <td>2</td>\n",
              "      <td>-1</td>\n",
              "      <td>1</td>\n",
              "      <td>-1</td>\n",
              "      <td>2</td>\n",
              "      <td>2</td>\n",
              "      <td>1</td>\n",
              "      <td>2</td>\n",
              "      <td>2</td>\n",
              "      <td>2</td>\n",
              "      <td>1</td>\n",
              "      <td>2</td>\n",
              "      <td>2</td>\n",
              "      <td>2</td>\n",
              "      <td>694.0</td>\n",
              "      <td>1725.0</td>\n",
              "      <td>69.4</td>\n",
              "      <td>172.5</td>\n",
              "      <td>2</td>\n",
              "      <td>3</td>\n",
              "      <td>1223</td>\n",
              "      <td>1</td>\n",
              "      <td>355.170081</td>\n",
              "      <td>1</td>\n",
              "      <td>2</td>\n",
              "      <td>4</td>\n",
              "      <td>1</td>\n",
              "      <td>4</td>\n",
              "      <td>1</td>\n",
              "      <td>296</td>\n",
              "      <td>23.322831</td>\n",
              "    </tr>\n",
              "    <tr>\n",
              "      <th>4</th>\n",
              "      <td>2015</td>\n",
              "      <td>76</td>\n",
              "      <td>1</td>\n",
              "      <td>1</td>\n",
              "      <td>1</td>\n",
              "      <td>1</td>\n",
              "      <td>13</td>\n",
              "      <td>9</td>\n",
              "      <td>7</td>\n",
              "      <td>1</td>\n",
              "      <td>2</td>\n",
              "      <td>5</td>\n",
              "      <td>4</td>\n",
              "      <td>2</td>\n",
              "      <td>-1</td>\n",
              "      <td>2</td>\n",
              "      <td>1</td>\n",
              "      <td>1</td>\n",
              "      <td>1</td>\n",
              "      <td>1</td>\n",
              "      <td>2</td>\n",
              "      <td>5</td>\n",
              "      <td>1</td>\n",
              "      <td>4</td>\n",
              "      <td>1</td>\n",
              "      <td>2</td>\n",
              "      <td>2</td>\n",
              "      <td>6</td>\n",
              "      <td>5</td>\n",
              "      <td>6</td>\n",
              "      <td>3</td>\n",
              "      <td>5</td>\n",
              "      <td>2</td>\n",
              "      <td>6</td>\n",
              "      <td>2</td>\n",
              "      <td>1</td>\n",
              "      <td>5</td>\n",
              "      <td>1</td>\n",
              "      <td>5</td>\n",
              "      <td>1</td>\n",
              "      <td>...</td>\n",
              "      <td>1</td>\n",
              "      <td>4</td>\n",
              "      <td>2</td>\n",
              "      <td>2</td>\n",
              "      <td>4</td>\n",
              "      <td>1</td>\n",
              "      <td>3</td>\n",
              "      <td>2</td>\n",
              "      <td>2</td>\n",
              "      <td>2</td>\n",
              "      <td>13</td>\n",
              "      <td>1</td>\n",
              "      <td>-1</td>\n",
              "      <td>1</td>\n",
              "      <td>2</td>\n",
              "      <td>1</td>\n",
              "      <td>1</td>\n",
              "      <td>1</td>\n",
              "      <td>1</td>\n",
              "      <td>1</td>\n",
              "      <td>1</td>\n",
              "      <td>1</td>\n",
              "      <td>1</td>\n",
              "      <td>789.0</td>\n",
              "      <td>1675.0</td>\n",
              "      <td>78.9</td>\n",
              "      <td>167.5</td>\n",
              "      <td>2</td>\n",
              "      <td>4</td>\n",
              "      <td>1223</td>\n",
              "      <td>1</td>\n",
              "      <td>299.735235</td>\n",
              "      <td>1</td>\n",
              "      <td>2</td>\n",
              "      <td>4</td>\n",
              "      <td>1</td>\n",
              "      <td>5</td>\n",
              "      <td>1</td>\n",
              "      <td>296</td>\n",
              "      <td>28.122076</td>\n",
              "    </tr>\n",
              "  </tbody>\n",
              "</table>\n",
              "<p>5 rows × 182 columns</p>\n",
              "</div>"
            ],
            "text/plain": [
              "   ANOPESQ  PAIS  REGEOGR  VB00004  ...  aluno  escola  turma        IMC\n",
              "0     2015    76        1        1  ...      1       1    296  15.051321\n",
              "1     2015    76        1        1  ...      2       1    296  21.727839\n",
              "2     2015    76        1        1  ...      3       1    296  18.502907\n",
              "3     2015    76        1        1  ...      4       1    296  23.322831\n",
              "4     2015    76        1        1  ...      5       1    296  28.122076\n",
              "\n",
              "[5 rows x 182 columns]"
            ]
          },
          "metadata": {
            "tags": []
          },
          "execution_count": 11
        }
      ]
    },
    {
      "cell_type": "code",
      "metadata": {
        "colab": {
          "base_uri": "https://localhost:8080/",
          "height": 204
        },
        "id": "jvqm9S7_OXhV",
        "outputId": "8c9507ad-d006-4fb4-e633-71d599309464"
      },
      "source": [
        "classes = [0, 18.5, 25, 30, 60]\r\n",
        "labels = ['Abaixo', 'Normal', 'Sobrepeso', 'Obesidade']\r\n",
        "\r\n",
        "dados[\"CLASSE_IMC\"] = pd.cut(x=dados['IMC'],\r\n",
        "                             bins=classes,\r\n",
        "                             labels = labels,\r\n",
        "                             include_lowest = True)\r\n",
        "\r\n",
        "dados[['IMC', 'CLASSE_IMC']].head()\r\n"
      ],
      "execution_count": 12,
      "outputs": [
        {
          "output_type": "execute_result",
          "data": {
            "text/html": [
              "<div>\n",
              "<style scoped>\n",
              "    .dataframe tbody tr th:only-of-type {\n",
              "        vertical-align: middle;\n",
              "    }\n",
              "\n",
              "    .dataframe tbody tr th {\n",
              "        vertical-align: top;\n",
              "    }\n",
              "\n",
              "    .dataframe thead th {\n",
              "        text-align: right;\n",
              "    }\n",
              "</style>\n",
              "<table border=\"1\" class=\"dataframe\">\n",
              "  <thead>\n",
              "    <tr style=\"text-align: right;\">\n",
              "      <th></th>\n",
              "      <th>IMC</th>\n",
              "      <th>CLASSE_IMC</th>\n",
              "    </tr>\n",
              "  </thead>\n",
              "  <tbody>\n",
              "    <tr>\n",
              "      <th>0</th>\n",
              "      <td>15.051321</td>\n",
              "      <td>Abaixo</td>\n",
              "    </tr>\n",
              "    <tr>\n",
              "      <th>1</th>\n",
              "      <td>21.727839</td>\n",
              "      <td>Normal</td>\n",
              "    </tr>\n",
              "    <tr>\n",
              "      <th>2</th>\n",
              "      <td>18.502907</td>\n",
              "      <td>Normal</td>\n",
              "    </tr>\n",
              "    <tr>\n",
              "      <th>3</th>\n",
              "      <td>23.322831</td>\n",
              "      <td>Normal</td>\n",
              "    </tr>\n",
              "    <tr>\n",
              "      <th>4</th>\n",
              "      <td>28.122076</td>\n",
              "      <td>Sobrepeso</td>\n",
              "    </tr>\n",
              "  </tbody>\n",
              "</table>\n",
              "</div>"
            ],
            "text/plain": [
              "         IMC CLASSE_IMC\n",
              "0  15.051321     Abaixo\n",
              "1  21.727839     Normal\n",
              "2  18.502907     Normal\n",
              "3  23.322831     Normal\n",
              "4  28.122076  Sobrepeso"
            ]
          },
          "metadata": {
            "tags": []
          },
          "execution_count": 12
        }
      ]
    },
    {
      "cell_type": "code",
      "metadata": {
        "colab": {
          "base_uri": "https://localhost:8080/",
          "height": 173
        },
        "id": "A_mVkpuYOXW-",
        "outputId": "5e003534-e788-4f46-eadd-5c1a6a78e1df"
      },
      "source": [
        "frequencia = dados[\"CLASSE_IMC\"].value_counts()\r\n",
        "percentual = dados[\"CLASSE_IMC\"].value_counts(normalize = True) * 100\r\n",
        "dist_freq = pd.DataFrame({\"Frequência\": frequencia, \"Percentual\": percentual })\r\n",
        "#dist_freq.rename(index = respostas, inplace = True)\r\n",
        "#dist_freq.rename_axis(\"Sentimento em relação ao seu corpo\", axis=1, inplace = True)\r\n",
        "dist_freq"
      ],
      "execution_count": 13,
      "outputs": [
        {
          "output_type": "execute_result",
          "data": {
            "text/html": [
              "<div>\n",
              "<style scoped>\n",
              "    .dataframe tbody tr th:only-of-type {\n",
              "        vertical-align: middle;\n",
              "    }\n",
              "\n",
              "    .dataframe tbody tr th {\n",
              "        vertical-align: top;\n",
              "    }\n",
              "\n",
              "    .dataframe thead th {\n",
              "        text-align: right;\n",
              "    }\n",
              "</style>\n",
              "<table border=\"1\" class=\"dataframe\">\n",
              "  <thead>\n",
              "    <tr style=\"text-align: right;\">\n",
              "      <th></th>\n",
              "      <th>Frequência</th>\n",
              "      <th>Percentual</th>\n",
              "    </tr>\n",
              "  </thead>\n",
              "  <tbody>\n",
              "    <tr>\n",
              "      <th>Normal</th>\n",
              "      <td>9188</td>\n",
              "      <td>55.496497</td>\n",
              "    </tr>\n",
              "    <tr>\n",
              "      <th>Abaixo</th>\n",
              "      <td>4975</td>\n",
              "      <td>30.049529</td>\n",
              "    </tr>\n",
              "    <tr>\n",
              "      <th>Sobrepeso</th>\n",
              "      <td>1760</td>\n",
              "      <td>10.630587</td>\n",
              "    </tr>\n",
              "    <tr>\n",
              "      <th>Obesidade</th>\n",
              "      <td>633</td>\n",
              "      <td>3.823387</td>\n",
              "    </tr>\n",
              "  </tbody>\n",
              "</table>\n",
              "</div>"
            ],
            "text/plain": [
              "           Frequência  Percentual\n",
              "Normal           9188   55.496497\n",
              "Abaixo           4975   30.049529\n",
              "Sobrepeso        1760   10.630587\n",
              "Obesidade         633    3.823387"
            ]
          },
          "metadata": {
            "tags": []
          },
          "execution_count": 13
        }
      ]
    },
    {
      "cell_type": "code",
      "metadata": {
        "colab": {
          "base_uri": "https://localhost:8080/"
        },
        "id": "40Kdme0pOXO4",
        "outputId": "e2ecdb78-c800-43ee-b30e-069bccb63993"
      },
      "source": [
        "alt_min = dados[\"VB17004\"].min()\r\n",
        "alt_max = dados[\"VB17004\"].max()\r\n",
        "\r\n",
        "print(f'Altura Minima {alt_min}, Altura Máxima {alt_max}')"
      ],
      "execution_count": 14,
      "outputs": [
        {
          "output_type": "stream",
          "text": [
            "Altura Minima 124.1, Altura Máxima 195.3\n"
          ],
          "name": "stdout"
        }
      ]
    },
    {
      "cell_type": "code",
      "metadata": {
        "colab": {
          "base_uri": "https://localhost:8080/"
        },
        "id": "qjpmq9IqOXE-",
        "outputId": "a42d4d52-52ac-4eaf-bb43-2c330bd20482"
      },
      "source": [
        "tamanho_amostra = len(dados)\r\n",
        "\r\n",
        "k = int((1 + ((10/3)*np.log10(tamanho_amostra))))\r\n",
        "k"
      ],
      "execution_count": 15,
      "outputs": [
        {
          "output_type": "execute_result",
          "data": {
            "text/plain": [
              "15"
            ]
          },
          "metadata": {
            "tags": []
          },
          "execution_count": 15
        }
      ]
    },
    {
      "cell_type": "code",
      "metadata": {
        "colab": {
          "base_uri": "https://localhost:8080/",
          "height": 514
        },
        "id": "_xejWES8Z20c",
        "outputId": "b94ce778-5fcf-4186-c6b9-8be680893a7f"
      },
      "source": [
        "dados[\"CLASSE_ALTURA\"] = pd.cut(x = dados[\"VB17004\"],\r\n",
        "       bins = k,\r\n",
        "       include_lowest = True)\r\n",
        "\r\n",
        "frequencia = dados[\"CLASSE_ALTURA\"].value_counts()\r\n",
        "percentual = dados[\"CLASSE_ALTURA\"].value_counts(normalize = True) * 100\r\n",
        "dist_freq = pd.DataFrame({\"Frequência\": frequencia, \"Percentual\": percentual })\r\n",
        "dist_freq"
      ],
      "execution_count": 16,
      "outputs": [
        {
          "output_type": "execute_result",
          "data": {
            "text/html": [
              "<div>\n",
              "<style scoped>\n",
              "    .dataframe tbody tr th:only-of-type {\n",
              "        vertical-align: middle;\n",
              "    }\n",
              "\n",
              "    .dataframe tbody tr th {\n",
              "        vertical-align: top;\n",
              "    }\n",
              "\n",
              "    .dataframe thead th {\n",
              "        text-align: right;\n",
              "    }\n",
              "</style>\n",
              "<table border=\"1\" class=\"dataframe\">\n",
              "  <thead>\n",
              "    <tr style=\"text-align: right;\">\n",
              "      <th></th>\n",
              "      <th>Frequência</th>\n",
              "      <th>Percentual</th>\n",
              "    </tr>\n",
              "  </thead>\n",
              "  <tbody>\n",
              "    <tr>\n",
              "      <th>(157.327, 162.073]</th>\n",
              "      <td>3110</td>\n",
              "      <td>18.784731</td>\n",
              "    </tr>\n",
              "    <tr>\n",
              "      <th>(152.58, 157.327]</th>\n",
              "      <td>2734</td>\n",
              "      <td>16.513651</td>\n",
              "    </tr>\n",
              "    <tr>\n",
              "      <th>(162.073, 166.82]</th>\n",
              "      <td>2550</td>\n",
              "      <td>15.402271</td>\n",
              "    </tr>\n",
              "    <tr>\n",
              "      <th>(166.82, 171.567]</th>\n",
              "      <td>2063</td>\n",
              "      <td>12.460739</td>\n",
              "    </tr>\n",
              "    <tr>\n",
              "      <th>(147.833, 152.58]</th>\n",
              "      <td>1782</td>\n",
              "      <td>10.763469</td>\n",
              "    </tr>\n",
              "    <tr>\n",
              "      <th>(171.567, 176.313]</th>\n",
              "      <td>1416</td>\n",
              "      <td>8.552791</td>\n",
              "    </tr>\n",
              "    <tr>\n",
              "      <th>(143.087, 147.833]</th>\n",
              "      <td>1012</td>\n",
              "      <td>6.112588</td>\n",
              "    </tr>\n",
              "    <tr>\n",
              "      <th>(176.313, 181.06]</th>\n",
              "      <td>749</td>\n",
              "      <td>4.524040</td>\n",
              "    </tr>\n",
              "    <tr>\n",
              "      <th>(138.34, 143.087]</th>\n",
              "      <td>484</td>\n",
              "      <td>2.923411</td>\n",
              "    </tr>\n",
              "    <tr>\n",
              "      <th>(181.06, 185.807]</th>\n",
              "      <td>300</td>\n",
              "      <td>1.812032</td>\n",
              "    </tr>\n",
              "    <tr>\n",
              "      <th>(133.593, 138.34]</th>\n",
              "      <td>199</td>\n",
              "      <td>1.201981</td>\n",
              "    </tr>\n",
              "    <tr>\n",
              "      <th>(185.807, 190.553]</th>\n",
              "      <td>94</td>\n",
              "      <td>0.567770</td>\n",
              "    </tr>\n",
              "    <tr>\n",
              "      <th>(128.847, 133.593]</th>\n",
              "      <td>47</td>\n",
              "      <td>0.283885</td>\n",
              "    </tr>\n",
              "    <tr>\n",
              "      <th>(190.553, 195.3]</th>\n",
              "      <td>13</td>\n",
              "      <td>0.078521</td>\n",
              "    </tr>\n",
              "    <tr>\n",
              "      <th>(124.02799999999999, 128.847]</th>\n",
              "      <td>3</td>\n",
              "      <td>0.018120</td>\n",
              "    </tr>\n",
              "  </tbody>\n",
              "</table>\n",
              "</div>"
            ],
            "text/plain": [
              "                               Frequência  Percentual\n",
              "(157.327, 162.073]                   3110   18.784731\n",
              "(152.58, 157.327]                    2734   16.513651\n",
              "(162.073, 166.82]                    2550   15.402271\n",
              "(166.82, 171.567]                    2063   12.460739\n",
              "(147.833, 152.58]                    1782   10.763469\n",
              "(171.567, 176.313]                   1416    8.552791\n",
              "(143.087, 147.833]                   1012    6.112588\n",
              "(176.313, 181.06]                     749    4.524040\n",
              "(138.34, 143.087]                     484    2.923411\n",
              "(181.06, 185.807]                     300    1.812032\n",
              "(133.593, 138.34]                     199    1.201981\n",
              "(185.807, 190.553]                     94    0.567770\n",
              "(128.847, 133.593]                     47    0.283885\n",
              "(190.553, 195.3]                       13    0.078521\n",
              "(124.02799999999999, 128.847]           3    0.018120"
            ]
          },
          "metadata": {
            "tags": []
          },
          "execution_count": 16
        }
      ]
    },
    {
      "cell_type": "code",
      "metadata": {
        "colab": {
          "base_uri": "https://localhost:8080/",
          "height": 266
        },
        "id": "aocUqKTDcXVX",
        "outputId": "eea9d700-bf3d-4301-8a04-1ff332c7adec"
      },
      "source": [
        "frequencia_cruzada = pd.crosstab(dados[\"VB11007\"], dados[\"VB01001\"])\r\n",
        "frequencia_cruzada"
      ],
      "execution_count": 17,
      "outputs": [
        {
          "output_type": "execute_result",
          "data": {
            "text/html": [
              "<div>\n",
              "<style scoped>\n",
              "    .dataframe tbody tr th:only-of-type {\n",
              "        vertical-align: middle;\n",
              "    }\n",
              "\n",
              "    .dataframe tbody tr th {\n",
              "        vertical-align: top;\n",
              "    }\n",
              "\n",
              "    .dataframe thead th {\n",
              "        text-align: right;\n",
              "    }\n",
              "</style>\n",
              "<table border=\"1\" class=\"dataframe\">\n",
              "  <thead>\n",
              "    <tr style=\"text-align: right;\">\n",
              "      <th>VB01001</th>\n",
              "      <th>1</th>\n",
              "      <th>2</th>\n",
              "    </tr>\n",
              "    <tr>\n",
              "      <th>VB11007</th>\n",
              "      <th></th>\n",
              "      <th></th>\n",
              "    </tr>\n",
              "  </thead>\n",
              "  <tbody>\n",
              "    <tr>\n",
              "      <th>1</th>\n",
              "      <td>2682</td>\n",
              "      <td>1926</td>\n",
              "    </tr>\n",
              "    <tr>\n",
              "      <th>2</th>\n",
              "      <td>3490</td>\n",
              "      <td>3430</td>\n",
              "    </tr>\n",
              "    <tr>\n",
              "      <th>3</th>\n",
              "      <td>950</td>\n",
              "      <td>857</td>\n",
              "    </tr>\n",
              "    <tr>\n",
              "      <th>4</th>\n",
              "      <td>786</td>\n",
              "      <td>1540</td>\n",
              "    </tr>\n",
              "    <tr>\n",
              "      <th>5</th>\n",
              "      <td>260</td>\n",
              "      <td>454</td>\n",
              "    </tr>\n",
              "    <tr>\n",
              "      <th>99</th>\n",
              "      <td>119</td>\n",
              "      <td>62</td>\n",
              "    </tr>\n",
              "  </tbody>\n",
              "</table>\n",
              "</div>"
            ],
            "text/plain": [
              "VB01001     1     2\n",
              "VB11007            \n",
              "1        2682  1926\n",
              "2        3490  3430\n",
              "3         950   857\n",
              "4         786  1540\n",
              "5         260   454\n",
              "99        119    62"
            ]
          },
          "metadata": {
            "tags": []
          },
          "execution_count": 17
        }
      ]
    },
    {
      "cell_type": "code",
      "metadata": {
        "id": "GbnWiHu1Z3NI"
      },
      "source": [
        "respostas = {\r\n",
        "    1: \"Muito satisfeito\",\r\n",
        "    2: \"Satisfeito\",\r\n",
        "    3: \"Indiferente\",\r\n",
        "    4: \"Insatisfeito\",\r\n",
        "    5: \"Muito instisfeito\",\r\n",
        "    99: \"Não Informado\"}"
      ],
      "execution_count": 18,
      "outputs": []
    },
    {
      "cell_type": "code",
      "metadata": {
        "colab": {
          "base_uri": "https://localhost:8080/",
          "height": 266
        },
        "id": "V2nK-VdFOWvz",
        "outputId": "9a0cbfa3-1741-4e06-d23c-7c2a6e26836a"
      },
      "source": [
        "frequencia_cruzada = pd.crosstab(dados[\"VB11007\"], dados[\"VB01001\"])\r\n",
        "frequencia_cruzada.rename(index = respostas, inplace = True)\r\n",
        "frequencia_cruzada.rename(columns = {1: \"Masculino\", 2: \"Feminino\"}, inplace = True)\r\n",
        "frequencia_cruzada"
      ],
      "execution_count": 19,
      "outputs": [
        {
          "output_type": "execute_result",
          "data": {
            "text/html": [
              "<div>\n",
              "<style scoped>\n",
              "    .dataframe tbody tr th:only-of-type {\n",
              "        vertical-align: middle;\n",
              "    }\n",
              "\n",
              "    .dataframe tbody tr th {\n",
              "        vertical-align: top;\n",
              "    }\n",
              "\n",
              "    .dataframe thead th {\n",
              "        text-align: right;\n",
              "    }\n",
              "</style>\n",
              "<table border=\"1\" class=\"dataframe\">\n",
              "  <thead>\n",
              "    <tr style=\"text-align: right;\">\n",
              "      <th>VB01001</th>\n",
              "      <th>Masculino</th>\n",
              "      <th>Feminino</th>\n",
              "    </tr>\n",
              "    <tr>\n",
              "      <th>VB11007</th>\n",
              "      <th></th>\n",
              "      <th></th>\n",
              "    </tr>\n",
              "  </thead>\n",
              "  <tbody>\n",
              "    <tr>\n",
              "      <th>Muito satisfeito</th>\n",
              "      <td>2682</td>\n",
              "      <td>1926</td>\n",
              "    </tr>\n",
              "    <tr>\n",
              "      <th>Satisfeito</th>\n",
              "      <td>3490</td>\n",
              "      <td>3430</td>\n",
              "    </tr>\n",
              "    <tr>\n",
              "      <th>Indiferente</th>\n",
              "      <td>950</td>\n",
              "      <td>857</td>\n",
              "    </tr>\n",
              "    <tr>\n",
              "      <th>Insatisfeito</th>\n",
              "      <td>786</td>\n",
              "      <td>1540</td>\n",
              "    </tr>\n",
              "    <tr>\n",
              "      <th>Muito instisfeito</th>\n",
              "      <td>260</td>\n",
              "      <td>454</td>\n",
              "    </tr>\n",
              "    <tr>\n",
              "      <th>Não Informado</th>\n",
              "      <td>119</td>\n",
              "      <td>62</td>\n",
              "    </tr>\n",
              "  </tbody>\n",
              "</table>\n",
              "</div>"
            ],
            "text/plain": [
              "VB01001            Masculino  Feminino\n",
              "VB11007                               \n",
              "Muito satisfeito        2682      1926\n",
              "Satisfeito              3490      3430\n",
              "Indiferente              950       857\n",
              "Insatisfeito             786      1540\n",
              "Muito instisfeito        260       454\n",
              "Não Informado            119        62"
            ]
          },
          "metadata": {
            "tags": []
          },
          "execution_count": 19
        }
      ]
    },
    {
      "cell_type": "code",
      "metadata": {
        "colab": {
          "base_uri": "https://localhost:8080/",
          "height": 266
        },
        "id": "6FOb__e5cnQu",
        "outputId": "e7cb99c1-0348-42e3-b6ca-581e5ab48b81"
      },
      "source": [
        "frequencia_cruzada = pd.crosstab(dados[\"VB11007\"], dados[\"VB01001\"], normalize = True)\r\n",
        "frequencia_cruzada.rename(index = respostas, inplace = True)\r\n",
        "frequencia_cruzada.rename(columns = {1: \"Masculino\", 2: \"Feminino\"}, inplace = True)\r\n",
        "frequencia_cruzada"
      ],
      "execution_count": 20,
      "outputs": [
        {
          "output_type": "execute_result",
          "data": {
            "text/html": [
              "<div>\n",
              "<style scoped>\n",
              "    .dataframe tbody tr th:only-of-type {\n",
              "        vertical-align: middle;\n",
              "    }\n",
              "\n",
              "    .dataframe tbody tr th {\n",
              "        vertical-align: top;\n",
              "    }\n",
              "\n",
              "    .dataframe thead th {\n",
              "        text-align: right;\n",
              "    }\n",
              "</style>\n",
              "<table border=\"1\" class=\"dataframe\">\n",
              "  <thead>\n",
              "    <tr style=\"text-align: right;\">\n",
              "      <th>VB01001</th>\n",
              "      <th>Masculino</th>\n",
              "      <th>Feminino</th>\n",
              "    </tr>\n",
              "    <tr>\n",
              "      <th>VB11007</th>\n",
              "      <th></th>\n",
              "      <th></th>\n",
              "    </tr>\n",
              "  </thead>\n",
              "  <tbody>\n",
              "    <tr>\n",
              "      <th>Muito satisfeito</th>\n",
              "      <td>0.161996</td>\n",
              "      <td>0.116332</td>\n",
              "    </tr>\n",
              "    <tr>\n",
              "      <th>Satisfeito</th>\n",
              "      <td>0.210800</td>\n",
              "      <td>0.207176</td>\n",
              "    </tr>\n",
              "    <tr>\n",
              "      <th>Indiferente</th>\n",
              "      <td>0.057381</td>\n",
              "      <td>0.051764</td>\n",
              "    </tr>\n",
              "    <tr>\n",
              "      <th>Insatisfeito</th>\n",
              "      <td>0.047475</td>\n",
              "      <td>0.093018</td>\n",
              "    </tr>\n",
              "    <tr>\n",
              "      <th>Muito instisfeito</th>\n",
              "      <td>0.015704</td>\n",
              "      <td>0.027422</td>\n",
              "    </tr>\n",
              "    <tr>\n",
              "      <th>Não Informado</th>\n",
              "      <td>0.007188</td>\n",
              "      <td>0.003745</td>\n",
              "    </tr>\n",
              "  </tbody>\n",
              "</table>\n",
              "</div>"
            ],
            "text/plain": [
              "VB01001            Masculino  Feminino\n",
              "VB11007                               \n",
              "Muito satisfeito    0.161996  0.116332\n",
              "Satisfeito          0.210800  0.207176\n",
              "Indiferente         0.057381  0.051764\n",
              "Insatisfeito        0.047475  0.093018\n",
              "Muito instisfeito   0.015704  0.027422\n",
              "Não Informado       0.007188  0.003745"
            ]
          },
          "metadata": {
            "tags": []
          },
          "execution_count": 20
        }
      ]
    },
    {
      "cell_type": "code",
      "metadata": {
        "colab": {
          "base_uri": "https://localhost:8080/",
          "height": 266
        },
        "id": "xS0vOOD2ctzo",
        "outputId": "c3d9eae1-9ce3-4cee-ae3a-35d671a61422"
      },
      "source": [
        "frequencia_cruzada = pd.crosstab(dados[\"VB11007\"], dados[\"VB01001\"], normalize = \"columns\") * 100\r\n",
        "frequencia_cruzada.rename(index = respostas, inplace = True)\r\n",
        "frequencia_cruzada.rename(columns = {1: \"Masculino\", 2: \"Feminino\"}, inplace = True)\r\n",
        "frequencia_cruzada"
      ],
      "execution_count": 21,
      "outputs": [
        {
          "output_type": "execute_result",
          "data": {
            "text/html": [
              "<div>\n",
              "<style scoped>\n",
              "    .dataframe tbody tr th:only-of-type {\n",
              "        vertical-align: middle;\n",
              "    }\n",
              "\n",
              "    .dataframe tbody tr th {\n",
              "        vertical-align: top;\n",
              "    }\n",
              "\n",
              "    .dataframe thead th {\n",
              "        text-align: right;\n",
              "    }\n",
              "</style>\n",
              "<table border=\"1\" class=\"dataframe\">\n",
              "  <thead>\n",
              "    <tr style=\"text-align: right;\">\n",
              "      <th>VB01001</th>\n",
              "      <th>Masculino</th>\n",
              "      <th>Feminino</th>\n",
              "    </tr>\n",
              "    <tr>\n",
              "      <th>VB11007</th>\n",
              "      <th></th>\n",
              "      <th></th>\n",
              "    </tr>\n",
              "  </thead>\n",
              "  <tbody>\n",
              "    <tr>\n",
              "      <th>Muito satisfeito</th>\n",
              "      <td>32.363944</td>\n",
              "      <td>23.291813</td>\n",
              "    </tr>\n",
              "    <tr>\n",
              "      <th>Satisfeito</th>\n",
              "      <td>42.114155</td>\n",
              "      <td>41.480227</td>\n",
              "    </tr>\n",
              "    <tr>\n",
              "      <th>Indiferente</th>\n",
              "      <td>11.463738</td>\n",
              "      <td>10.364010</td>\n",
              "    </tr>\n",
              "    <tr>\n",
              "      <th>Insatisfeito</th>\n",
              "      <td>9.484735</td>\n",
              "      <td>18.623776</td>\n",
              "    </tr>\n",
              "    <tr>\n",
              "      <th>Muito instisfeito</th>\n",
              "      <td>3.137444</td>\n",
              "      <td>5.490386</td>\n",
              "    </tr>\n",
              "    <tr>\n",
              "      <th>Não Informado</th>\n",
              "      <td>1.435984</td>\n",
              "      <td>0.749788</td>\n",
              "    </tr>\n",
              "  </tbody>\n",
              "</table>\n",
              "</div>"
            ],
            "text/plain": [
              "VB01001            Masculino   Feminino\n",
              "VB11007                                \n",
              "Muito satisfeito   32.363944  23.291813\n",
              "Satisfeito         42.114155  41.480227\n",
              "Indiferente        11.463738  10.364010\n",
              "Insatisfeito        9.484735  18.623776\n",
              "Muito instisfeito   3.137444   5.490386\n",
              "Não Informado       1.435984   0.749788"
            ]
          },
          "metadata": {
            "tags": []
          },
          "execution_count": 21
        }
      ]
    },
    {
      "cell_type": "code",
      "metadata": {
        "colab": {
          "base_uri": "https://localhost:8080/",
          "height": 266
        },
        "id": "E61N2G3xcySP",
        "outputId": "b358aef7-6cb0-4e26-bb8e-0700af63b10a"
      },
      "source": [
        "frequencia_cruzada = pd.crosstab(dados[\"VB11007\"], dados[\"VB01001\"], normalize = \"index\") * 100\r\n",
        "frequencia_cruzada.rename(index = respostas, inplace = True)\r\n",
        "frequencia_cruzada.rename(columns = {1: \"Masculino\", 2: \"Feminino\"}, inplace = True)\r\n",
        "frequencia_cruzada"
      ],
      "execution_count": 22,
      "outputs": [
        {
          "output_type": "execute_result",
          "data": {
            "text/html": [
              "<div>\n",
              "<style scoped>\n",
              "    .dataframe tbody tr th:only-of-type {\n",
              "        vertical-align: middle;\n",
              "    }\n",
              "\n",
              "    .dataframe tbody tr th {\n",
              "        vertical-align: top;\n",
              "    }\n",
              "\n",
              "    .dataframe thead th {\n",
              "        text-align: right;\n",
              "    }\n",
              "</style>\n",
              "<table border=\"1\" class=\"dataframe\">\n",
              "  <thead>\n",
              "    <tr style=\"text-align: right;\">\n",
              "      <th>VB01001</th>\n",
              "      <th>Masculino</th>\n",
              "      <th>Feminino</th>\n",
              "    </tr>\n",
              "    <tr>\n",
              "      <th>VB11007</th>\n",
              "      <th></th>\n",
              "      <th></th>\n",
              "    </tr>\n",
              "  </thead>\n",
              "  <tbody>\n",
              "    <tr>\n",
              "      <th>Muito satisfeito</th>\n",
              "      <td>58.203125</td>\n",
              "      <td>41.796875</td>\n",
              "    </tr>\n",
              "    <tr>\n",
              "      <th>Satisfeito</th>\n",
              "      <td>50.433526</td>\n",
              "      <td>49.566474</td>\n",
              "    </tr>\n",
              "    <tr>\n",
              "      <th>Indiferente</th>\n",
              "      <td>52.573326</td>\n",
              "      <td>47.426674</td>\n",
              "    </tr>\n",
              "    <tr>\n",
              "      <th>Insatisfeito</th>\n",
              "      <td>33.791917</td>\n",
              "      <td>66.208083</td>\n",
              "    </tr>\n",
              "    <tr>\n",
              "      <th>Muito instisfeito</th>\n",
              "      <td>36.414566</td>\n",
              "      <td>63.585434</td>\n",
              "    </tr>\n",
              "    <tr>\n",
              "      <th>Não Informado</th>\n",
              "      <td>65.745856</td>\n",
              "      <td>34.254144</td>\n",
              "    </tr>\n",
              "  </tbody>\n",
              "</table>\n",
              "</div>"
            ],
            "text/plain": [
              "VB01001            Masculino   Feminino\n",
              "VB11007                                \n",
              "Muito satisfeito   58.203125  41.796875\n",
              "Satisfeito         50.433526  49.566474\n",
              "Indiferente        52.573326  47.426674\n",
              "Insatisfeito       33.791917  66.208083\n",
              "Muito instisfeito  36.414566  63.585434\n",
              "Não Informado      65.745856  34.254144"
            ]
          },
          "metadata": {
            "tags": []
          },
          "execution_count": 22
        }
      ]
    },
    {
      "cell_type": "code",
      "metadata": {
        "colab": {
          "base_uri": "https://localhost:8080/",
          "height": 404
        },
        "id": "jGfVdovGye8_",
        "outputId": "7b653498-2187-46f2-bc94-9643573aee28"
      },
      "source": [
        "ax = sns.histplot(data=dados, x=dados['VB17004'])\r\n",
        "ax.figure.set_size_inches(12,6)\r\n",
        "ax.set_title(\"Distribuição de frequência\")\r\n",
        "ax.set_xlabel(\"Altura\")\r\n",
        "ax;"
      ],
      "execution_count": 23,
      "outputs": [
        {
          "output_type": "display_data",
          "data": {
            "image/png": "[encoded data removed]",
            "text/plain": [
              "<Figure size 864x432 with 1 Axes>"
            ]
          },
          "metadata": {
            "tags": [],
            "needs_background": "light"
          }
        }
      ]
    },
    {
      "cell_type": "code",
      "metadata": {
        "colab": {
          "base_uri": "https://localhost:8080/",
          "height": 404
        },
        "id": "gJowIysgyeyc",
        "outputId": "4e42aa02-cd38-4e18-df06-55a1ca9bed80"
      },
      "source": [
        "ax = sns.histplot(data=dados, x='VB17004', hue='VB01001', kde=True)\r\n",
        "ax.figure.set_size_inches(12,6)\r\n",
        "ax.set_title(\"Distribuição de frequência\")\r\n",
        "ax.set_xlabel(\"Altura\")\r\n",
        "ax;"
      ],
      "execution_count": 24,
      "outputs": [
        {
          "output_type": "display_data",
          "data": {
            "image/png": "[encoded data removed]",
            "text/plain": [
              "<Figure size 864x432 with 1 Axes>"
            ]
          },
          "metadata": {
            "tags": [],
            "needs_background": "light"
          }
        }
      ]
    },
    {
      "cell_type": "code",
      "metadata": {
        "colab": {
          "base_uri": "https://localhost:8080/",
          "height": 458
        },
        "id": "q6wDKTuiyenG",
        "outputId": "ac68e6dc-7e19-4fcb-8133-5bebc01e7f5e"
      },
      "source": [
        "ax = sns.boxplot(dados[\"VB17004\"])\r\n",
        "ax.figure.set_size_inches(12, 6)\r\n",
        "ax.set_title(\"Boxplot da altura\")\r\n",
        "ax.set_xlabel(\"Altura\")\r\n",
        "ax;"
      ],
      "execution_count": 25,
      "outputs": [
        {
          "output_type": "stream",
          "text": [
            "/usr/local/lib/python3.6/dist-packages/seaborn/_decorators.py:43: FutureWarning: Pass the following variable as a keyword arg: x. From version 0.12, the only valid positional argument will be `data`, and passing other arguments without an explicit keyword will result in an error or misinterpretation.\n",
            "  FutureWarning\n"
          ],
          "name": "stderr"
        },
        {
          "output_type": "display_data",
          "data": {
            "image/png": "[encoded data removed]",
            "text/plain": [
              "<Figure size 864x432 with 1 Axes>"
            ]
          },
          "metadata": {
            "tags": [],
            "needs_background": "light"
          }
        }
      ]
    },
    {
      "cell_type": "code",
      "metadata": {
        "colab": {
          "base_uri": "https://localhost:8080/"
        },
        "id": "VFKRDi1tyecD",
        "outputId": "011bbc59-1dcb-4a71-d612-121146c906a0"
      },
      "source": [
        "dados[\"VB17004\"].quantile(0.25)"
      ],
      "execution_count": 26,
      "outputs": [
        {
          "output_type": "execute_result",
          "data": {
            "text/plain": [
              "153.8"
            ]
          },
          "metadata": {
            "tags": []
          },
          "execution_count": 26
        }
      ]
    },
    {
      "cell_type": "code",
      "metadata": {
        "colab": {
          "base_uri": "https://localhost:8080/"
        },
        "id": "oV018DBXyeNM",
        "outputId": "c5baa0dc-1248-4ec3-c214-4a7f3fa23580"
      },
      "source": [
        "dados[\"VB17004\"].quantile(0.5)"
      ],
      "execution_count": 27,
      "outputs": [
        {
          "output_type": "execute_result",
          "data": {
            "text/plain": [
              "160.4"
            ]
          },
          "metadata": {
            "tags": []
          },
          "execution_count": 27
        }
      ]
    },
    {
      "cell_type": "code",
      "metadata": {
        "colab": {
          "base_uri": "https://localhost:8080/"
        },
        "id": "dSFHr0UVoTg1",
        "outputId": "a559c8e0-74ef-4dab-9bed-109d60d44178"
      },
      "source": [
        "dados[\"VB17004\"].quantile(0.75)"
      ],
      "execution_count": 28,
      "outputs": [
        {
          "output_type": "execute_result",
          "data": {
            "text/plain": [
              "167.9"
            ]
          },
          "metadata": {
            "tags": []
          },
          "execution_count": 28
        }
      ]
    },
    {
      "cell_type": "code",
      "metadata": {
        "colab": {
          "base_uri": "https://localhost:8080/"
        },
        "id": "cJ9x9MAYoTsZ",
        "outputId": "17d027a2-5d71-49cb-8798-e8639afa1aea"
      },
      "source": [
        "dados[\"VB17004\"].min()"
      ],
      "execution_count": 29,
      "outputs": [
        {
          "output_type": "execute_result",
          "data": {
            "text/plain": [
              "124.1"
            ]
          },
          "metadata": {
            "tags": []
          },
          "execution_count": 29
        }
      ]
    },
    {
      "cell_type": "code",
      "metadata": {
        "colab": {
          "base_uri": "https://localhost:8080/"
        },
        "id": "4zpQE1KhoT29",
        "outputId": "2321267b-bdb5-425d-a2ab-c3957e10f9d4"
      },
      "source": [
        "dados[\"VB17004\"].max()"
      ],
      "execution_count": 30,
      "outputs": [
        {
          "output_type": "execute_result",
          "data": {
            "text/plain": [
              "195.3"
            ]
          },
          "metadata": {
            "tags": []
          },
          "execution_count": 30
        }
      ]
    },
    {
      "cell_type": "code",
      "metadata": {
        "colab": {
          "base_uri": "https://localhost:8080/",
          "height": 404
        },
        "id": "FWfwmkBuoT-G",
        "outputId": "974f4e3d-d6e8-4702-8950-4ac642bca464"
      },
      "source": [
        "ax = sns.boxplot(x = \"VB17004\", data = dados)\r\n",
        "ax.figure.set_size_inches(12, 6)\r\n",
        "ax.set_title(\"Boxplot da altura\")\r\n",
        "ax.set_xlabel(\"Altura\")\r\n",
        "ax;"
      ],
      "execution_count": 31,
      "outputs": [
        {
          "output_type": "display_data",
          "data": {
            "image/png": "[encoded data removed]",
            "text/plain": [
              "<Figure size 864x432 with 1 Axes>"
            ]
          },
          "metadata": {
            "tags": [],
            "needs_background": "light"
          }
        }
      ]
    },
    {
      "cell_type": "code",
      "metadata": {
        "colab": {
          "base_uri": "https://localhost:8080/",
          "height": 404
        },
        "id": "0NuJQoU3oUGw",
        "outputId": "d3338cca-bc2e-4851-9ed8-2db4d52e1bcb"
      },
      "source": [
        "ax = sns.boxplot(x = \"VB17004\", y=\"VB01001\", data = dados, orient = \"h\")\r\n",
        "ax.figure.set_size_inches(12, 6)\r\n",
        "ax.set_title(\"Boxplot da altura\")\r\n",
        "ax.set_xlabel(\"Altura\")\r\n",
        "ax;"
      ],
      "execution_count": 32,
      "outputs": [
        {
          "output_type": "display_data",
          "data": {
            "image/png": "[encoded data removed]",
            "text/plain": [
              "<Figure size 864x432 with 1 Axes>"
            ]
          },
          "metadata": {
            "tags": [],
            "needs_background": "light"
          }
        }
      ]
    },
    {
      "cell_type": "code",
      "metadata": {
        "colab": {
          "base_uri": "https://localhost:8080/",
          "height": 404
        },
        "id": "VmznNsBToUNl",
        "outputId": "eed13e35-250e-4e5f-ba51-b1b33e2eda1e"
      },
      "source": [
        "ax = sns.boxplot(x = \"VB01003\", y = \"VB17004\", data = dados)\r\n",
        "ax.figure.set_size_inches(12, 6)\r\n",
        "ax.set_title(\"Boxplot da altura por Idade\")\r\n",
        "ax.set_xlabel(\"Altura\")\r\n",
        "ax;"
      ],
      "execution_count": 33,
      "outputs": [
        {
          "output_type": "display_data",
          "data": {
            "image/png": "[encoded data removed]",
            "text/plain": [
              "<Figure size 864x432 with 1 Axes>"
            ]
          },
          "metadata": {
            "tags": [],
            "needs_background": "light"
          }
        }
      ]
    },
    {
      "cell_type": "code",
      "metadata": {
        "colab": {
          "base_uri": "https://localhost:8080/",
          "height": 404
        },
        "id": "iFZhovMdoUTt",
        "outputId": "bc7fd8c7-44c4-4799-b036-72f2f7b9825e"
      },
      "source": [
        "ax = sns.boxplot(x = \"VB01003\", y = \"VB17004\", hue = \"VB01001\", data = dados)\r\n",
        "ax.figure.set_size_inches(12, 6)\r\n",
        "ax.set_title(\"Boxplot da altura por Idade\")\r\n",
        "ax.set_ylabel(\"Altura\")\r\n",
        "ax.set_xlabel(\"Idade\")\r\n",
        "ax;"
      ],
      "execution_count": 34,
      "outputs": [
        {
          "output_type": "display_data",
          "data": {
            "image/png": "[encoded data removed]",
            "text/plain": [
              "<Figure size 864x432 with 1 Axes>"
            ]
          },
          "metadata": {
            "tags": [],
            "needs_background": "light"
          }
        }
      ]
    },
    {
      "cell_type": "code",
      "metadata": {
        "colab": {
          "base_uri": "https://localhost:8080/",
          "height": 404
        },
        "id": "K5nV7MxXoxs8",
        "outputId": "c9128735-7a20-4b7a-f4d4-6b0a492bb730"
      },
      "source": [
        "ax = sns.histplot(x = \"VB17004\", data = dados, \r\n",
        "                  kde = True, \r\n",
        "                  cumulative = True,\r\n",
        "                  stat = \"density\",\r\n",
        "                  bins= 5)\r\n",
        "ax.figure.set_size_inches(12, 6)\r\n",
        "ax.set_title(\"Histograma Acumulado\")\r\n",
        "ax.set_xlabel(\"Altura\")\r\n",
        "ax;"
      ],
      "execution_count": 35,
      "outputs": [
        {
          "output_type": "display_data",
          "data": {
            "image/png": "[encoded data removed]",
            "text/plain": [
              "<Figure size 864x432 with 1 Axes>"
            ]
          },
          "metadata": {
            "tags": [],
            "needs_background": "light"
          }
        }
      ]
    },
    {
      "cell_type": "code",
      "metadata": {
        "colab": {
          "base_uri": "https://localhost:8080/"
        },
        "id": "4uimcyRqox7q",
        "outputId": "242b47c3-05fa-43b2-b18c-1967afa03029"
      },
      "source": [
        "dados.groupby(\"VB01001\")[\"VB17004\"].mean()"
      ],
      "execution_count": 37,
      "outputs": [
        {
          "output_type": "execute_result",
          "data": {
            "text/plain": [
              "VB01001\n",
              "1    163.860758\n",
              "2    157.558617\n",
              "Name: VB17004, dtype: float64"
            ]
          },
          "metadata": {
            "tags": []
          },
          "execution_count": 37
        }
      ]
    },
    {
      "cell_type": "code",
      "metadata": {
        "id": "5mcFU73EoyD9",
        "colab": {
          "base_uri": "https://localhost:8080/"
        },
        "outputId": "c1a58e63-971c-4f0d-aa22-7b6dce41056b"
      },
      "source": [
        "dados[\"VB17004\"].mode()"
      ],
      "execution_count": 39,
      "outputs": [
        {
          "output_type": "execute_result",
          "data": {
            "text/plain": [
              "0    160.0\n",
              "dtype: float64"
            ]
          },
          "metadata": {
            "tags": []
          },
          "execution_count": 39
        }
      ]
    },
    {
      "cell_type": "code",
      "metadata": {
        "id": "wiQ6TYLCoyOX",
        "colab": {
          "base_uri": "https://localhost:8080/"
        },
        "outputId": "564c32e9-9622-4521-97a9-c4bd7f3f077c"
      },
      "source": [
        "dados.groupby([\"VB01001\", \"VB01003\"])[\"VB17004\"].mean()"
      ],
      "execution_count": 40,
      "outputs": [
        {
          "output_type": "execute_result",
          "data": {
            "text/plain": [
              "VB01001  VB01003\n",
              "1        11         147.617753\n",
              "         12         153.696764\n",
              "         13         160.719801\n",
              "         14         166.406922\n",
              "         15         170.336297\n",
              "         16         172.424933\n",
              "         17         173.814341\n",
              "         18         173.024561\n",
              "         19         172.143158\n",
              "2        11         149.522512\n",
              "         12         154.965021\n",
              "         13         157.673105\n",
              "         14         159.340320\n",
              "         15         160.759848\n",
              "         16         160.386527\n",
              "         17         160.907937\n",
              "         18         159.438462\n",
              "         19         158.977193\n",
              "Name: VB17004, dtype: float64"
            ]
          },
          "metadata": {
            "tags": []
          },
          "execution_count": 40
        }
      ]
    },
    {
      "cell_type": "code",
      "metadata": {
        "id": "cClDVObJoyXk"
      },
      "source": [
        ""
      ],
      "execution_count": null,
      "outputs": []
    },
    {
      "cell_type": "markdown",
      "metadata": {
        "id": "O7_gzsvy9Zk1"
      },
      "source": [
        "## Desafio 01: Descompactar a pasta zipada usando outro método (Dica Allan, é utilizar comandos Bash).\n"
      ]
    },
    {
      "cell_type": "code",
      "metadata": {
        "id": "vn-CRmNw9Q2D"
      },
      "source": [
        "#!unzip /content/drive/MyDrive/PENSE_2015/PeNSE_2015_AMOSTRA2.zip -d /content/drive/MyDrive/PENSE_2015/"
      ],
      "execution_count": 41,
      "outputs": []
    },
    {
      "cell_type": "code",
      "metadata": {
        "id": "q-lNg5ea_N0l"
      },
      "source": [
        "# dados_teste = pd.read_csv('/content/drive/MyDrive/PENSE_2015/arquivos csv/PENSE_AMOSTRA2_ALUNO.CSV', sep=';')\n",
        "# dados_teste.head()"
      ],
      "execution_count": 42,
      "outputs": []
    },
    {
      "cell_type": "markdown",
      "metadata": {
        "id": "FXbLG0KQ9ZQu"
      },
      "source": [
        "## Desafio 02: Estudar sobre a base de dados que vamos trabalhar.\n",
        "\n",
        "video sugerido no Discord: \n",
        "\n",
        "fonte: https://www.youtube.com/watch?v=z4BBCHZUvD4"
      ]
    },
    {
      "cell_type": "markdown",
      "metadata": {
        "id": "H1-nvMZ4_4OU"
      },
      "source": [
        "## Desafio 03 - Classificar algumas perguntas como QualitativaXQuantitativa"
      ]
    },
    {
      "cell_type": "code",
      "metadata": {
        "id": "rGrX1AjBC2LX"
      },
      "source": [
        "# colunas = (np.random.rand(15)*100).round().astype('int64')\n",
        "# colunas"
      ],
      "execution_count": 43,
      "outputs": []
    },
    {
      "cell_type": "code",
      "metadata": {
        "id": "jw6Samhgxsso"
      },
      "source": [
        "colunas = [85, 18,  5, 36, 28, 53, 31, 30, 11, 25, 92, 26, 72, 87, 81]"
      ],
      "execution_count": 44,
      "outputs": []
    },
    {
      "cell_type": "code",
      "metadata": {
        "colab": {
          "base_uri": "https://localhost:8080/",
          "height": 0
        },
        "id": "CvplqJKP_8Do",
        "outputId": "9c664ea6-0bd4-45ff-fef4-103956921da9"
      },
      "source": [
        "desafio_3 = pd.read_csv(zip.open(acesso_pasta_zipada),sep=';', thousands='.', decimal=',', usecols=colunas)\n",
        "desafio_3.head()"
      ],
      "execution_count": 45,
      "outputs": [
        {
          "output_type": "execute_result",
          "data": {
            "text/html": [
              "<div>\n",
              "<style scoped>\n",
              "    .dataframe tbody tr th:only-of-type {\n",
              "        vertical-align: middle;\n",
              "    }\n",
              "\n",
              "    .dataframe tbody tr th {\n",
              "        vertical-align: top;\n",
              "    }\n",
              "\n",
              "    .dataframe thead th {\n",
              "        text-align: right;\n",
              "    }\n",
              "</style>\n",
              "<table border=\"1\" class=\"dataframe\">\n",
              "  <thead>\n",
              "    <tr style=\"text-align: right;\">\n",
              "      <th></th>\n",
              "      <th>VB01002</th>\n",
              "      <th>VB01008A</th>\n",
              "      <th>VB01016</th>\n",
              "      <th>VB01023</th>\n",
              "      <th>VB01024</th>\n",
              "      <th>VB01026</th>\n",
              "      <th>VB02002</th>\n",
              "      <th>VB02004A</th>\n",
              "      <th>VB02018A</th>\n",
              "      <th>VB03007</th>\n",
              "      <th>VB05002</th>\n",
              "      <th>VB06002</th>\n",
              "      <th>VB06006</th>\n",
              "      <th>VB07002</th>\n",
              "      <th>VB07007</th>\n",
              "    </tr>\n",
              "  </thead>\n",
              "  <tbody>\n",
              "    <tr>\n",
              "      <th>0</th>\n",
              "      <td>1</td>\n",
              "      <td>7</td>\n",
              "      <td>1</td>\n",
              "      <td>2</td>\n",
              "      <td>2</td>\n",
              "      <td>1</td>\n",
              "      <td>3</td>\n",
              "      <td>4</td>\n",
              "      <td>6</td>\n",
              "      <td>1</td>\n",
              "      <td>2</td>\n",
              "      <td>-1</td>\n",
              "      <td>1</td>\n",
              "      <td>5</td>\n",
              "      <td>1</td>\n",
              "    </tr>\n",
              "    <tr>\n",
              "      <th>1</th>\n",
              "      <td>1</td>\n",
              "      <td>7</td>\n",
              "      <td>1</td>\n",
              "      <td>2</td>\n",
              "      <td>2</td>\n",
              "      <td>3</td>\n",
              "      <td>2</td>\n",
              "      <td>1</td>\n",
              "      <td>1</td>\n",
              "      <td>7</td>\n",
              "      <td>2</td>\n",
              "      <td>-1</td>\n",
              "      <td>1</td>\n",
              "      <td>5</td>\n",
              "      <td>1</td>\n",
              "    </tr>\n",
              "    <tr>\n",
              "      <th>2</th>\n",
              "      <td>4</td>\n",
              "      <td>5</td>\n",
              "      <td>1</td>\n",
              "      <td>2</td>\n",
              "      <td>2</td>\n",
              "      <td>3</td>\n",
              "      <td>3</td>\n",
              "      <td>1</td>\n",
              "      <td>1</td>\n",
              "      <td>7</td>\n",
              "      <td>1</td>\n",
              "      <td>-1</td>\n",
              "      <td>1</td>\n",
              "      <td>5</td>\n",
              "      <td>2</td>\n",
              "    </tr>\n",
              "    <tr>\n",
              "      <th>3</th>\n",
              "      <td>1</td>\n",
              "      <td>7</td>\n",
              "      <td>1</td>\n",
              "      <td>2</td>\n",
              "      <td>2</td>\n",
              "      <td>3</td>\n",
              "      <td>4</td>\n",
              "      <td>1</td>\n",
              "      <td>5</td>\n",
              "      <td>-1</td>\n",
              "      <td>2</td>\n",
              "      <td>-1</td>\n",
              "      <td>1</td>\n",
              "      <td>4</td>\n",
              "      <td>1</td>\n",
              "    </tr>\n",
              "    <tr>\n",
              "      <th>4</th>\n",
              "      <td>1</td>\n",
              "      <td>5</td>\n",
              "      <td>1</td>\n",
              "      <td>2</td>\n",
              "      <td>2</td>\n",
              "      <td>5</td>\n",
              "      <td>3</td>\n",
              "      <td>5</td>\n",
              "      <td>5</td>\n",
              "      <td>5</td>\n",
              "      <td>1</td>\n",
              "      <td>-1</td>\n",
              "      <td>2</td>\n",
              "      <td>4</td>\n",
              "      <td>2</td>\n",
              "    </tr>\n",
              "  </tbody>\n",
              "</table>\n",
              "</div>"
            ],
            "text/plain": [
              "   VB01002  VB01008A  VB01016  VB01023  ...  VB06002  VB06006  VB07002  VB07007\n",
              "0        1         7        1        2  ...       -1        1        5        1\n",
              "1        1         7        1        2  ...       -1        1        5        1\n",
              "2        4         5        1        2  ...       -1        1        5        2\n",
              "3        1         7        1        2  ...       -1        1        4        1\n",
              "4        1         5        1        2  ...       -1        2        4        2\n",
              "\n",
              "[5 rows x 15 columns]"
            ]
          },
          "metadata": {
            "tags": []
          },
          "execution_count": 45
        }
      ]
    },
    {
      "cell_type": "code",
      "metadata": {
        "colab": {
          "base_uri": "https://localhost:8080/",
          "height": 0
        },
        "id": "eMV8SsgCALxF",
        "outputId": "c417bd7e-9a83-483a-d732-22b40b8a7953"
      },
      "source": [
        "colunas_desafio_3 = {'VB01002':'Qual é a sua cor ou raça?', \n",
        "                     'VB01008A':'Qual nível de ensino (grau) sua mãe estudou ou estuda?', \n",
        "                     'VB01016':'Você tem acesso à internet em sua casa?', \n",
        "                     'VB01023':'Você estuda em regime integral (tem atividades escolares por 7 horas ou mais horas diárias, durante todo o período escolar)?' , \n",
        "                     'VB01024':'Você estuda em regime de internato (a escola possui alojamento onde os alunos permanecem e dormem diariamente, durante todo o período escolar)?',\n",
        "                     'VB01026':'Quando terminar o ciclo/curso que você está frequentando atualmente, você pretende?',\n",
        "                     'VB02002':'NOS ÚLTIMOS 7 DIAS, em quantos dias você comeu salgados fritos? Exemplo: batata frita (sem contar a batata de pacote) ou salgados fritos como coxinha de galinha, quibe frito, pastel frito, acarajé etc.', \n",
        "                     'VB02004A':'NOS ÚLTIMOS 7 DIAS, em quantos dias você comeu pelo menos um tipo de legume ou verdura? Exemplos: alface, abóbora, brócolis, cebola, cenoura, chuchu, couve, espinafre, pepino, tomate etc. Não inclua batata e aipim (mandioca/macaxeira).', \n",
        "                     'VB02018A':'Você costuma comer quando está assistindo à TV ou estudando?', \n",
        "                     'VB03007':'NORMALMENTE, quanto tempo por dia duram essas atividades (como esportes, dança, ginástica, musculação, lutas ou outra atividade) que você faz? (Sem contar as aulas de educação física)', \n",
        "                     'VB05002':'Alguma vez na vida você tomou uma dose de bebida alcoólica? (Uma dose equivale a uma lata de cerveja ou uma taça de vinho ou uma dose de cachaça ou uísque etc)', \n",
        "                     'VB06002':'Que idade você tinha quando usou droga como maconha, cocaína, crack, cola, loló, lança-perfume, ecstasy, oxy ou outra, pela primeira vez?',\n",
        "                     'VB06006':'Quantos amigos seus usam drogas?', \n",
        "                     'VB07002':'NOS ÚLTIMOS 30 DIAS, com que frequência seus pais ou responsáveis sabiam realmente o que você estava fazendo em seu tempo livre?', \n",
        "                     'VB07007':'NOS ÚLTIMOS 30 DIAS, com que frequência algum dos seus colegas de escola te esculacharam, zoaram, mangaram, intimidaram ou caçoaram tanto que você ficou magoado, incomodado, aborrecido, ofendido ou humilhado?'\n",
        "                     }\n",
        "desafio_3 = desafio_3.rename(columns=colunas_desafio_3)\n",
        "desafio_3"
      ],
      "execution_count": 46,
      "outputs": [
        {
          "output_type": "execute_result",
          "data": {
            "text/html": [
              "<div>\n",
              "<style scoped>\n",
              "    .dataframe tbody tr th:only-of-type {\n",
              "        vertical-align: middle;\n",
              "    }\n",
              "\n",
              "    .dataframe tbody tr th {\n",
              "        vertical-align: top;\n",
              "    }\n",
              "\n",
              "    .dataframe thead th {\n",
              "        text-align: right;\n",
              "    }\n",
              "</style>\n",
              "<table border=\"1\" class=\"dataframe\">\n",
              "  <thead>\n",
              "    <tr style=\"text-align: right;\">\n",
              "      <th></th>\n",
              "      <th>Qual é a sua cor ou raça?</th>\n",
              "      <th>Qual nível de ensino (grau) sua mãe estudou ou estuda?</th>\n",
              "      <th>Você tem acesso à internet em sua casa?</th>\n",
              "      <th>Você estuda em regime integral (tem atividades escolares por 7 horas ou mais horas diárias, durante todo o período escolar)?</th>\n",
              "      <th>Você estuda em regime de internato (a escola possui alojamento onde os alunos permanecem e dormem diariamente, durante todo o período escolar)?</th>\n",
              "      <th>Quando terminar o ciclo/curso que você está frequentando atualmente, você pretende?</th>\n",
              "      <th>NOS ÚLTIMOS 7 DIAS, em quantos dias você comeu salgados fritos? Exemplo: batata frita (sem contar a batata de pacote) ou salgados fritos como coxinha de galinha, quibe frito, pastel frito, acarajé etc.</th>\n",
              "      <th>NOS ÚLTIMOS 7 DIAS, em quantos dias você comeu pelo menos um tipo de legume ou verdura? Exemplos: alface, abóbora, brócolis, cebola, cenoura, chuchu, couve, espinafre, pepino, tomate etc. Não inclua batata e aipim (mandioca/macaxeira).</th>\n",
              "      <th>Você costuma comer quando está assistindo à TV ou estudando?</th>\n",
              "      <th>NORMALMENTE, quanto tempo por dia duram essas atividades (como esportes, dança, ginástica, musculação, lutas ou outra atividade) que você faz? (Sem contar as aulas de educação física)</th>\n",
              "      <th>Alguma vez na vida você tomou uma dose de bebida alcoólica? (Uma dose equivale a uma lata de cerveja ou uma taça de vinho ou uma dose de cachaça ou uísque etc)</th>\n",
              "      <th>Que idade você tinha quando usou droga como maconha, cocaína, crack, cola, loló, lança-perfume, ecstasy, oxy ou outra, pela primeira vez?</th>\n",
              "      <th>Quantos amigos seus usam drogas?</th>\n",
              "      <th>NOS ÚLTIMOS 30 DIAS, com que frequência seus pais ou responsáveis sabiam realmente o que você estava fazendo em seu tempo livre?</th>\n",
              "      <th>NOS ÚLTIMOS 30 DIAS, com que frequência algum dos seus colegas de escola te esculacharam, zoaram, mangaram, intimidaram ou caçoaram tanto que você ficou magoado, incomodado, aborrecido, ofendido ou humilhado?</th>\n",
              "    </tr>\n",
              "  </thead>\n",
              "  <tbody>\n",
              "    <tr>\n",
              "      <th>0</th>\n",
              "      <td>1</td>\n",
              "      <td>7</td>\n",
              "      <td>1</td>\n",
              "      <td>2</td>\n",
              "      <td>2</td>\n",
              "      <td>1</td>\n",
              "      <td>3</td>\n",
              "      <td>4</td>\n",
              "      <td>6</td>\n",
              "      <td>1</td>\n",
              "      <td>2</td>\n",
              "      <td>-1</td>\n",
              "      <td>1</td>\n",
              "      <td>5</td>\n",
              "      <td>1</td>\n",
              "    </tr>\n",
              "    <tr>\n",
              "      <th>1</th>\n",
              "      <td>1</td>\n",
              "      <td>7</td>\n",
              "      <td>1</td>\n",
              "      <td>2</td>\n",
              "      <td>2</td>\n",
              "      <td>3</td>\n",
              "      <td>2</td>\n",
              "      <td>1</td>\n",
              "      <td>1</td>\n",
              "      <td>7</td>\n",
              "      <td>2</td>\n",
              "      <td>-1</td>\n",
              "      <td>1</td>\n",
              "      <td>5</td>\n",
              "      <td>1</td>\n",
              "    </tr>\n",
              "    <tr>\n",
              "      <th>2</th>\n",
              "      <td>4</td>\n",
              "      <td>5</td>\n",
              "      <td>1</td>\n",
              "      <td>2</td>\n",
              "      <td>2</td>\n",
              "      <td>3</td>\n",
              "      <td>3</td>\n",
              "      <td>1</td>\n",
              "      <td>1</td>\n",
              "      <td>7</td>\n",
              "      <td>1</td>\n",
              "      <td>-1</td>\n",
              "      <td>1</td>\n",
              "      <td>5</td>\n",
              "      <td>2</td>\n",
              "    </tr>\n",
              "    <tr>\n",
              "      <th>3</th>\n",
              "      <td>1</td>\n",
              "      <td>7</td>\n",
              "      <td>1</td>\n",
              "      <td>2</td>\n",
              "      <td>2</td>\n",
              "      <td>3</td>\n",
              "      <td>4</td>\n",
              "      <td>1</td>\n",
              "      <td>5</td>\n",
              "      <td>-1</td>\n",
              "      <td>2</td>\n",
              "      <td>-1</td>\n",
              "      <td>1</td>\n",
              "      <td>4</td>\n",
              "      <td>1</td>\n",
              "    </tr>\n",
              "    <tr>\n",
              "      <th>4</th>\n",
              "      <td>1</td>\n",
              "      <td>5</td>\n",
              "      <td>1</td>\n",
              "      <td>2</td>\n",
              "      <td>2</td>\n",
              "      <td>5</td>\n",
              "      <td>3</td>\n",
              "      <td>5</td>\n",
              "      <td>5</td>\n",
              "      <td>5</td>\n",
              "      <td>1</td>\n",
              "      <td>-1</td>\n",
              "      <td>2</td>\n",
              "      <td>4</td>\n",
              "      <td>2</td>\n",
              "    </tr>\n",
              "    <tr>\n",
              "      <th>...</th>\n",
              "      <td>...</td>\n",
              "      <td>...</td>\n",
              "      <td>...</td>\n",
              "      <td>...</td>\n",
              "      <td>...</td>\n",
              "      <td>...</td>\n",
              "      <td>...</td>\n",
              "      <td>...</td>\n",
              "      <td>...</td>\n",
              "      <td>...</td>\n",
              "      <td>...</td>\n",
              "      <td>...</td>\n",
              "      <td>...</td>\n",
              "      <td>...</td>\n",
              "      <td>...</td>\n",
              "    </tr>\n",
              "    <tr>\n",
              "      <th>16551</th>\n",
              "      <td>4</td>\n",
              "      <td>7</td>\n",
              "      <td>1</td>\n",
              "      <td>2</td>\n",
              "      <td>2</td>\n",
              "      <td>3</td>\n",
              "      <td>7</td>\n",
              "      <td>5</td>\n",
              "      <td>2</td>\n",
              "      <td>7</td>\n",
              "      <td>-1</td>\n",
              "      <td>-1</td>\n",
              "      <td>-1</td>\n",
              "      <td>5</td>\n",
              "      <td>3</td>\n",
              "    </tr>\n",
              "    <tr>\n",
              "      <th>16552</th>\n",
              "      <td>1</td>\n",
              "      <td>7</td>\n",
              "      <td>1</td>\n",
              "      <td>1</td>\n",
              "      <td>2</td>\n",
              "      <td>4</td>\n",
              "      <td>2</td>\n",
              "      <td>4</td>\n",
              "      <td>6</td>\n",
              "      <td>7</td>\n",
              "      <td>2</td>\n",
              "      <td>-1</td>\n",
              "      <td>1</td>\n",
              "      <td>5</td>\n",
              "      <td>1</td>\n",
              "    </tr>\n",
              "    <tr>\n",
              "      <th>16553</th>\n",
              "      <td>4</td>\n",
              "      <td>7</td>\n",
              "      <td>1</td>\n",
              "      <td>2</td>\n",
              "      <td>2</td>\n",
              "      <td>4</td>\n",
              "      <td>1</td>\n",
              "      <td>8</td>\n",
              "      <td>5</td>\n",
              "      <td>-1</td>\n",
              "      <td>2</td>\n",
              "      <td>-1</td>\n",
              "      <td>6</td>\n",
              "      <td>5</td>\n",
              "      <td>4</td>\n",
              "    </tr>\n",
              "    <tr>\n",
              "      <th>16554</th>\n",
              "      <td>4</td>\n",
              "      <td>7</td>\n",
              "      <td>1</td>\n",
              "      <td>1</td>\n",
              "      <td>2</td>\n",
              "      <td>3</td>\n",
              "      <td>5</td>\n",
              "      <td>6</td>\n",
              "      <td>1</td>\n",
              "      <td>4</td>\n",
              "      <td>1</td>\n",
              "      <td>-1</td>\n",
              "      <td>2</td>\n",
              "      <td>4</td>\n",
              "      <td>1</td>\n",
              "    </tr>\n",
              "    <tr>\n",
              "      <th>16555</th>\n",
              "      <td>2</td>\n",
              "      <td>7</td>\n",
              "      <td>1</td>\n",
              "      <td>2</td>\n",
              "      <td>2</td>\n",
              "      <td>4</td>\n",
              "      <td>2</td>\n",
              "      <td>6</td>\n",
              "      <td>6</td>\n",
              "      <td>7</td>\n",
              "      <td>2</td>\n",
              "      <td>-1</td>\n",
              "      <td>1</td>\n",
              "      <td>4</td>\n",
              "      <td>1</td>\n",
              "    </tr>\n",
              "  </tbody>\n",
              "</table>\n",
              "<p>16556 rows × 15 columns</p>\n",
              "</div>"
            ],
            "text/plain": [
              "       Qual é a sua cor ou raça?  ...  NOS ÚLTIMOS 30 DIAS, com que frequência algum dos seus colegas de escola te esculacharam, zoaram, mangaram, intimidaram ou caçoaram tanto que você ficou magoado, incomodado, aborrecido, ofendido ou humilhado?\n",
              "0                              1  ...                                                  1                                                                                                                                                               \n",
              "1                              1  ...                                                  1                                                                                                                                                               \n",
              "2                              4  ...                                                  2                                                                                                                                                               \n",
              "3                              1  ...                                                  1                                                                                                                                                               \n",
              "4                              1  ...                                                  2                                                                                                                                                               \n",
              "...                          ...  ...                                                ...                                                                                                                                                               \n",
              "16551                          4  ...                                                  3                                                                                                                                                               \n",
              "16552                          1  ...                                                  1                                                                                                                                                               \n",
              "16553                          4  ...                                                  4                                                                                                                                                               \n",
              "16554                          4  ...                                                  1                                                                                                                                                               \n",
              "16555                          2  ...                                                  1                                                                                                                                                               \n",
              "\n",
              "[16556 rows x 15 columns]"
            ]
          },
          "metadata": {
            "tags": []
          },
          "execution_count": 46
        }
      ]
    },
    {
      "cell_type": "code",
      "metadata": {
        "colab": {
          "base_uri": "https://localhost:8080/"
        },
        "id": "pa9YYDQ2En9s",
        "outputId": "0f710987-0f5c-4b61-bf16-8c144e593ca0"
      },
      "source": [
        "print(f'{desafio_3.columns[0]} \\n variável qualitativa nominal \\n')\n",
        "print(f'{desafio_3.columns[1]} \\n variável qualitativa nominal \\n')\n",
        "print(f'{desafio_3.columns[2]} \\n variável qualitativa nominal \\n')\n",
        "print(f'{desafio_3.columns[3]} \\n variável qualitativa nominal \\n')\n",
        "print(f'{desafio_3.columns[4]} \\n variável qualitativa nominal \\n')\n",
        "print(f'{desafio_3.columns[5]} \\n variável qualitativa nominal \\n')\n",
        "print(f'{desafio_3.columns[6]} \\n variável qualitativa ordinal \\n')\n",
        "print(f'{desafio_3.columns[7]} \\n variável qualitativa ordinal \\n')\n",
        "print(f'{desafio_3.columns[8]} \\n variável qualitativa ordinal \\n')\n",
        "print(f'{desafio_3.columns[9]} \\n variável qualitativa ordinal \\n')\n",
        "print(f'{desafio_3.columns[10]} \\n variável qualitativa nominal \\n')\n",
        "print(f'{desafio_3.columns[11]} \\n variável quantitativa discreta \\n')\n",
        "print(f'{desafio_3.columns[12]} \\n variável qualitativa nominal \\n')\n",
        "print(f'{desafio_3.columns[13]} \\n variável qualitativa nominal \\n')\n",
        "print(f'{desafio_3.columns[14]} \\n variável qualitativa nominal \\n')"
      ],
      "execution_count": 47,
      "outputs": [
        {
          "output_type": "stream",
          "text": [
            "Qual é a sua cor ou raça? \n",
            " variável qualitativa nominal \n",
            "\n",
            "Qual nível de ensino (grau) sua mãe estudou ou estuda? \n",
            " variável qualitativa nominal \n",
            "\n",
            "Você tem acesso à internet em sua casa? \n",
            " variável qualitativa nominal \n",
            "\n",
            "Você estuda em regime integral (tem atividades escolares por 7 horas ou mais horas diárias, durante todo o período escolar)? \n",
            " variável qualitativa nominal \n",
            "\n",
            "Você estuda em regime de internato (a escola possui alojamento onde os alunos permanecem e dormem diariamente, durante todo o período escolar)? \n",
            " variável qualitativa nominal \n",
            "\n",
            "Quando terminar o ciclo/curso que você está frequentando atualmente, você pretende? \n",
            " variável qualitativa nominal \n",
            "\n",
            "NOS ÚLTIMOS 7 DIAS, em quantos dias você comeu salgados fritos? Exemplo: batata frita (sem contar a batata de pacote) ou salgados fritos como coxinha de galinha, quibe frito, pastel frito, acarajé etc. \n",
            " variável qualitativa ordinal \n",
            "\n",
            "NOS ÚLTIMOS 7 DIAS, em quantos dias você comeu pelo menos um tipo de legume ou verdura? Exemplos: alface, abóbora, brócolis, cebola, cenoura, chuchu, couve, espinafre, pepino, tomate etc. Não inclua batata e aipim (mandioca/macaxeira). \n",
            " variável qualitativa ordinal \n",
            "\n",
            "Você costuma comer quando está assistindo à TV ou estudando? \n",
            " variável qualitativa ordinal \n",
            "\n",
            "NORMALMENTE, quanto tempo por dia duram essas atividades (como esportes, dança, ginástica, musculação, lutas ou outra atividade) que você faz? (Sem contar as aulas de educação física) \n",
            " variável qualitativa ordinal \n",
            "\n",
            "Alguma vez na vida você tomou uma dose de bebida alcoólica? (Uma dose equivale a uma lata de cerveja ou uma taça de vinho ou uma dose de cachaça ou uísque etc) \n",
            " variável qualitativa nominal \n",
            "\n",
            "Que idade você tinha quando usou droga como maconha, cocaína, crack, cola, loló, lança-perfume, ecstasy, oxy ou outra, pela primeira vez? \n",
            " variável quantitativa discreta \n",
            "\n",
            "Quantos amigos seus usam drogas? \n",
            " variável qualitativa nominal \n",
            "\n",
            "NOS ÚLTIMOS 30 DIAS, com que frequência seus pais ou responsáveis sabiam realmente o que você estava fazendo em seu tempo livre? \n",
            " variável qualitativa nominal \n",
            "\n",
            "NOS ÚLTIMOS 30 DIAS, com que frequência algum dos seus colegas de escola te esculacharam, zoaram, mangaram, intimidaram ou caçoaram tanto que você ficou magoado, incomodado, aborrecido, ofendido ou humilhado? \n",
            " variável qualitativa nominal \n",
            "\n"
          ],
          "name": "stdout"
        }
      ]
    },
    {
      "cell_type": "markdown",
      "metadata": {
        "id": "04YtBnqetRXk"
      },
      "source": [
        "## DEsafio 04: Criar uma função para gerar as tabelas de frequência e fazer a análise de outras informações"
      ]
    },
    {
      "cell_type": "code",
      "metadata": {
        "id": "ZRjSzUDtKQau"
      },
      "source": [
        "def frequencia_e_percentual(pesquisa, dicionario_axis, nome_axis):\r\n",
        "\r\n",
        "  frequencia = dados[pesquisa].value_counts()\r\n",
        "  percentual = dados[pesquisa].value_counts(normalize = True) * 100\r\n",
        "\r\n",
        "  distribuicao_frequencia = pd.DataFrame({'Frequencia': frequencia, 'Percentual':percentual})\r\n",
        "  distribuicao_frequencia.rename(index=dicionario_axis, inplace=True)\r\n",
        "  distribuicao_frequencia.rename_axis(nome_axis, axis=1, inplace=True)\r\n",
        "  \r\n",
        "  return distribuicao_frequencia "
      ],
      "execution_count": 48,
      "outputs": []
    },
    {
      "cell_type": "code",
      "metadata": {
        "id": "ihgCkEQG05MU"
      },
      "source": [
        "NOS_ULTIMOS_30_DIAS_quantas_vezes_voce_foi_agredido_fisicamente_por_um_adulto_da_sua_familia = {\r\n",
        "1:\t'Nenhuma vez nos últimos 30 dias (0 vez)',\r\n",
        "2:\t'1 vez nos últimos 30 dias',\r\n",
        "3:\t'2 ou 3 vezes nos últimos 30 dias',\r\n",
        "4:\t'4 ou 5 vezes nos últimos 30 dias',\r\n",
        "5:\t'6 ou 7 vezes nos últimos 30 dias',\r\n",
        "6:\t'8 ou 9 vezes nos últimos 30 dias',\r\n",
        "7:\t'10 ou 11 vezes nos últimos 30 dias',\r\n",
        "8:\t'12 vezes ou mais nos últimos 30 dias',\r\n",
        "99:\t'Não informado'}"
      ],
      "execution_count": 49,
      "outputs": []
    },
    {
      "cell_type": "code",
      "metadata": {
        "colab": {
          "base_uri": "https://localhost:8080/",
          "height": 0
        },
        "id": "DcOmt3zu0jHl",
        "outputId": "c8965402-1207-46f5-ff84-7c0442183877"
      },
      "source": [
        "frequencia_e_percentual('VB09003',\r\n",
        "                        NOS_ULTIMOS_30_DIAS_quantas_vezes_voce_foi_agredido_fisicamente_por_um_adulto_da_sua_familia,\r\n",
        "                        'Agressões Físicas Sofridas')"
      ],
      "execution_count": 50,
      "outputs": [
        {
          "output_type": "execute_result",
          "data": {
            "text/html": [
              "<div>\n",
              "<style scoped>\n",
              "    .dataframe tbody tr th:only-of-type {\n",
              "        vertical-align: middle;\n",
              "    }\n",
              "\n",
              "    .dataframe tbody tr th {\n",
              "        vertical-align: top;\n",
              "    }\n",
              "\n",
              "    .dataframe thead th {\n",
              "        text-align: right;\n",
              "    }\n",
              "</style>\n",
              "<table border=\"1\" class=\"dataframe\">\n",
              "  <thead>\n",
              "    <tr style=\"text-align: right;\">\n",
              "      <th>Agressões Físicas Sofridas</th>\n",
              "      <th>Frequencia</th>\n",
              "      <th>Percentual</th>\n",
              "    </tr>\n",
              "  </thead>\n",
              "  <tbody>\n",
              "    <tr>\n",
              "      <th>Nenhuma vez nos últimos 30 dias (0 vez)</th>\n",
              "      <td>14164</td>\n",
              "      <td>85.552066</td>\n",
              "    </tr>\n",
              "    <tr>\n",
              "      <th>1 vez nos últimos 30 dias</th>\n",
              "      <td>962</td>\n",
              "      <td>5.810582</td>\n",
              "    </tr>\n",
              "    <tr>\n",
              "      <th>2 ou 3 vezes nos últimos 30 dias</th>\n",
              "      <td>439</td>\n",
              "      <td>2.651607</td>\n",
              "    </tr>\n",
              "    <tr>\n",
              "      <th>12 vezes ou mais nos últimos 30 dias</th>\n",
              "      <td>254</td>\n",
              "      <td>1.534187</td>\n",
              "    </tr>\n",
              "    <tr>\n",
              "      <th>4 ou 5 vezes nos últimos 30 dias</th>\n",
              "      <td>218</td>\n",
              "      <td>1.316743</td>\n",
              "    </tr>\n",
              "    <tr>\n",
              "      <th>Não informado</th>\n",
              "      <td>161</td>\n",
              "      <td>0.972457</td>\n",
              "    </tr>\n",
              "    <tr>\n",
              "      <th>6 ou 7 vezes nos últimos 30 dias</th>\n",
              "      <td>158</td>\n",
              "      <td>0.954337</td>\n",
              "    </tr>\n",
              "    <tr>\n",
              "      <th>8 ou 9 vezes nos últimos 30 dias</th>\n",
              "      <td>119</td>\n",
              "      <td>0.718773</td>\n",
              "    </tr>\n",
              "    <tr>\n",
              "      <th>10 ou 11 vezes nos últimos 30 dias</th>\n",
              "      <td>81</td>\n",
              "      <td>0.489249</td>\n",
              "    </tr>\n",
              "  </tbody>\n",
              "</table>\n",
              "</div>"
            ],
            "text/plain": [
              "Agressões Físicas Sofridas               Frequencia  Percentual\n",
              "Nenhuma vez nos últimos 30 dias (0 vez)       14164   85.552066\n",
              "1 vez nos últimos 30 dias                       962    5.810582\n",
              "2 ou 3 vezes nos últimos 30 dias                439    2.651607\n",
              "12 vezes ou mais nos últimos 30 dias            254    1.534187\n",
              "4 ou 5 vezes nos últimos 30 dias                218    1.316743\n",
              "Não informado                                   161    0.972457\n",
              "6 ou 7 vezes nos últimos 30 dias                158    0.954337\n",
              "8 ou 9 vezes nos últimos 30 dias                119    0.718773\n",
              "10 ou 11 vezes nos últimos 30 dias               81    0.489249"
            ]
          },
          "metadata": {
            "tags": []
          },
          "execution_count": 50
        }
      ]
    },
    {
      "cell_type": "markdown",
      "metadata": {
        "id": "sjCDNMP5ZItU"
      },
      "source": [
        "## Desafio 05: Criar uma tabela de frequência para o peso"
      ]
    },
    {
      "cell_type": "code",
      "metadata": {
        "colab": {
          "base_uri": "https://localhost:8080/"
        },
        "id": "r0xPcvK2ZNym",
        "outputId": "570d3987-e37b-4e5d-b9a9-ed5c55a8511c"
      },
      "source": [
        "peso_min = dados[\"VB17003\"].min()\r\n",
        "peso_max = dados[\"VB17003\"].max()\r\n",
        "\r\n",
        "print(f'Peso Minima {peso_min}, Peso Máxima {peso_max}')"
      ],
      "execution_count": 51,
      "outputs": [
        {
          "output_type": "stream",
          "text": [
            "Peso Minima 0.8, Peso Máxima 171.5\n"
          ],
          "name": "stdout"
        }
      ]
    },
    {
      "cell_type": "code",
      "metadata": {
        "colab": {
          "base_uri": "https://localhost:8080/"
        },
        "id": "1OZobnlOZNtz",
        "outputId": "6ae60b64-baad-419c-a886-7f7b2022ac92"
      },
      "source": [
        "tamanho_amostra = len(dados)\r\n",
        "\r\n",
        "k = int((1 + ((10/3)*np.log10(tamanho_amostra))))\r\n",
        "k"
      ],
      "execution_count": 52,
      "outputs": [
        {
          "output_type": "execute_result",
          "data": {
            "text/plain": [
              "15"
            ]
          },
          "metadata": {
            "tags": []
          },
          "execution_count": 52
        }
      ]
    },
    {
      "cell_type": "code",
      "metadata": {
        "colab": {
          "base_uri": "https://localhost:8080/",
          "height": 0
        },
        "id": "-QzozNaaeiff",
        "outputId": "84e7539e-663f-44f6-ef2c-47fd63b6f8a6"
      },
      "source": [
        "dados[\"CLASSE_PESO\"] = pd.cut(x = dados[\"VB17003\"],\r\n",
        "       bins = k,\r\n",
        "       include_lowest = True)\r\n",
        "\r\n",
        "frequencia = dados[\"CLASSE_PESO\"].value_counts()\r\n",
        "percentual = dados[\"CLASSE_PESO\"].value_counts(normalize = True) * 100\r\n",
        "dist_freq = pd.DataFrame({\"Frequência\": frequencia, \"Percentual\": percentual })\r\n",
        "dist_freq"
      ],
      "execution_count": 53,
      "outputs": [
        {
          "output_type": "execute_result",
          "data": {
            "text/html": [
              "<div>\n",
              "<style scoped>\n",
              "    .dataframe tbody tr th:only-of-type {\n",
              "        vertical-align: middle;\n",
              "    }\n",
              "\n",
              "    .dataframe tbody tr th {\n",
              "        vertical-align: top;\n",
              "    }\n",
              "\n",
              "    .dataframe thead th {\n",
              "        text-align: right;\n",
              "    }\n",
              "</style>\n",
              "<table border=\"1\" class=\"dataframe\">\n",
              "  <thead>\n",
              "    <tr style=\"text-align: right;\">\n",
              "      <th></th>\n",
              "      <th>Frequência</th>\n",
              "      <th>Percentual</th>\n",
              "    </tr>\n",
              "  </thead>\n",
              "  <tbody>\n",
              "    <tr>\n",
              "      <th>(46.32, 57.7]</th>\n",
              "      <td>5754</td>\n",
              "      <td>34.754772</td>\n",
              "    </tr>\n",
              "    <tr>\n",
              "      <th>(34.94, 46.32]</th>\n",
              "      <td>3852</td>\n",
              "      <td>23.266489</td>\n",
              "    </tr>\n",
              "    <tr>\n",
              "      <th>(57.7, 69.08]</th>\n",
              "      <td>3724</td>\n",
              "      <td>22.493356</td>\n",
              "    </tr>\n",
              "    <tr>\n",
              "      <th>(69.08, 80.46]</th>\n",
              "      <td>1425</td>\n",
              "      <td>8.607151</td>\n",
              "    </tr>\n",
              "    <tr>\n",
              "      <th>(23.56, 34.94]</th>\n",
              "      <td>927</td>\n",
              "      <td>5.599179</td>\n",
              "    </tr>\n",
              "    <tr>\n",
              "      <th>(80.46, 91.84]</th>\n",
              "      <td>544</td>\n",
              "      <td>3.285818</td>\n",
              "    </tr>\n",
              "    <tr>\n",
              "      <th>(91.84, 103.22]</th>\n",
              "      <td>202</td>\n",
              "      <td>1.220101</td>\n",
              "    </tr>\n",
              "    <tr>\n",
              "      <th>(103.22, 114.6]</th>\n",
              "      <td>77</td>\n",
              "      <td>0.465088</td>\n",
              "    </tr>\n",
              "    <tr>\n",
              "      <th>(114.6, 125.98]</th>\n",
              "      <td>20</td>\n",
              "      <td>0.120802</td>\n",
              "    </tr>\n",
              "    <tr>\n",
              "      <th>(125.98, 137.36]</th>\n",
              "      <td>15</td>\n",
              "      <td>0.090602</td>\n",
              "    </tr>\n",
              "    <tr>\n",
              "      <th>(137.36, 148.74]</th>\n",
              "      <td>6</td>\n",
              "      <td>0.036241</td>\n",
              "    </tr>\n",
              "    <tr>\n",
              "      <th>(148.74, 160.12]</th>\n",
              "      <td>4</td>\n",
              "      <td>0.024160</td>\n",
              "    </tr>\n",
              "    <tr>\n",
              "      <th>(12.18, 23.56]</th>\n",
              "      <td>3</td>\n",
              "      <td>0.018120</td>\n",
              "    </tr>\n",
              "    <tr>\n",
              "      <th>(160.12, 171.5]</th>\n",
              "      <td>2</td>\n",
              "      <td>0.012080</td>\n",
              "    </tr>\n",
              "    <tr>\n",
              "      <th>(0.628, 12.18]</th>\n",
              "      <td>1</td>\n",
              "      <td>0.006040</td>\n",
              "    </tr>\n",
              "  </tbody>\n",
              "</table>\n",
              "</div>"
            ],
            "text/plain": [
              "                  Frequência  Percentual\n",
              "(46.32, 57.7]           5754   34.754772\n",
              "(34.94, 46.32]          3852   23.266489\n",
              "(57.7, 69.08]           3724   22.493356\n",
              "(69.08, 80.46]          1425    8.607151\n",
              "(23.56, 34.94]           927    5.599179\n",
              "(80.46, 91.84]           544    3.285818\n",
              "(91.84, 103.22]          202    1.220101\n",
              "(103.22, 114.6]           77    0.465088\n",
              "(114.6, 125.98]           20    0.120802\n",
              "(125.98, 137.36]          15    0.090602\n",
              "(137.36, 148.74]           6    0.036241\n",
              "(148.74, 160.12]           4    0.024160\n",
              "(12.18, 23.56]             3    0.018120\n",
              "(160.12, 171.5]            2    0.012080\n",
              "(0.628, 12.18]             1    0.006040"
            ]
          },
          "metadata": {
            "tags": []
          },
          "execution_count": 53
        }
      ]
    },
    {
      "cell_type": "markdown",
      "metadata": {
        "id": "o4BTwLgpZIhE"
      },
      "source": [
        "## Desafio 06: Criar outros crosstab para analisar e pesquisar sobre o parâmetro aggfunc e testar."
      ]
    },
    {
      "cell_type": "code",
      "metadata": {
        "id": "7_O6OPYKgeEe"
      },
      "source": [
        "dicionario_sus = {\r\n",
        "-1:\t'Pulo no questionário',\r\n",
        "1:\t'Apoio para controle de peso (ganhar ou perder)',\r\n",
        "2:\t'Apoio para parar de fumar',\r\n",
        "3:\t'Acidente ou lesão',\r\n",
        "4:\t'Reabilitação ou terapia',\r\n",
        "5:\t'Doença',\r\n",
        "6:\t'Problema odontológico',\r\n",
        "7:\t'Vacinação',\r\n",
        "8:\t'Consulta para métodos contraceptivos (preservativos, pílula, DIU etc)',\r\n",
        "9:\t'Buscar contracepção de emergência (pílula do dia seguinte)',\r\n",
        "10:\t'Teste para HIV, Sífilis ou Hepatite B',\r\n",
        "11:\t'Pré-natal / Teste para gravidez',\r\n",
        "12:\t'Solicitação de atestado médico',\r\n",
        "13:\t'Outro',\r\n",
        "99:\t'Não informado'}"
      ],
      "execution_count": 54,
      "outputs": []
    },
    {
      "cell_type": "code",
      "metadata": {
        "colab": {
          "base_uri": "https://localhost:8080/",
          "height": 0
        },
        "id": "OJZingRX9Wpl",
        "outputId": "c418593b-06a7-419c-b8df-5b27e3389cc3"
      },
      "source": [
        "sus = pd.crosstab(dados['VB13007'], dados['REGEOGR'])\r\n",
        "sus.rename(index=dicionario_sus, inplace=True)\r\n",
        "sus.rename(columns={1:\t'Norte', 2:\t'Nordeste', 3:\t'Sudeste', 4:\t'Sul', 5:\t'Centro-Oeste'}, inplace=True)\r\n",
        "sus"
      ],
      "execution_count": 55,
      "outputs": [
        {
          "output_type": "execute_result",
          "data": {
            "text/html": [
              "<div>\n",
              "<style scoped>\n",
              "    .dataframe tbody tr th:only-of-type {\n",
              "        vertical-align: middle;\n",
              "    }\n",
              "\n",
              "    .dataframe tbody tr th {\n",
              "        vertical-align: top;\n",
              "    }\n",
              "\n",
              "    .dataframe thead th {\n",
              "        text-align: right;\n",
              "    }\n",
              "</style>\n",
              "<table border=\"1\" class=\"dataframe\">\n",
              "  <thead>\n",
              "    <tr style=\"text-align: right;\">\n",
              "      <th>REGEOGR</th>\n",
              "      <th>Norte</th>\n",
              "      <th>Nordeste</th>\n",
              "      <th>Sudeste</th>\n",
              "      <th>Sul</th>\n",
              "      <th>Centro-Oeste</th>\n",
              "    </tr>\n",
              "    <tr>\n",
              "      <th>VB13007</th>\n",
              "      <th></th>\n",
              "      <th></th>\n",
              "      <th></th>\n",
              "      <th></th>\n",
              "      <th></th>\n",
              "    </tr>\n",
              "  </thead>\n",
              "  <tbody>\n",
              "    <tr>\n",
              "      <th>Pulo no questionário</th>\n",
              "      <td>1020</td>\n",
              "      <td>1138</td>\n",
              "      <td>1065</td>\n",
              "      <td>1083</td>\n",
              "      <td>1220</td>\n",
              "    </tr>\n",
              "    <tr>\n",
              "      <th>Apoio para controle de peso (ganhar ou perder)</th>\n",
              "      <td>499</td>\n",
              "      <td>524</td>\n",
              "      <td>388</td>\n",
              "      <td>379</td>\n",
              "      <td>381</td>\n",
              "    </tr>\n",
              "    <tr>\n",
              "      <th>Apoio para parar de fumar</th>\n",
              "      <td>27</td>\n",
              "      <td>28</td>\n",
              "      <td>31</td>\n",
              "      <td>27</td>\n",
              "      <td>31</td>\n",
              "    </tr>\n",
              "    <tr>\n",
              "      <th>Acidente ou lesão</th>\n",
              "      <td>143</td>\n",
              "      <td>122</td>\n",
              "      <td>122</td>\n",
              "      <td>132</td>\n",
              "      <td>161</td>\n",
              "    </tr>\n",
              "    <tr>\n",
              "      <th>Reabilitação ou terapia</th>\n",
              "      <td>18</td>\n",
              "      <td>16</td>\n",
              "      <td>22</td>\n",
              "      <td>14</td>\n",
              "      <td>19</td>\n",
              "    </tr>\n",
              "    <tr>\n",
              "      <th>Doença</th>\n",
              "      <td>540</td>\n",
              "      <td>603</td>\n",
              "      <td>533</td>\n",
              "      <td>465</td>\n",
              "      <td>501</td>\n",
              "    </tr>\n",
              "    <tr>\n",
              "      <th>Problema odontológico</th>\n",
              "      <td>93</td>\n",
              "      <td>88</td>\n",
              "      <td>64</td>\n",
              "      <td>100</td>\n",
              "      <td>99</td>\n",
              "    </tr>\n",
              "    <tr>\n",
              "      <th>Vacinação</th>\n",
              "      <td>369</td>\n",
              "      <td>422</td>\n",
              "      <td>433</td>\n",
              "      <td>400</td>\n",
              "      <td>394</td>\n",
              "    </tr>\n",
              "    <tr>\n",
              "      <th>Consulta para métodos contraceptivos (preservativos, pílula, DIU etc)</th>\n",
              "      <td>30</td>\n",
              "      <td>22</td>\n",
              "      <td>43</td>\n",
              "      <td>39</td>\n",
              "      <td>34</td>\n",
              "    </tr>\n",
              "    <tr>\n",
              "      <th>Buscar contracepção de emergência (pílula do dia seguinte)</th>\n",
              "      <td>5</td>\n",
              "      <td>16</td>\n",
              "      <td>10</td>\n",
              "      <td>8</td>\n",
              "      <td>7</td>\n",
              "    </tr>\n",
              "    <tr>\n",
              "      <th>Teste para HIV, Sífilis ou Hepatite B</th>\n",
              "      <td>16</td>\n",
              "      <td>9</td>\n",
              "      <td>26</td>\n",
              "      <td>17</td>\n",
              "      <td>12</td>\n",
              "    </tr>\n",
              "    <tr>\n",
              "      <th>Pré-natal / Teste para gravidez</th>\n",
              "      <td>4</td>\n",
              "      <td>5</td>\n",
              "      <td>6</td>\n",
              "      <td>5</td>\n",
              "      <td>3</td>\n",
              "    </tr>\n",
              "    <tr>\n",
              "      <th>Solicitação de atestado médico</th>\n",
              "      <td>47</td>\n",
              "      <td>45</td>\n",
              "      <td>79</td>\n",
              "      <td>60</td>\n",
              "      <td>65</td>\n",
              "    </tr>\n",
              "    <tr>\n",
              "      <th>Outro</th>\n",
              "      <td>338</td>\n",
              "      <td>373</td>\n",
              "      <td>417</td>\n",
              "      <td>417</td>\n",
              "      <td>449</td>\n",
              "    </tr>\n",
              "    <tr>\n",
              "      <th>Não informado</th>\n",
              "      <td>39</td>\n",
              "      <td>54</td>\n",
              "      <td>37</td>\n",
              "      <td>61</td>\n",
              "      <td>44</td>\n",
              "    </tr>\n",
              "  </tbody>\n",
              "</table>\n",
              "</div>"
            ],
            "text/plain": [
              "REGEOGR                                             Norte  ...  Centro-Oeste\n",
              "VB13007                                                    ...              \n",
              "Pulo no questionário                                 1020  ...          1220\n",
              "Apoio para controle de peso (ganhar ou perder)        499  ...           381\n",
              "Apoio para parar de fumar                              27  ...            31\n",
              "Acidente ou lesão                                     143  ...           161\n",
              "Reabilitação ou terapia                                18  ...            19\n",
              "Doença                                                540  ...           501\n",
              "Problema odontológico                                  93  ...            99\n",
              "Vacinação                                             369  ...           394\n",
              "Consulta para métodos contraceptivos (preservat...     30  ...            34\n",
              "Buscar contracepção de emergência (pílula do di...      5  ...             7\n",
              "Teste para HIV, Sífilis ou Hepatite B                  16  ...            12\n",
              "Pré-natal / Teste para gravidez                         4  ...             3\n",
              "Solicitação de atestado médico                         47  ...            65\n",
              "Outro                                                 338  ...           449\n",
              "Não informado                                          39  ...            44\n",
              "\n",
              "[15 rows x 5 columns]"
            ]
          },
          "metadata": {
            "tags": []
          },
          "execution_count": 55
        }
      ]
    },
    {
      "cell_type": "code",
      "metadata": {
        "colab": {
          "base_uri": "https://localhost:8080/",
          "height": 0
        },
        "id": "F8B_LksYgKP3",
        "outputId": "e0267467-0656-4646-c177-1666bf097b68"
      },
      "source": [
        "# Idade média de quem se consultou no sus por causa.\r\n",
        "\r\n",
        "sus = pd.crosstab(dados['VB13007'], dados['REGEOGR'], values= dados['VB01003'], aggfunc='mean').round()\r\n",
        "sus.rename(index=dicionario_sus, inplace=True)\r\n",
        "sus.rename(columns={1:\t'Norte', 2:\t'Nordeste', 3:\t'Sudeste', 4:\t'Sul', 5:\t'Centro-Oeste'}, inplace=True)\r\n",
        "sus"
      ],
      "execution_count": 56,
      "outputs": [
        {
          "output_type": "execute_result",
          "data": {
            "text/html": [
              "<div>\n",
              "<style scoped>\n",
              "    .dataframe tbody tr th:only-of-type {\n",
              "        vertical-align: middle;\n",
              "    }\n",
              "\n",
              "    .dataframe tbody tr th {\n",
              "        vertical-align: top;\n",
              "    }\n",
              "\n",
              "    .dataframe thead th {\n",
              "        text-align: right;\n",
              "    }\n",
              "</style>\n",
              "<table border=\"1\" class=\"dataframe\">\n",
              "  <thead>\n",
              "    <tr style=\"text-align: right;\">\n",
              "      <th>REGEOGR</th>\n",
              "      <th>Norte</th>\n",
              "      <th>Nordeste</th>\n",
              "      <th>Sudeste</th>\n",
              "      <th>Sul</th>\n",
              "      <th>Centro-Oeste</th>\n",
              "    </tr>\n",
              "    <tr>\n",
              "      <th>VB13007</th>\n",
              "      <th></th>\n",
              "      <th></th>\n",
              "      <th></th>\n",
              "      <th></th>\n",
              "      <th></th>\n",
              "    </tr>\n",
              "  </thead>\n",
              "  <tbody>\n",
              "    <tr>\n",
              "      <th>Pulo no questionário</th>\n",
              "      <td>14.0</td>\n",
              "      <td>14.0</td>\n",
              "      <td>14.0</td>\n",
              "      <td>14.0</td>\n",
              "      <td>14.0</td>\n",
              "    </tr>\n",
              "    <tr>\n",
              "      <th>Apoio para controle de peso (ganhar ou perder)</th>\n",
              "      <td>14.0</td>\n",
              "      <td>14.0</td>\n",
              "      <td>14.0</td>\n",
              "      <td>14.0</td>\n",
              "      <td>14.0</td>\n",
              "    </tr>\n",
              "    <tr>\n",
              "      <th>Apoio para parar de fumar</th>\n",
              "      <td>13.0</td>\n",
              "      <td>13.0</td>\n",
              "      <td>15.0</td>\n",
              "      <td>14.0</td>\n",
              "      <td>13.0</td>\n",
              "    </tr>\n",
              "    <tr>\n",
              "      <th>Acidente ou lesão</th>\n",
              "      <td>15.0</td>\n",
              "      <td>14.0</td>\n",
              "      <td>14.0</td>\n",
              "      <td>14.0</td>\n",
              "      <td>14.0</td>\n",
              "    </tr>\n",
              "    <tr>\n",
              "      <th>Reabilitação ou terapia</th>\n",
              "      <td>14.0</td>\n",
              "      <td>14.0</td>\n",
              "      <td>15.0</td>\n",
              "      <td>14.0</td>\n",
              "      <td>14.0</td>\n",
              "    </tr>\n",
              "    <tr>\n",
              "      <th>Doença</th>\n",
              "      <td>15.0</td>\n",
              "      <td>15.0</td>\n",
              "      <td>14.0</td>\n",
              "      <td>15.0</td>\n",
              "      <td>14.0</td>\n",
              "    </tr>\n",
              "    <tr>\n",
              "      <th>Problema odontológico</th>\n",
              "      <td>15.0</td>\n",
              "      <td>15.0</td>\n",
              "      <td>15.0</td>\n",
              "      <td>14.0</td>\n",
              "      <td>14.0</td>\n",
              "    </tr>\n",
              "    <tr>\n",
              "      <th>Vacinação</th>\n",
              "      <td>14.0</td>\n",
              "      <td>14.0</td>\n",
              "      <td>14.0</td>\n",
              "      <td>14.0</td>\n",
              "      <td>13.0</td>\n",
              "    </tr>\n",
              "    <tr>\n",
              "      <th>Consulta para métodos contraceptivos (preservativos, pílula, DIU etc)</th>\n",
              "      <td>16.0</td>\n",
              "      <td>15.0</td>\n",
              "      <td>15.0</td>\n",
              "      <td>15.0</td>\n",
              "      <td>15.0</td>\n",
              "    </tr>\n",
              "    <tr>\n",
              "      <th>Buscar contracepção de emergência (pílula do dia seguinte)</th>\n",
              "      <td>12.0</td>\n",
              "      <td>14.0</td>\n",
              "      <td>14.0</td>\n",
              "      <td>14.0</td>\n",
              "      <td>15.0</td>\n",
              "    </tr>\n",
              "    <tr>\n",
              "      <th>Teste para HIV, Sífilis ou Hepatite B</th>\n",
              "      <td>15.0</td>\n",
              "      <td>15.0</td>\n",
              "      <td>14.0</td>\n",
              "      <td>14.0</td>\n",
              "      <td>14.0</td>\n",
              "    </tr>\n",
              "    <tr>\n",
              "      <th>Pré-natal / Teste para gravidez</th>\n",
              "      <td>18.0</td>\n",
              "      <td>16.0</td>\n",
              "      <td>15.0</td>\n",
              "      <td>14.0</td>\n",
              "      <td>16.0</td>\n",
              "    </tr>\n",
              "    <tr>\n",
              "      <th>Solicitação de atestado médico</th>\n",
              "      <td>14.0</td>\n",
              "      <td>15.0</td>\n",
              "      <td>15.0</td>\n",
              "      <td>14.0</td>\n",
              "      <td>14.0</td>\n",
              "    </tr>\n",
              "    <tr>\n",
              "      <th>Outro</th>\n",
              "      <td>15.0</td>\n",
              "      <td>15.0</td>\n",
              "      <td>14.0</td>\n",
              "      <td>14.0</td>\n",
              "      <td>14.0</td>\n",
              "    </tr>\n",
              "    <tr>\n",
              "      <th>Não informado</th>\n",
              "      <td>14.0</td>\n",
              "      <td>14.0</td>\n",
              "      <td>14.0</td>\n",
              "      <td>13.0</td>\n",
              "      <td>13.0</td>\n",
              "    </tr>\n",
              "  </tbody>\n",
              "</table>\n",
              "</div>"
            ],
            "text/plain": [
              "REGEOGR                                             Norte  ...  Centro-Oeste\n",
              "VB13007                                                    ...              \n",
              "Pulo no questionário                                 14.0  ...          14.0\n",
              "Apoio para controle de peso (ganhar ou perder)       14.0  ...          14.0\n",
              "Apoio para parar de fumar                            13.0  ...          13.0\n",
              "Acidente ou lesão                                    15.0  ...          14.0\n",
              "Reabilitação ou terapia                              14.0  ...          14.0\n",
              "Doença                                               15.0  ...          14.0\n",
              "Problema odontológico                                15.0  ...          14.0\n",
              "Vacinação                                            14.0  ...          13.0\n",
              "Consulta para métodos contraceptivos (preservat...   16.0  ...          15.0\n",
              "Buscar contracepção de emergência (pílula do di...   12.0  ...          15.0\n",
              "Teste para HIV, Sífilis ou Hepatite B                15.0  ...          14.0\n",
              "Pré-natal / Teste para gravidez                      18.0  ...          16.0\n",
              "Solicitação de atestado médico                       14.0  ...          14.0\n",
              "Outro                                                15.0  ...          14.0\n",
              "Não informado                                        14.0  ...          13.0\n",
              "\n",
              "[15 rows x 5 columns]"
            ]
          },
          "metadata": {
            "tags": []
          },
          "execution_count": 56
        }
      ]
    },
    {
      "cell_type": "markdown",
      "metadata": {
        "id": "L9nwVoUiuURS"
      },
      "source": [
        "## Desafio 07: Calcular o desvio padrão, média, moda e mediana e plotar no gráfico"
      ]
    },
    {
      "cell_type": "code",
      "metadata": {
        "id": "eBOR_NaB5s4b"
      },
      "source": [
        "from scipy.stats import mode\r\n",
        "\r\n",
        "def medidas_centrais(dado):\r\n",
        "  media = dado.mean()\r\n",
        "  desvio_padrao = dado.std()\r\n",
        "  moda = mode(dado).mode[0]\r\n",
        "  mediana = dado.median()\r\n",
        "  return media, desvio_padrao, moda, mediana"
      ],
      "execution_count": 57,
      "outputs": []
    },
    {
      "cell_type": "code",
      "metadata": {
        "colab": {
          "base_uri": "https://localhost:8080/"
        },
        "id": "SmC-n0ut6gWr",
        "outputId": "3ebd7883-17d3-4c45-f082-5b80f82287ce"
      },
      "source": [
        "media, desvio_padrao, moda, mediana = medidas_centrais(dados['VB17004'])\r\n",
        "print(f' Média = {media}\\n Desvio Padrão = {desvio_padrao}\\n Moda = {moda}\\n Mediana = {mediana}')"
      ],
      "execution_count": 58,
      "outputs": [
        {
          "output_type": "stream",
          "text": [
            " Média = 160.71311307078818\n",
            " Desvio Padrão = 10.3400702338278\n",
            " Moda = 160.0\n",
            " Mediana = 160.4\n"
          ],
          "name": "stdout"
        }
      ]
    },
    {
      "cell_type": "code",
      "metadata": {
        "id": "Wtn0S0e5ipVV",
        "colab": {
          "base_uri": "https://localhost:8080/",
          "height": 0
        },
        "outputId": "df07c8ee-7ca2-4fe9-d780-c556fb86af1f"
      },
      "source": [
        "ax = sns.histplot(data=dados, x=dados['VB17004'])\n",
        "ax.figure.set_size_inches(12,6)\n",
        "ax.set_title(\"Distribuição de frequência\")\n",
        "ax.set_xlabel(\"Altura\")\n",
        "line1 = ax.vlines(media, ymin=0, ymax=900, colors='r')\n",
        "line2 = plt.axvspan((media - desvio_padrao), (desvio_padrao + media), facecolor='black', alpha=0.2)\n",
        "line3 = ax.vlines(moda, ymin=0, ymax=900, colors='g')\n",
        "line4 = ax.vlines(mediana, ymin=0, ymax=900, colors='b')\n",
        "ax.legend((line1, line2, line3, line4), ('Média', 'Desvio Padrão', 'Moda', 'Mediana'))\n",
        "ax;\n"
      ],
      "execution_count": 59,
      "outputs": [
        {
          "output_type": "display_data",
          "data": {
            "image/png": "[encoded data removed]",
            "text/plain": [
              "<Figure size 864x432 with 1 Axes>"
            ]
          },
          "metadata": {
            "tags": [],
            "needs_background": "light"
          }
        }
      ]
    },
    {
      "cell_type": "markdown",
      "metadata": {
        "id": "inZJYZgguU7K"
      },
      "source": [
        "## Desafio 08: Fazer a análise com o histograma para outras informações da base de dados."
      ]
    },
    {
      "cell_type": "code",
      "metadata": {
        "colab": {
          "base_uri": "https://localhost:8080/"
        },
        "id": "6OOoz-CCuh3c",
        "outputId": "b10ad93a-f643-4d37-b9f0-fb2f9d8b55aa"
      },
      "source": [
        "media, desvio_padrao, moda, mediana = medidas_centrais(dados['VB17003'])\r\n",
        "print(f' Média = {media}\\n Desvio Padrão = {desvio_padrao}\\n Moda = {moda}\\n Mediana = {mediana}')"
      ],
      "execution_count": 60,
      "outputs": [
        {
          "output_type": "stream",
          "text": [
            " Média = 54.70558105822677\n",
            " Desvio Padrão = 14.547864125282576\n",
            " Moda = 50.0\n",
            " Mediana = 52.9\n"
          ],
          "name": "stdout"
        }
      ]
    },
    {
      "cell_type": "code",
      "metadata": {
        "colab": {
          "base_uri": "https://localhost:8080/",
          "height": 0
        },
        "id": "2lEvMS3xNy0n",
        "outputId": "42d3c3de-e8d1-49e2-fc6a-602f0fa465b3"
      },
      "source": [
        "ax = sns.histplot(data=dados, x=dados['VB17003'])\r\n",
        "ax.figure.set_size_inches(12,6)\r\n",
        "ax.set_title(\"Distribuição de frequência\")\r\n",
        "ax.set_xlabel(\"Peso\")\r\n",
        "line1 = ax.vlines(media, ymin=0, ymax=900, colors='r')\r\n",
        "line2 = plt.axvspan((media - desvio_padrao), (desvio_padrao + media), facecolor='black', alpha=0.2)\r\n",
        "line3 = ax.vlines(moda, ymin=0, ymax=900, colors='g')\r\n",
        "line4 = ax.vlines(mediana, ymin=0, ymax=900, colors='b')\r\n",
        "ax.legend((line1, line2, line3, line4), ('Média', 'Desvio Padrão', 'Moda', 'Mediana'))\r\n",
        "ax;"
      ],
      "execution_count": 61,
      "outputs": [
        {
          "output_type": "display_data",
          "data": {
            "image/png": "[encoded data removed]",
            "text/plain": [
              "<Figure size 864x432 with 1 Axes>"
            ]
          },
          "metadata": {
            "tags": [],
            "needs_background": "light"
          }
        }
      ]
    },
    {
      "cell_type": "markdown",
      "metadata": {
        "id": "eUwbHkdnqFJ8"
      },
      "source": [
        "## DEsafio 09; Pesquisar como é determinado os outliers no boxplot do seaborn.\r\n",
        "\r\n",
        "\r\n",
        "O primeiro é o familiar boxplot(). Este tipo de gráfico mostra os três valores dos quartis da distribuição junto com os valores extremos. Os “bigodes” se estendem para pontos que ficam dentro de 1,5 IQRs do quartil inferior e superior e, em seguida, as observações que ficam fora dessa faixa são exibidas independentemente"
      ]
    },
    {
      "cell_type": "code",
      "metadata": {
        "colab": {
          "base_uri": "https://localhost:8080/",
          "height": 404
        },
        "id": "e0-_H4klN4Xd",
        "outputId": "5a6afbeb-188c-42bf-a900-e716677b830a"
      },
      "source": [
        "ax = sns.boxplot(x = \"VB17004\", data = dados)\r\n",
        "ax.figure.set_size_inches(12, 6)\r\n",
        "ax.set_title(\"Boxplot da altura\")\r\n",
        "ax.set_xlabel(\"Altura\")\r\n",
        "ax;"
      ],
      "execution_count": 62,
      "outputs": [
        {
          "output_type": "display_data",
          "data": {
            "image/png": "[encoded data removed]",
            "text/plain": [
              "<Figure size 864x432 with 1 Axes>"
            ]
          },
          "metadata": {
            "tags": [],
            "needs_background": "light"
          }
        }
      ]
    },
    {
      "cell_type": "code",
      "metadata": {
        "colab": {
          "base_uri": "https://localhost:8080/"
        },
        "id": "yA9-APFmsifG",
        "outputId": "362bca66-7070-44f4-a546-aa85ccf607d3"
      },
      "source": [
        "q1 = dados['VB17004'].quantile(0.25)\r\n",
        "q1"
      ],
      "execution_count": 63,
      "outputs": [
        {
          "output_type": "execute_result",
          "data": {
            "text/plain": [
              "153.8"
            ]
          },
          "metadata": {
            "tags": []
          },
          "execution_count": 63
        }
      ]
    },
    {
      "cell_type": "code",
      "metadata": {
        "colab": {
          "base_uri": "https://localhost:8080/"
        },
        "id": "y-J5eEqVsyZe",
        "outputId": "58ec1f2e-d356-41c4-e159-0a56a01e3de8"
      },
      "source": [
        "q3 = dados['VB17004'].quantile(0.75)\r\n",
        "q3"
      ],
      "execution_count": 64,
      "outputs": [
        {
          "output_type": "execute_result",
          "data": {
            "text/plain": [
              "167.9"
            ]
          },
          "metadata": {
            "tags": []
          },
          "execution_count": 64
        }
      ]
    },
    {
      "cell_type": "code",
      "metadata": {
        "colab": {
          "base_uri": "https://localhost:8080/"
        },
        "id": "cxiLrP5quFFs",
        "outputId": "6eb4c17d-ec2f-416d-de08-f46620c78641"
      },
      "source": [
        "#Distância Interquartil\r\n",
        "IQR = q3 - q1\r\n",
        "IQR"
      ],
      "execution_count": 65,
      "outputs": [
        {
          "output_type": "execute_result",
          "data": {
            "text/plain": [
              "14.099999999999994"
            ]
          },
          "metadata": {
            "tags": []
          },
          "execution_count": 65
        }
      ]
    },
    {
      "cell_type": "code",
      "metadata": {
        "colab": {
          "base_uri": "https://localhost:8080/"
        },
        "id": "W3HkEVQEupB_",
        "outputId": "b8572144-e854-4505-fe0a-07d7311375e7"
      },
      "source": [
        "#\"bigode\" inferior\r\n",
        "q1 - 1.5 * IQR"
      ],
      "execution_count": 66,
      "outputs": [
        {
          "output_type": "execute_result",
          "data": {
            "text/plain": [
              "132.65000000000003"
            ]
          },
          "metadata": {
            "tags": []
          },
          "execution_count": 66
        }
      ]
    },
    {
      "cell_type": "code",
      "metadata": {
        "colab": {
          "base_uri": "https://localhost:8080/"
        },
        "id": "OOYbODMXvPUN",
        "outputId": "6a250263-f302-45df-f382-4d4d9f7a8bc9"
      },
      "source": [
        "#\"bigode\" superior\r\n",
        "q3 + 1.5 * IQR"
      ],
      "execution_count": 67,
      "outputs": [
        {
          "output_type": "execute_result",
          "data": {
            "text/plain": [
              "189.05"
            ]
          },
          "metadata": {
            "tags": []
          },
          "execution_count": 67
        }
      ]
    },
    {
      "cell_type": "markdown",
      "metadata": {
        "id": "eUkSw3Gfs2JT"
      },
      "source": [
        "## Desafio 10: Fazer a descrição de outras variáveis, analisar e compartilhas suas análises no discord\r\n",
        "\r\n",
        "Para o sexo masculino, a altura média mais alta é da raça Preta com 164.40. Para o sexo feminino a altura média mais alta é da raça Amarela com 158.19.  "
      ]
    },
    {
      "cell_type": "code",
      "metadata": {
        "id": "5jd3ELQOvYFA",
        "colab": {
          "base_uri": "https://localhost:8080/"
        },
        "outputId": "5836aea0-da7f-4db2-8b03-155fadaaa463"
      },
      "source": [
        "altura_media = dados.groupby(['VB01001', 'VB01002'])['VB17004'].mean()\r\n",
        "altura_media.rename_axis(index={'VB01001': 'Sexo', 'VB01002': 'Raça'},\r\n",
        "                         inplace=True)\r\n",
        "altura_media.rename({1: 'Masculino', 2: 'Feminino'}, inplace=True, level='Sexo')\r\n",
        "altura_media.rename({1:'Branca',\r\n",
        "                     2:'Preta',\r\n",
        "                     3:'Amarela',\r\n",
        "                     4:'Parda',\r\n",
        "                     5:'Indígena',\r\n",
        "                     99:'Não informado'}, inplace=True, level='Raça')\r\n",
        "\r\n",
        "\r\n",
        "altura_media.sort_values(ascending=False)"
      ],
      "execution_count": 127,
      "outputs": [
        {
          "output_type": "execute_result",
          "data": {
            "text/plain": [
              "Sexo       Raça         \n",
              "Masculino  Preta            164.409683\n",
              "           Branca           164.087128\n",
              "           Parda            163.855120\n",
              "           Amarela          162.547682\n",
              "           Não informado    162.166667\n",
              "           Indígena         160.774267\n",
              "Feminino   Amarela          158.197073\n",
              "           Parda            157.760234\n",
              "           Branca           157.439282\n",
              "           Preta            157.439089\n",
              "           Indígena         155.801460\n",
              "           Não informado    154.936364\n",
              "Name: VB17004, dtype: float64"
            ]
          },
          "metadata": {
            "tags": []
          },
          "execution_count": 127
        }
      ]
    },
    {
      "cell_type": "markdown",
      "metadata": {
        "id": "wq6jqtpxLQRE"
      },
      "source": [
        "## DEsafio 11: Fazer o calculo da média por sexo e idade, através do crosstab\r\n"
      ]
    },
    {
      "cell_type": "code",
      "metadata": {
        "colab": {
          "base_uri": "https://localhost:8080/",
          "height": 142
        },
        "id": "_GZ6n3Oa9tBo",
        "outputId": "d5387e50-949a-4dba-e680-82b60c60ec65"
      },
      "source": [
        "sexo_idade = pd.crosstab(dados['VB01001'], dados['VB01003'],\r\n",
        "                         values= dados['VB17004'], aggfunc= 'mean', \r\n",
        "                         rownames=['Sexo'], colnames=['Idade'])\r\n",
        "sexo_idade.rename(index={1:'Masculino', 2:'Feminino'}, inplace=True)\r\n",
        "sexo_idade"
      ],
      "execution_count": 160,
      "outputs": [
        {
          "output_type": "execute_result",
          "data": {
            "text/html": [
              "<div>\n",
              "<style scoped>\n",
              "    .dataframe tbody tr th:only-of-type {\n",
              "        vertical-align: middle;\n",
              "    }\n",
              "\n",
              "    .dataframe tbody tr th {\n",
              "        vertical-align: top;\n",
              "    }\n",
              "\n",
              "    .dataframe thead th {\n",
              "        text-align: right;\n",
              "    }\n",
              "</style>\n",
              "<table border=\"1\" class=\"dataframe\">\n",
              "  <thead>\n",
              "    <tr style=\"text-align: right;\">\n",
              "      <th>Idade</th>\n",
              "      <th>11</th>\n",
              "      <th>12</th>\n",
              "      <th>13</th>\n",
              "      <th>14</th>\n",
              "      <th>15</th>\n",
              "      <th>16</th>\n",
              "      <th>17</th>\n",
              "      <th>18</th>\n",
              "      <th>19</th>\n",
              "    </tr>\n",
              "    <tr>\n",
              "      <th>Sexo</th>\n",
              "      <th></th>\n",
              "      <th></th>\n",
              "      <th></th>\n",
              "      <th></th>\n",
              "      <th></th>\n",
              "      <th></th>\n",
              "      <th></th>\n",
              "      <th></th>\n",
              "      <th></th>\n",
              "    </tr>\n",
              "  </thead>\n",
              "  <tbody>\n",
              "    <tr>\n",
              "      <th>Masculino</th>\n",
              "      <td>147.617753</td>\n",
              "      <td>153.696764</td>\n",
              "      <td>160.719801</td>\n",
              "      <td>166.406922</td>\n",
              "      <td>170.336297</td>\n",
              "      <td>172.424933</td>\n",
              "      <td>173.814341</td>\n",
              "      <td>173.024561</td>\n",
              "      <td>172.143158</td>\n",
              "    </tr>\n",
              "    <tr>\n",
              "      <th>Feminino</th>\n",
              "      <td>149.522512</td>\n",
              "      <td>154.965021</td>\n",
              "      <td>157.673105</td>\n",
              "      <td>159.340320</td>\n",
              "      <td>160.759848</td>\n",
              "      <td>160.386527</td>\n",
              "      <td>160.907937</td>\n",
              "      <td>159.438462</td>\n",
              "      <td>158.977193</td>\n",
              "    </tr>\n",
              "  </tbody>\n",
              "</table>\n",
              "</div>"
            ],
            "text/plain": [
              "Idade              11          12  ...          18          19\n",
              "Sexo                               ...                        \n",
              "Masculino  147.617753  153.696764  ...  173.024561  172.143158\n",
              "Feminino   149.522512  154.965021  ...  159.438462  158.977193\n",
              "\n",
              "[2 rows x 9 columns]"
            ]
          },
          "metadata": {
            "tags": []
          },
          "execution_count": 160
        }
      ]
    },
    {
      "cell_type": "code",
      "metadata": {
        "id": "zJYZM_ZUNkqs"
      },
      "source": [
        ""
      ],
      "execution_count": null,
      "outputs": []
    }
  ]
}